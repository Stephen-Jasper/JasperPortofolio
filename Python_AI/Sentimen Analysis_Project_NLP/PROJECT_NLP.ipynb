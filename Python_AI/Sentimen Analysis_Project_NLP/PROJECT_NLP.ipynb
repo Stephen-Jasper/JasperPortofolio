{
  "nbformat": 4,
  "nbformat_minor": 0,
  "metadata": {
    "colab": {
      "name": "PROJECT-NLP.ipynb",
      "provenance": [],
      "collapsed_sections": []
    },
    "kernelspec": {
      "name": "python3",
      "display_name": "Python 3"
    },
    "language_info": {
      "name": "python"
    },
    "accelerator": "GPU"
  },
  "cells": [
    {
      "cell_type": "markdown",
      "metadata": {
        "id": "Tc3bGeOG8zXa"
      },
      "source": [
        "# **Emotion Classification**\n",
        "\n",
        "*Natural Language Processing - Final Project*\n",
        "\n",
        "Group Member:\n",
        "\n",
        "\n",
        "1.   2301879274 - Armendo Chandra\n",
        "2.   2301869853 - Stephen Jasper\n",
        "3.   2301869784 - Yesika"
      ]
    },
    {
      "cell_type": "code",
      "metadata": {
        "id": "3rKOCMMR8rfF"
      },
      "source": [
        "import pandas as pd\n",
        "import numpy as np\n",
        "import re\n",
        "import matplotlib.pyplot as plt \n",
        "import seaborn as sns\n",
        "import nltk \n",
        "from nltk.corpus import stopwords\n",
        "from nltk.tokenize import word_tokenize\n",
        "import gensim.downloader as api\n",
        "from gensim.models import Word2Vec\n",
        "from tensorflow.keras.preprocessing.text import Tokenizer\n",
        "from tensorflow.keras.preprocessing.sequence import pad_sequences\n",
        "from tensorflow.keras.models import Sequential\n",
        "from tensorflow.keras.layers import Embedding, LSTM, Bidirectional, Dense, Dropout\n",
        "from tensorflow.keras.optimizers import Adam\n",
        "from tensorflow.keras.callbacks import EarlyStopping\n",
        "from sklearn import metrics\n",
        "from matplotlib.colors import LinearSegmentedColormap"
      ],
      "execution_count": 1,
      "outputs": []
    },
    {
      "cell_type": "markdown",
      "metadata": {
        "id": "RaNrx0qpgLlw"
      },
      "source": [
        "# Fungsi visualize_emotions untuk menampilkan jumlah data dari setiap dataset beserta detail klasifikasi emotion"
      ]
    },
    {
      "cell_type": "code",
      "metadata": {
        "id": "4nBZEjTm_6nS"
      },
      "source": [
        "def visualize_emotions(df, title):\n",
        "  # menghitung jumlah label pada kolom Emotions\n",
        "  num_labels = df['Emotions'].value_counts()\n",
        "\n",
        "  # jumlah kategori yang unik\n",
        "  x_barchart = range(df['Emotions'].nunique())\n",
        "  # membuat list dari jumlah label\n",
        "  y_barchart = list(num_labels.values)\n",
        "\n",
        "  # membuat list dari label masing-masing emotion\n",
        "  x_barchart_labels = [str(emotions_to_labels[emotion]) + ' - ' + emotion for emotion in list(num_labels.index)]\n",
        "\n",
        "  # membuat bar chart\n",
        "  plt.figure(figsize = (5, 4))\n",
        "  plt.bar(x_barchart, y_barchart, color='pink')\n",
        "\n",
        "  # menambahkan jumlah elemen dari setiap kategori emotion menjadi suatu text \n",
        "  for index, data in enumerate(y_barchart):\n",
        "    plt.text(x = index, y = data+max(y_barchart)/100, s = '{}'.format(data), fontdict = dict(fontsize=10), ha = 'center')\n",
        "  \n",
        "  plt.xticks(x_barchart, x_barchart_labels, rotation=40)\n",
        "  plt.title('Number of emotions in {} dataset'.format(title))\n",
        "  plt.tight_layout()\n",
        "  print('There are {} records in the dataset.\\n'.format(len(df.index)))\n",
        "  plt.show()"
      ],
      "execution_count": 2,
      "outputs": []
    },
    {
      "cell_type": "markdown",
      "metadata": {
        "id": "5xU7656Lgisb"
      },
      "source": [
        "# Fungsi text_preprocess untuk melakukan pembersihan data seperti menghilangkan karakter yang tidak membentuk kata, menghilangkan stop words, serta melakukan tokenisasi text"
      ]
    },
    {
      "cell_type": "code",
      "metadata": {
        "id": "85sms4yOBFKK"
      },
      "source": [
        "def text_preprocess(text, stop_words=False):\n",
        "  # menghilangkan kata yang non-words\n",
        "  text = re.sub(r'\\W+', ' ', text).lower()\n",
        "\n",
        "  # melakukan tokenisasi text\n",
        "  tokens = word_tokenize(text)\n",
        "\n",
        "  if stop_words:\n",
        "    # menghapus stop_words\n",
        "    tokens = [token for token in tokens if token not in STOPWORDS]\n",
        "  return tokens"
      ],
      "execution_count": 3,
      "outputs": []
    },
    {
      "cell_type": "markdown",
      "metadata": {
        "id": "OrGTFaL7jBIj"
      },
      "source": [
        "# Fungsi create_weight_matrix untuk membuat weight matrix yang akan digunakan untuk membuat model"
      ]
    },
    {
      "cell_type": "code",
      "metadata": {
        "id": "335hYHTZCw-h"
      },
      "source": [
        "def create_weight_matrix(model, second_model=False):\n",
        "  vector_size = model.get_vector('like').shape[0]\n",
        "  w_matrix = np.zeros((DICT_SIZE, vector_size))\n",
        "  skipped_words = []\n",
        "\n",
        "  for word, index in tokenizer.word_index.items():\n",
        "    if index < DICT_SIZE:\n",
        "      if word in model: \n",
        "        w_matrix[index] = model.get_vector(word)\n",
        "      else:\n",
        "        if second_model:\n",
        "          if word in second_model:\n",
        "            w_matrix[index] = second_model.get_vector(word)\n",
        "          else:\n",
        "            skipped_words.append(word)\n",
        "        else:\n",
        "          skipped_words.append(word)\n",
        " \n",
        "  print(f'{len(skipped_words)} words were skipped. Some of them:')\n",
        "  print(skipped_words[:50])\n",
        "  return w_matrix"
      ],
      "execution_count": 4,
      "outputs": []
    },
    {
      "cell_type": "markdown",
      "metadata": {
        "id": "Y1EromDnjY70"
      },
      "source": [
        "# Fungsi show_result untuk menampilkan hasil akurasi dan error"
      ]
    },
    {
      "cell_type": "code",
      "metadata": {
        "id": "Vk8hWXwgC9ax"
      },
      "source": [
        "def show_result(result):\n",
        "    accuracy = result.history['accuracy']\n",
        "    val_accuracy = result.history['val_accuracy']\n",
        "    loss = result.history['loss']\n",
        "    val_loss = result.history['val_loss']\n",
        "    \n",
        "    x = range(1, len(loss) + 1)\n",
        "\n",
        "    plt.figure(figsize=(15, 6))\n",
        "    plt.subplot(1, 2, 1)\n",
        "    plt.plot(x, accuracy, label='Training acc', color='red')\n",
        "    plt.plot(x, val_accuracy, label='Validation acc', color='blue')\n",
        "    plt.grid(True)\n",
        "    plt.legend()\n",
        "    plt.title('Accuracy')\n",
        "    \n",
        "    plt.subplot(1, 2, 2)\n",
        "    plt.plot(x, loss, label='Training loss', color='red')\n",
        "    plt.plot(x, val_loss, label='Validation loss', color='blue')\n",
        "    plt.grid(True)\n",
        "    plt.legend()\n",
        "    plt.title('Loss')"
      ],
      "execution_count": 5,
      "outputs": []
    },
    {
      "cell_type": "markdown",
      "metadata": {
        "id": "blPFhZIOjpW7"
      },
      "source": [
        "# Fungsi show_confusion_matrix untuk menampilkan korelasi antar-feature\n",
        "\n"
      ]
    },
    {
      "cell_type": "code",
      "metadata": {
        "id": "E_W6wfIxDUIB"
      },
      "source": [
        "def show_confusion_matrix(matrix):\n",
        "  plt.figure(figsize=(7, 5))\n",
        "  sns.heatmap(matrix, annot=True, xticklabels=emotions_to_labels.keys(), yticklabels=emotions_to_labels.keys())\n",
        "  plt.xlabel('Predicted labels')\n",
        "  plt.ylabel('True labels')\n",
        "  plt.show()"
      ],
      "execution_count": 6,
      "outputs": []
    },
    {
      "cell_type": "markdown",
      "metadata": {
        "id": "hWXu9_Dkj0k_"
      },
      "source": [
        "# Fungsi predict untuk melakukan prediksi terhadap data yang ingin diuji"
      ]
    },
    {
      "cell_type": "code",
      "metadata": {
        "id": "cmUBpexaDaBT"
      },
      "source": [
        "def predict(texts):\n",
        "  texts_prepr = [text_preprocess(t) for t in texts]\n",
        "  sequences = tokenizer.texts_to_sequences(texts_prepr)\n",
        "  pad = pad_sequences(sequences, maxlen=MAX_LEN)\n",
        "\n",
        "  predictions = model.predict(pad)\n",
        "  labels = np.argmax(predictions, axis=1)\n",
        "  \n",
        "  for i, lbl in enumerate(labels):\n",
        "    print(f'\\'{texts[i]}\\' show {labels_to_emotions[lbl]} emotion')"
      ],
      "execution_count": 7,
      "outputs": []
    },
    {
      "cell_type": "markdown",
      "metadata": {
        "id": "3hN8X-aNkXCD"
      },
      "source": [
        "# Main"
      ]
    },
    {
      "cell_type": "markdown",
      "metadata": {
        "id": "_d1_Ye0hkB51"
      },
      "source": [
        "Mengimport dataset train.txt, test.txt, dan val.txt"
      ]
    },
    {
      "cell_type": "code",
      "metadata": {
        "id": "iJxwqS_n9jga"
      },
      "source": [
        "train = pd.read_csv('train.txt', sep=';', header= None, names= ['Sentences','Emotions'], encoding= 'utf-8')\n",
        "test = pd.read_csv('test.txt', sep =';', header= None, names= ['Sentences','Emotions'], encoding= 'utf-8')\n",
        "validation = pd.read_csv('val.txt', sep=';', header= None, names= ['Sentences','Emotions'], encoding= 'utf-8')"
      ],
      "execution_count": 8,
      "outputs": []
    },
    {
      "cell_type": "markdown",
      "metadata": {
        "id": "KgJ1VGa2kgZR"
      },
      "source": [
        "Membuat label encoder untuk klasifikasi emosi dan membuat kolom baru untuk label"
      ]
    },
    {
      "cell_type": "code",
      "metadata": {
        "id": "F1cKdgGz_C9K"
      },
      "source": [
        "# emotions_to_labels = {'anger': 0, 'love': 1, 'fear': 2, 'joy': 3, 'sadness': 4,'surprise': 5}\n",
        "emotions_to_labels = {'joy': 0, 'sadness': 1, 'anger': 2, 'fear': 3, 'love': 4,'surprise': 5}\n",
        "labels_to_emotions = {j:i for i,j in emotions_to_labels.items()}\n",
        "\n",
        "train['Labels'] = train['Emotions'].replace(emotions_to_labels)\n",
        "test['Labels'] = test['Emotions'].replace(emotions_to_labels)\n",
        "validation['Labels'] = validation['Emotions'].replace(emotions_to_labels)"
      ],
      "execution_count": 9,
      "outputs": []
    },
    {
      "cell_type": "markdown",
      "metadata": {
        "id": "JxUZKt0Lk3xU"
      },
      "source": [
        "Melakukan visualisasi data menggunakan fungsi visualize_emotions"
      ]
    },
    {
      "cell_type": "code",
      "metadata": {
        "colab": {
          "base_uri": "https://localhost:8080/",
          "height": 968
        },
        "id": "MNCGrGQ0AxjK",
        "outputId": "75658e7d-e9fb-4443-9ceb-46d82f1eb6cf"
      },
      "source": [
        "visualize_emotions(train, 'train')\n",
        "visualize_emotions(test, 'test')\n",
        "visualize_emotions(validation, 'val')"
      ],
      "execution_count": 10,
      "outputs": [
        {
          "output_type": "stream",
          "text": [
            "There are 16000 records in the dataset.\n",
            "\n"
          ],
          "name": "stdout"
        },
        {
          "output_type": "display_data",
          "data": {
            "image/png": "[encoded data removed]",
            "text/plain": [
              "<Figure size 360x288 with 1 Axes>"
            ]
          },
          "metadata": {
            "tags": [],
            "needs_background": "light"
          }
        },
        {
          "output_type": "stream",
          "text": [
            "There are 2000 records in the dataset.\n",
            "\n"
          ],
          "name": "stdout"
        },
        {
          "output_type": "display_data",
          "data": {
            "image/png": "[encoded data removed]",
            "text/plain": [
              "<Figure size 360x288 with 1 Axes>"
            ]
          },
          "metadata": {
            "tags": [],
            "needs_background": "light"
          }
        },
        {
          "output_type": "stream",
          "text": [
            "There are 2000 records in the dataset.\n",
            "\n"
          ],
          "name": "stdout"
        },
        {
          "output_type": "display_data",
          "data": {
            "image/png": "[encoded data removed]",
            "text/plain": [
              "<Figure size 360x288 with 1 Axes>"
            ]
          },
          "metadata": {
            "tags": [],
            "needs_background": "light"
          }
        }
      ]
    },
    {
      "cell_type": "markdown",
      "metadata": {
        "id": "IrF_lcmEk-Kz"
      },
      "source": [
        "Mendownload 'punkt', 'stopwords', dan set of stop-words"
      ]
    },
    {
      "cell_type": "code",
      "metadata": {
        "colab": {
          "base_uri": "https://localhost:8080/"
        },
        "id": "gDCfCfybA5pZ",
        "outputId": "92c8f614-f7c9-4a40-e48c-8f182e6dd584"
      },
      "source": [
        "nltk.download('punkt')\n",
        "nltk.download('stopwords')\n",
        "STOPWORDS = set(stopwords.words('english'))"
      ],
      "execution_count": 11,
      "outputs": [
        {
          "output_type": "stream",
          "text": [
            "[nltk_data] Downloading package punkt to /root/nltk_data...\n",
            "[nltk_data]   Package punkt is already up-to-date!\n",
            "[nltk_data] Downloading package stopwords to /root/nltk_data...\n",
            "[nltk_data]   Package stopwords is already up-to-date!\n"
          ],
          "name": "stdout"
        }
      ]
    },
    {
      "cell_type": "markdown",
      "metadata": {
        "id": "6-mbZi_qmBnh"
      },
      "source": [
        "Melakukan preprocessing data untuk training, testing, dan validation"
      ]
    },
    {
      "cell_type": "code",
      "metadata": {
        "id": "X7eoF4NCBuGJ"
      },
      "source": [
        "x_train = [text_preprocess(t, stop_words=True) for t in train['Sentences']]\n",
        "y_train = train['Labels'].values\n",
        "\n",
        "x_test = [text_preprocess(t, stop_words=True) for t in test['Sentences']]\n",
        "y_test = test['Labels'].values\n",
        "\n",
        "x_validation = [text_preprocess(t, stop_words=True) for t in validation['Sentences']]\n",
        "y_validation = validation['Labels'].values"
      ],
      "execution_count": 12,
      "outputs": []
    },
    {
      "cell_type": "markdown",
      "metadata": {
        "id": "znYGeEkrlWxK"
      },
      "source": [
        "Berikut ini adalah data sebelum dan sesudah preprocessing"
      ]
    },
    {
      "cell_type": "code",
      "metadata": {
        "colab": {
          "base_uri": "https://localhost:8080/"
        },
        "id": "yrUfn0JiBMsk",
        "outputId": "d84be366-4ac3-44d8-9830-11d4b83af928"
      },
      "source": [
        "print('Before: ')\n",
        "print(train.head())\n",
        "print('\\nAfter:')\n",
        "for line_and_label in list(zip(x_train[:5], y_train[:5])):\n",
        "  print(line_and_label)"
      ],
      "execution_count": 13,
      "outputs": [
        {
          "output_type": "stream",
          "text": [
            "Before: \n",
            "                                           Sentences Emotions  Labels\n",
            "0                            i didnt feel humiliated  sadness       1\n",
            "1  i can go from feeling so hopeless to so damned...  sadness       1\n",
            "2   im grabbing a minute to post i feel greedy wrong    anger       2\n",
            "3  i am ever feeling nostalgic about the fireplac...     love       4\n",
            "4                               i am feeling grouchy    anger       2\n",
            "\n",
            "After:\n",
            "(['didnt', 'feel', 'humiliated'], 1)\n",
            "(['go', 'feeling', 'hopeless', 'damned', 'hopeful', 'around', 'someone', 'cares', 'awake'], 1)\n",
            "(['im', 'grabbing', 'minute', 'post', 'feel', 'greedy', 'wrong'], 2)\n",
            "(['ever', 'feeling', 'nostalgic', 'fireplace', 'know', 'still', 'property'], 4)\n",
            "(['feeling', 'grouchy'], 2)\n"
          ],
          "name": "stdout"
        }
      ]
    },
    {
      "cell_type": "markdown",
      "metadata": {
        "id": "o7B2AssilmqL"
      },
      "source": [
        "Memuat pre-trained model"
      ]
    },
    {
      "cell_type": "code",
      "metadata": {
        "id": "_Z_3z3LjB_eI"
      },
      "source": [
        "model_wiki = api.load('fasttext-wiki-news-subwords-300')"
      ],
      "execution_count": 14,
      "outputs": []
    },
    {
      "cell_type": "markdown",
      "metadata": {
        "id": "3aYbTMbGmmaq"
      },
      "source": [
        "Memuat word2vec model"
      ]
    },
    {
      "cell_type": "code",
      "metadata": {
        "id": "JZ5jaKxjCIQR"
      },
      "source": [
        "model_w2v = Word2Vec(x_train + x_test + x_validation, size=300, min_count = 2).wv  "
      ],
      "execution_count": 15,
      "outputs": []
    },
    {
      "cell_type": "markdown",
      "metadata": {
        "id": "hBKBTRyOms4i"
      },
      "source": [
        "Membuat corpus yang berisi kata yang sering digunakan"
      ]
    },
    {
      "cell_type": "code",
      "metadata": {
        "id": "cgKzwxm8CZnx"
      },
      "source": [
        "DICT_SIZE = 15000\n",
        "tokenizer = Tokenizer(num_words=DICT_SIZE)\n",
        "total = x_train + x_train + x_validation\n",
        "tokenizer.fit_on_texts(total)"
      ],
      "execution_count": 16,
      "outputs": []
    },
    {
      "cell_type": "markdown",
      "metadata": {
        "id": "e3ZpFWFqnOPD"
      },
      "source": [
        "Mencari panjang maksimum dari kalimat yang ada didalam dataset"
      ]
    },
    {
      "cell_type": "code",
      "metadata": {
        "id": "t81YIQ_kCeRS"
      },
      "source": [
        "x_train_max_len = max([len(i) for i in x_train])\n",
        "x_test_max_len = max([len(i) for i in x_test])\n",
        "x_validation_max_len = max([len(i) for i in x_validation])\n",
        "MAX_LEN = max(x_train_max_len, x_test_max_len, x_validation_max_len)"
      ],
      "execution_count": 17,
      "outputs": []
    },
    {
      "cell_type": "markdown",
      "metadata": {
        "id": "u-zzsJqbnZ7u"
      },
      "source": [
        "Mereplace kata dengan indexnya dan mengganti ukuran vector menjadi panjang maksimum dan pad index"
      ]
    },
    {
      "cell_type": "code",
      "metadata": {
        "id": "uk5AakB_Clou"
      },
      "source": [
        "X_train = tokenizer.texts_to_sequences(x_train)\n",
        "X_train_pad = pad_sequences(X_train, maxlen=MAX_LEN)\n",
        "\n",
        "X_test = tokenizer.texts_to_sequences(x_test)\n",
        "X_test_pad = pad_sequences(X_test, maxlen=MAX_LEN)\n",
        "\n",
        "X_val = tokenizer.texts_to_sequences(x_validation)\n",
        "X_val_pad = pad_sequences(X_val, maxlen=MAX_LEN)"
      ],
      "execution_count": 18,
      "outputs": []
    },
    {
      "cell_type": "markdown",
      "metadata": {
        "id": "LApyzjFlnxaa"
      },
      "source": [
        "Membuat weight matrix menggunakan fungsi create_weight_matrix"
      ]
    },
    {
      "cell_type": "code",
      "metadata": {
        "colab": {
          "base_uri": "https://localhost:8080/"
        },
        "id": "Nz1GWsJ9Cy1y",
        "outputId": "f76f46d8-85b7-4266-da11-897cd7ba7770"
      },
      "source": [
        "weight_matrix = create_weight_matrix(model_wiki, model_w2v)"
      ],
      "execution_count": 19,
      "outputs": [
        {
          "output_type": "stream",
          "text": [
            "991 words were skipped. Some of them:\n",
            "['jacynthe', 'rupaul', 'kayle', 'gerling', 'mxm', 'dannika', 'hyperchondria', 'manitz', 'educationg', 'gosman', 'montauk', 'bummin', 'wheeeeee', 'underwears', 'olivias', 'bandhu', 'uplifter', 'suicidalness', 'dykey', 'provokingbeauty', 'bodypump', 'honkerblonked', 'clermont', 'instructables', 'janne', 'suominen', 'kamiki', 'nozomi', 'nonchan', 'beaubronz', 'docrat', 'allthingsbucks', 'irresponcible', 'scruncher', 'utf', 'isprivate', 'ismobile', 'mobileclass', 'isprivateblog', 'languagedirection', 'feedlinks', 'lorena', 'handss', 'nervs', 'mommyhood', 'nowwwwww', 'whitleys', 'forelorn', 'baachan', 'covingtons']\n"
          ],
          "name": "stdout"
        }
      ]
    },
    {
      "cell_type": "markdown",
      "metadata": {
        "id": "uqhB9H50n50i"
      },
      "source": [
        "Menginisialisasi early stopping"
      ]
    },
    {
      "cell_type": "code",
      "metadata": {
        "id": "9yEfgkjFC2ZE"
      },
      "source": [
        "early_stop = EarlyStopping(monitor='val_loss', mode='min', verbose=1, patience=3)"
      ],
      "execution_count": 20,
      "outputs": []
    },
    {
      "cell_type": "markdown",
      "metadata": {
        "id": "PZUNBuVYoBNb"
      },
      "source": [
        "Membuat model sequential"
      ]
    },
    {
      "cell_type": "code",
      "metadata": {
        "id": "YXYHatKiC35I"
      },
      "source": [
        "model = Sequential()\n",
        "model.add(Embedding(input_dim = DICT_SIZE, output_dim = weight_matrix.shape[1], input_length = X_train_pad.shape[1], weights=[weight_matrix], trainable=False)) \n",
        "model.add(Bidirectional(LSTM(128, return_sequences=True))) \n",
        "model.add(Dropout(0.2))\n",
        "model.add(Bidirectional(LSTM(256, return_sequences=True)))\n",
        "model.add(Dropout(0.2))\n",
        "model.add(Bidirectional(LSTM(128, return_sequences=False)))\n",
        "model.add(Dense(6, activation = 'softmax'))\n",
        "model.compile(loss='sparse_categorical_crossentropy', optimizer='adam', metrics='accuracy')"
      ],
      "execution_count": 21,
      "outputs": []
    },
    {
      "cell_type": "markdown",
      "metadata": {
        "id": "b68OujjToGzK"
      },
      "source": [
        "Melakukn training data sebanyak 10 epochs menggunakan model sequential yang telah dibuat"
      ]
    },
    {
      "cell_type": "code",
      "metadata": {
        "colab": {
          "base_uri": "https://localhost:8080/"
        },
        "id": "UkSWMCYpC7Y4",
        "outputId": "afe7f55b-4060-4bbe-d7dd-a37772ace6df"
      },
      "source": [
        "result = model.fit(X_train_pad, y_train, validation_data = (X_val_pad, y_validation), epochs = 10, batch_size = 8, callbacks = early_stop)"
      ],
      "execution_count": 22,
      "outputs": [
        {
          "output_type": "stream",
          "text": [
            "Epoch 1/10\n",
            "2000/2000 [==============================] - 49s 20ms/step - loss: 0.9058 - accuracy: 0.6687 - val_loss: 0.4270 - val_accuracy: 0.8455\n",
            "Epoch 2/10\n",
            "2000/2000 [==============================] - 39s 19ms/step - loss: 0.2532 - accuracy: 0.9057 - val_loss: 0.1780 - val_accuracy: 0.9235\n",
            "Epoch 3/10\n",
            "2000/2000 [==============================] - 39s 19ms/step - loss: 0.1614 - accuracy: 0.9308 - val_loss: 0.1541 - val_accuracy: 0.9320\n",
            "Epoch 4/10\n",
            "2000/2000 [==============================] - 38s 19ms/step - loss: 0.1384 - accuracy: 0.9354 - val_loss: 0.1201 - val_accuracy: 0.9405\n",
            "Epoch 5/10\n",
            "2000/2000 [==============================] - 38s 19ms/step - loss: 0.1262 - accuracy: 0.9364 - val_loss: 0.1392 - val_accuracy: 0.9260\n",
            "Epoch 6/10\n",
            "2000/2000 [==============================] - 39s 19ms/step - loss: 0.1146 - accuracy: 0.9394 - val_loss: 0.1279 - val_accuracy: 0.9305\n",
            "Epoch 7/10\n",
            "2000/2000 [==============================] - 39s 20ms/step - loss: 0.1065 - accuracy: 0.9428 - val_loss: 0.1130 - val_accuracy: 0.9410\n",
            "Epoch 8/10\n",
            "2000/2000 [==============================] - 39s 19ms/step - loss: 0.1059 - accuracy: 0.9432 - val_loss: 0.1144 - val_accuracy: 0.9350\n",
            "Epoch 9/10\n",
            "2000/2000 [==============================] - 39s 19ms/step - loss: 0.1008 - accuracy: 0.9476 - val_loss: 0.1143 - val_accuracy: 0.9400\n",
            "Epoch 10/10\n",
            "2000/2000 [==============================] - 39s 20ms/step - loss: 0.0936 - accuracy: 0.9495 - val_loss: 0.1105 - val_accuracy: 0.9430\n"
          ],
          "name": "stdout"
        }
      ]
    },
    {
      "cell_type": "markdown",
      "metadata": {
        "id": "BX6DpbBpoYwK"
      },
      "source": [
        "Menampilkan hasil akurasi dan error dari proses training menggunakan fungsi show_result"
      ]
    },
    {
      "cell_type": "code",
      "metadata": {
        "colab": {
          "base_uri": "https://localhost:8080/",
          "height": 390
        },
        "id": "Xfp2hfVnC_35",
        "outputId": "4b76314d-b915-4d6b-f280-a9f3a5dba699"
      },
      "source": [
        "show_result(result)"
      ],
      "execution_count": 23,
      "outputs": [
        {
          "output_type": "display_data",
          "data": {
            "image/png": "[encoded data removed]",
            "text/plain": [
              "<Figure size 1080x432 with 2 Axes>"
            ]
          },
          "metadata": {
            "tags": [],
            "needs_background": "light"
          }
        }
      ]
    },
    {
      "cell_type": "markdown",
      "metadata": {
        "id": "TdKD1uh1ofHB"
      },
      "source": [
        "Melakukan evaluasi data menggunakan model sequential yang telah dibuat "
      ]
    },
    {
      "cell_type": "code",
      "metadata": {
        "colab": {
          "base_uri": "https://localhost:8080/"
        },
        "id": "-BR1S8WgDMei",
        "outputId": "3940ed49-ee53-44e8-da2f-8bf778afbf19"
      },
      "source": [
        "model.evaluate(X_test_pad, y_test) "
      ],
      "execution_count": 24,
      "outputs": [
        {
          "output_type": "stream",
          "text": [
            "63/63 [==============================] - 3s 13ms/step - loss: 0.1459 - accuracy: 0.9235\n"
          ],
          "name": "stdout"
        },
        {
          "output_type": "execute_result",
          "data": {
            "text/plain": [
              "[0.14591927826404572, 0.9235000014305115]"
            ]
          },
          "metadata": {
            "tags": []
          },
          "execution_count": 24
        }
      ]
    },
    {
      "cell_type": "markdown",
      "metadata": {
        "id": "lOJv0HTgoq3Z"
      },
      "source": [
        "Melakukan prediksi pada testing data dan menampilkan classification report"
      ]
    },
    {
      "cell_type": "code",
      "metadata": {
        "colab": {
          "base_uri": "https://localhost:8080/"
        },
        "id": "4vCcJba7DOGJ",
        "outputId": "afa4cf07-338c-4646-81ac-ab9603fe1d63"
      },
      "source": [
        "y_pred = np.argmax(model.predict(X_test_pad), axis=1)\n",
        "print(metrics.classification_report(y_test, y_pred))"
      ],
      "execution_count": 25,
      "outputs": [
        {
          "output_type": "stream",
          "text": [
            "              precision    recall  f1-score   support\n",
            "\n",
            "           0       0.93      0.96      0.95       695\n",
            "           1       0.95      0.98      0.97       581\n",
            "           2       0.98      0.88      0.93       275\n",
            "           3       0.85      0.89      0.87       224\n",
            "           4       0.83      0.81      0.82       159\n",
            "           5       0.79      0.64      0.71        66\n",
            "\n",
            "    accuracy                           0.92      2000\n",
            "   macro avg       0.89      0.86      0.87      2000\n",
            "weighted avg       0.92      0.92      0.92      2000\n",
            "\n"
          ],
          "name": "stdout"
        }
      ]
    },
    {
      "cell_type": "markdown",
      "metadata": {
        "id": "s61x86pspN4q"
      },
      "source": [
        "Menampilkan confusion matrix menggunakan fungsi show_confusion_matrix"
      ]
    },
    {
      "cell_type": "code",
      "metadata": {
        "colab": {
          "base_uri": "https://localhost:8080/",
          "height": 334
        },
        "id": "QdS2l7CYDVyR",
        "outputId": "9eb76415-69cd-4e01-849c-ac3568a35575"
      },
      "source": [
        "matrix = metrics.confusion_matrix(y_test, y_pred)\n",
        "show_confusion_matrix(matrix)"
      ],
      "execution_count": 26,
      "outputs": [
        {
          "output_type": "display_data",
          "data": {
            "image/png": "[encoded data removed]",
            "text/plain": [
              "<Figure size 504x360 with 2 Axes>"
            ]
          },
          "metadata": {
            "tags": [],
            "needs_background": "light"
          }
        }
      ]
    },
    {
      "cell_type": "markdown",
      "metadata": {
        "id": "z2jC3VOtpb1F"
      },
      "source": [
        "Melakukan uji coba untuk model sequential yang telah dibuat"
      ]
    },
    {
      "cell_type": "code",
      "metadata": {
        "colab": {
          "base_uri": "https://localhost:8080/"
        },
        "id": "SO8ds1kkDdNR",
        "outputId": "3c1e61af-4845-4595-87fd-5d5a4dd33a8c"
      },
      "source": [
        "test_texts = ['i mad at you because you left me suddenly', 'i feel his supportive arms', 'i am scared of snake', 'after all of the sadness, i am happy to see you smile', 'i just lost my phone', 'she feels shocked and wondering what is happening now']\n",
        "predict(test_texts)"
      ],
      "execution_count": 37,
      "outputs": [
        {
          "output_type": "stream",
          "text": [
            "'i mad at you because you left me suddenly' show anger emotion\n",
            "'i feel his supportive arms' show love emotion\n",
            "'i am scared of snake' show fear emotion\n",
            "'after all of the sadness, i am happy to see you smile' show joy emotion\n",
            "'i just lost my phone' show sadness emotion\n",
            "'she feels shocked and wondering what is happening now' show surprise emotion\n"
          ],
          "name": "stdout"
        }
      ]
    }
  ]
}