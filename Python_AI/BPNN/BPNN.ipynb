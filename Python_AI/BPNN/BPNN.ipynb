{
  "nbformat": 4,
  "nbformat_minor": 0,
  "metadata": {
    "colab": {
      "name": "UTS[3].ipynb",
      "provenance": [],
      "toc_visible": true
    },
    "kernelspec": {
      "name": "python3",
      "display_name": "Python 3"
    },
    "language_info": {
      "name": "python"
    }
  },
  "cells": [
    {
      "cell_type": "markdown",
      "metadata": {
        "id": "_uIOh4vXRRrR"
      },
      "source": [
        "##Import Library"
      ]
    },
    {
      "cell_type": "code",
      "metadata": {
        "colab": {
          "base_uri": "https://localhost:8080/"
        },
        "id": "y-Tr3lbga2QC",
        "outputId": "21fe9671-dd93-4236-9b11-b925a27dbdf6"
      },
      "source": [
        "import tensorflow.compat.v1 as tf \n",
        "tf.disable_v2_behavior()\n",
        "import pandas as pd\n",
        "import numpy as np\n",
        "from sklearn.preprocessing import OneHotEncoder, MinMaxScaler\n",
        "from sklearn.model_selection import train_test_split\n",
        "from sklearn.datasets import load_digits\n",
        "from sklearn import metrics\n",
        "import seaborn as sn\n",
        "import matplotlib.pyplot as plt"
      ],
      "execution_count": null,
      "outputs": [
        {
          "output_type": "stream",
          "text": [
            "WARNING:tensorflow:From /usr/local/lib/python3.7/dist-packages/tensorflow/python/compat/v2_compat.py:96: disable_resource_variables (from tensorflow.python.ops.variable_scope) is deprecated and will be removed in a future version.\n",
            "Instructions for updating:\n",
            "non-resource variables are not supported in the long term\n"
          ],
          "name": "stdout"
        }
      ]
    },
    {
      "cell_type": "markdown",
      "metadata": {
        "id": "hbi0HLMlRj70"
      },
      "source": [
        "##Load Dataset"
      ]
    },
    {
      "cell_type": "code",
      "metadata": {
        "id": "qofABuorbBEP"
      },
      "source": [
        "def loadDataset():\n",
        "    data = load_digits()\n",
        "    feature = data['data']\n",
        "    y_data = data['target']\n",
        "\n",
        "    return feature, y_data"
      ],
      "execution_count": null,
      "outputs": []
    },
    {
      "cell_type": "code",
      "metadata": {
        "id": "4qHKHjXbBQrB"
      },
      "source": [
        "feature, label = loadDataset()"
      ],
      "execution_count": null,
      "outputs": []
    },
    {
      "cell_type": "markdown",
      "metadata": {
        "id": "-sZLD9mPNRPK"
      },
      "source": [
        "##Pre-Processing"
      ]
    },
    {
      "cell_type": "markdown",
      "metadata": {
        "id": "OZyeDDMLA2e1"
      },
      "source": [
        "feature pre-processing using MinMaxScaler"
      ]
    },
    {
      "cell_type": "code",
      "metadata": {
        "id": "5lDmT8PbNQS9"
      },
      "source": [
        "feature = feature.reshape((len(feature), -1))\n",
        "scaler = MinMaxScaler()\n",
        "feature = scaler.fit_transform(feature)"
      ],
      "execution_count": null,
      "outputs": []
    },
    {
      "cell_type": "markdown",
      "metadata": {
        "id": "OGLEZeiqA5xj"
      },
      "source": [
        "Label/Target Pre-processing using OneHotEncoder"
      ]
    },
    {
      "cell_type": "code",
      "metadata": {
        "id": "kQKsf7qPBC11"
      },
      "source": [
        "label = label.reshape(label.shape[0],-1)\n",
        "encoder = OneHotEncoder(sparse=False)\n",
        "label = encoder.fit_transform(label)"
      ],
      "execution_count": null,
      "outputs": []
    },
    {
      "cell_type": "markdown",
      "metadata": {
        "id": "AD46WHI_RnF7"
      },
      "source": [
        "##Split data with 80% training data and 20% test data"
      ]
    },
    {
      "cell_type": "code",
      "metadata": {
        "id": "1Pf4cF3kbHKf"
      },
      "source": [
        "x_train, x_test, y_train, y_test = train_test_split(feature, label, test_size = 0.2)"
      ],
      "execution_count": null,
      "outputs": []
    },
    {
      "cell_type": "markdown",
      "metadata": {
        "id": "yaoMT0y_SGSP"
      },
      "source": [
        "**Initialize input, hidden and output layer. And input weight and bias with random**"
      ]
    },
    {
      "cell_type": "code",
      "metadata": {
        "id": "TT7lRccWcSmX"
      },
      "source": [
        "#Construct the neural network\n",
        "layer = {\n",
        "    \"input\": 64,\n",
        "    \"hidden\": 10,\n",
        "    \"output\": 10\n",
        "}\n",
        "\n",
        "weight = {\n",
        "    \"w_hidden\": tf.Variable(tf.random_normal([layer['input'], layer['hidden']])),\n",
        "    \"w_output\": tf.Variable(tf.random_normal([layer['hidden'], layer['output']]))\n",
        "}\n",
        "\n",
        "bias = {\n",
        "    'b_hidden': tf.Variable(tf.random_normal([layer['hidden']])),\n",
        "    'b_output': tf.Variable(tf.random_normal([layer['output']]))\n",
        "}"
      ],
      "execution_count": null,
      "outputs": []
    },
    {
      "cell_type": "markdown",
      "metadata": {
        "id": "ftWPUrGvSntF"
      },
      "source": [
        "Use 50.000 epoch and 0.5 learning rate"
      ]
    },
    {
      "cell_type": "code",
      "metadata": {
        "id": "B5oAnDYySlAy"
      },
      "source": [
        "learning_rate = 0.5\n",
        "epoch = 50000"
      ],
      "execution_count": null,
      "outputs": []
    },
    {
      "cell_type": "markdown",
      "metadata": {
        "id": "Wc6BLTGFVdQp"
      },
      "source": [
        "##Build Model with BPNN using sigmoid function"
      ]
    },
    {
      "cell_type": "code",
      "metadata": {
        "id": "QfniwJkgcTSV"
      },
      "source": [
        "input_tensor = tf.placeholder(tf.float32, [None, layer['input']])\n",
        "label_tensor = tf.placeholder(tf.float32, [None, layer['output']])"
      ],
      "execution_count": null,
      "outputs": []
    },
    {
      "cell_type": "code",
      "metadata": {
        "id": "NZLGexvJcU-P"
      },
      "source": [
        "def forward_pass():\n",
        "    a1 = tf.matmul(input_tensor, weight['w_hidden']) + bias['b_hidden']\n",
        "    z1 = tf.nn.sigmoid(a1)\n",
        "    a2 = tf.matmul(z1, weight['w_output']) + bias['b_output']\n",
        "    z2 = tf.nn.sigmoid(a2)\n",
        "    return z2"
      ],
      "execution_count": null,
      "outputs": []
    },
    {
      "cell_type": "code",
      "metadata": {
        "id": "_NbxXN_ScWpt"
      },
      "source": [
        "output = forward_pass()\n",
        "error = tf.reduce_mean(.5*(label_tensor-output)**2)\n",
        "train = tf.train.GradientDescentOptimizer(learning_rate).minimize(error)"
      ],
      "execution_count": null,
      "outputs": []
    },
    {
      "cell_type": "markdown",
      "metadata": {
        "id": "Apref7-vgRg_"
      },
      "source": [
        "Calculating BPNN with sess"
      ]
    },
    {
      "cell_type": "code",
      "metadata": {
        "colab": {
          "base_uri": "https://localhost:8080/"
        },
        "id": "9jn1M6zlcYXC",
        "outputId": "fb4ff22f-0def-415c-e463-095bd0e30eb9"
      },
      "source": [
        "ActualData = []\n",
        "PredictionData = []\n",
        "with tf.Session() as sess:\n",
        "    sess.run(tf.global_variables_initializer())\n",
        "\n",
        "    for i in range(epoch+1):\n",
        "        sess.run(train, feed_dict = {\n",
        "            input_tensor: x_train, \n",
        "            label_tensor: y_train\n",
        "        })\n",
        "\n",
        "        if i % 10000 == 0:\n",
        "            true_predict = tf.equal(tf.argmax(output, axis = 1), tf.argmax(label_tensor, axis = 1))\n",
        "            prediction = tf.argmax(output, axis = 1)\n",
        "            accuracy = tf.reduce_mean(tf.cast(true_predict, tf.float32))\n",
        "            prediction = sess.run(prediction, feed_dict = {\n",
        "                input_tensor: x_test,\n",
        "                label_tensor: y_test\n",
        "            })\n",
        "            acc1 =  sess.run(accuracy, feed_dict = {\n",
        "                input_tensor: x_train,\n",
        "                label_tensor: y_train\n",
        "            })\n",
        "            acc2 =  sess.run(accuracy, feed_dict = {\n",
        "                input_tensor: x_test,\n",
        "                label_tensor: y_test\n",
        "            })\n",
        "            ActualData.append(acc1)\n",
        "            PredictionData.append(acc2)\n",
        "            print(f'Epoch: {i},  Accuracy: {acc2*100}%')"
      ],
      "execution_count": null,
      "outputs": [
        {
          "output_type": "stream",
          "text": [
            "Epoch: 0,  Accuracy: 9.72222238779068%\n",
            "Epoch: 10000,  Accuracy: 46.666666865348816%\n",
            "Epoch: 20000,  Accuracy: 64.99999761581421%\n",
            "Epoch: 30000,  Accuracy: 75.83333253860474%\n",
            "Epoch: 40000,  Accuracy: 81.11110925674438%\n",
            "Epoch: 50000,  Accuracy: 81.66666626930237%\n"
          ],
          "name": "stdout"
        }
      ]
    },
    {
      "cell_type": "markdown",
      "metadata": {
        "id": "npmTKfo1TK2D"
      },
      "source": [
        "##Validation Curve"
      ]
    },
    {
      "cell_type": "markdown",
      "metadata": {
        "id": "emayM-Z8TOLA"
      },
      "source": [
        "To see how close the result between actual data with predict data"
      ]
    },
    {
      "cell_type": "code",
      "metadata": {
        "colab": {
          "base_uri": "https://localhost:8080/",
          "height": 294
        },
        "id": "mIOPwZ_Lc4ub",
        "outputId": "085dcd9c-a081-4519-c259-95de88afdb4b"
      },
      "source": [
        "plt.plot(ActualData, 'red')\n",
        "plt.plot(PredictionData, 'blue')\n",
        "plt.title('Validation Curve')\n",
        "plt.xlabel('Epoch')\n",
        "plt.ylabel('Value')\n",
        "plt.show()"
      ],
      "execution_count": null,
      "outputs": [
        {
          "output_type": "display_data",
          "data": {
            "image/png": "[encoded data removed]",
            "text/plain": [
              "<Figure size 432x288 with 1 Axes>"
            ]
          },
          "metadata": {
            "tags": [],
            "needs_background": "light"
          }
        }
      ]
    },
    {
      "cell_type": "markdown",
      "metadata": {
        "id": "GOcjVE7cS7tf"
      },
      "source": [
        "##Confusion Matrix"
      ]
    },
    {
      "cell_type": "markdown",
      "metadata": {
        "id": "DRKU7ia7fktN"
      },
      "source": [
        "To change the multi-class from \"y_test\", and convert to int for confusion matrix"
      ]
    },
    {
      "cell_type": "code",
      "metadata": {
        "id": "msM2p-jnc7dk"
      },
      "source": [
        "feature = [0, 1, 2, 3, 4, 5, 6, 7, 8, 9]\n",
        "y_test = y_test.dot(feature).astype(int)"
      ],
      "execution_count": null,
      "outputs": []
    },
    {
      "cell_type": "markdown",
      "metadata": {
        "id": "zna911v7Xm3S"
      },
      "source": [
        "**Visualize the confusion matrix**"
      ]
    },
    {
      "cell_type": "code",
      "metadata": {
        "id": "2DBJiZ8_dAM_",
        "colab": {
          "base_uri": "https://localhost:8080/",
          "height": 592
        },
        "outputId": "c749a971-50f0-4794-fee4-141c79cc4115"
      },
      "source": [
        "confusionMatrix = metrics.confusion_matrix(y_test, prediction)\n",
        "df_cm = pd.DataFrame(confusionMatrix, range(10), range(10))\n",
        "plt.figure(figsize=(13,10))\n",
        "sn.heatmap(df_cm, annot=True)\n",
        "plt.show()"
      ],
      "execution_count": null,
      "outputs": [
        {
          "output_type": "display_data",
          "data": {
            "image/png": "[encoded data removed]",
            "text/plain": [
              "<Figure size 936x720 with 2 Axes>"
            ]
          },
          "metadata": {
            "tags": [],
            "needs_background": "light"
          }
        }
      ]
    }
  ]
}