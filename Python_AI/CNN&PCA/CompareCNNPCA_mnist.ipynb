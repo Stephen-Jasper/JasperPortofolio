{
  "nbformat": 4,
  "nbformat_minor": 0,
  "metadata": {
    "colab": {
      "name": "UAS-ANN[1]CNN+PCA-mnist.ipynb",
      "provenance": [],
      "collapsed_sections": []
    },
    "kernelspec": {
      "name": "python3",
      "display_name": "Python 3"
    },
    "language_info": {
      "name": "python"
    },
    "accelerator": "GPU"
  },
  "cells": [
    {
      "cell_type": "markdown",
      "metadata": {
        "id": "Yqgk_1GHUB9_"
      },
      "source": [
        "**Stephen Jasper - 2301869853**"
      ]
    },
    {
      "cell_type": "markdown",
      "metadata": {
        "id": "CNRQBK4gPnDE"
      },
      "source": [
        "##Import Library"
      ]
    },
    {
      "cell_type": "code",
      "metadata": {
        "id": "W2aVzIT2nX59"
      },
      "source": [
        "import tensorflow as tf\n",
        "from tensorflow import keras\n",
        "import matplotlib.pyplot as plt\n",
        "from tensorflow.keras.datasets import mnist\n",
        "from sklearn.model_selection import train_test_split\n",
        "from tensorflow.keras.models import Sequential\n",
        "from tensorflow.keras.layers import Dense, Activation, Dropout, Flatten, Conv2D, MaxPooling2D\n",
        "from tensorflow.keras.utils import to_categorical\n",
        "from tensorflow.keras.optimizers import Adam\n",
        "from sklearn.metrics import accuracy_score\n",
        "from sklearn.decomposition import PCA\n",
        "import timeit"
      ],
      "execution_count": 1,
      "outputs": []
    },
    {
      "cell_type": "markdown",
      "metadata": {
        "id": "tYqv4tf-PrJz"
      },
      "source": [
        "##Load Dataset"
      ]
    },
    {
      "cell_type": "code",
      "metadata": {
        "id": "dJ5S6cgonbxY"
      },
      "source": [
        "fashion_mnist = keras.datasets.fashion_mnist\n",
        "(x_train, y_train), (x_test, y_test) = fashion_mnist.load_data()"
      ],
      "execution_count": 2,
      "outputs": []
    },
    {
      "cell_type": "markdown",
      "metadata": {
        "id": "eLivhDN1PyCX"
      },
      "source": [
        "##Split the data to train, test, and validate dataset"
      ]
    },
    {
      "cell_type": "code",
      "metadata": {
        "id": "TJuFL2byST2Z"
      },
      "source": [
        "X_train, X_validate, y_train, y_validate = train_test_split(x_train, y_train, test_size = 0.2, random_state=42)"
      ],
      "execution_count": 3,
      "outputs": []
    },
    {
      "cell_type": "markdown",
      "metadata": {
        "id": "l6Yj1AamTcYR"
      },
      "source": [
        "**Reshape for CNN model**"
      ]
    },
    {
      "cell_type": "code",
      "metadata": {
        "colab": {
          "base_uri": "https://localhost:8080/"
        },
        "id": "eycRrKljOajG",
        "outputId": "dfa30154-7d30-4590-8673-31f0d7c749d0"
      },
      "source": [
        "img_row = 28\n",
        "img_col = 28\n",
        "input_shape = (img_row, img_col, 1)\n",
        "\n",
        "X_train = X_train.reshape(X_train.shape[0], img_row, img_col, 1)\n",
        "X_test = x_test.reshape(x_test.shape[0], img_row, img_col, 1)\n",
        "X_validate = X_validate.reshape(X_validate.shape[0], img_row, img_col, 1)\n",
        "\n",
        "print(f'x_train shape: {X_train.shape}')\n",
        "print(f'x_test shape: {X_test.shape}')\n",
        "print(f'x_validate shape: {X_validate.shape}')"
      ],
      "execution_count": 4,
      "outputs": [
        {
          "output_type": "stream",
          "text": [
            "x_train shape: (48000, 28, 28, 1)\n",
            "x_test shape: (10000, 28, 28, 1)\n",
            "x_validate shape: (12000, 28, 28, 1)\n"
          ],
          "name": "stdout"
        }
      ]
    },
    {
      "cell_type": "markdown",
      "metadata": {
        "id": "FecMBi6_TfaH"
      },
      "source": [
        "**Pre-processing for y data**"
      ]
    },
    {
      "cell_type": "code",
      "metadata": {
        "id": "gOI31hJ9Od85"
      },
      "source": [
        "y_train = to_categorical(y_train, 10)\n",
        "y_validate = to_categorical(y_validate, 10)\n",
        "y_test = to_categorical(y_test, 10)"
      ],
      "execution_count": 5,
      "outputs": []
    },
    {
      "cell_type": "markdown",
      "metadata": {
        "id": "aoGr_q8YTGtV"
      },
      "source": [
        "##Implement of CNN model"
      ]
    },
    {
      "cell_type": "markdown",
      "metadata": {
        "id": "ex27UcOlhpke"
      },
      "source": [
        "**Using 2D convolutional**"
      ]
    },
    {
      "cell_type": "code",
      "metadata": {
        "id": "rqlTivtYOiuF"
      },
      "source": [
        "CNN_Mnist = Sequential()\n",
        "CNN_Mnist.add(Conv2D(32, kernel_size=(3, 3), activation='relu', input_shape=input_shape))\n",
        "#32 filter, with 1 filter of size 3*3\n",
        "CNN_Mnist.add(Dropout(0.2))\n",
        "CNN_Mnist.add(Conv2D(64, kernel_size=(3, 3), activation='relu'))\n",
        "#64 filter, with 1 filter of size 3*3\n",
        "CNN_Mnist.add(MaxPooling2D(pool_size=(2, 2)))\n",
        "#Pooling to reduce dimensionality from featured map and avoid of overfitting.\n",
        "CNN_Mnist.add(Dropout(0.3))\n",
        "#Flatten is a proses to change the data from 2D to vector\n",
        "CNN_Mnist.add(Flatten())\n",
        "#dense = fully connected layer\n",
        "CNN_Mnist.add(Dense(64, activation='relu'))\n",
        "CNN_Mnist.add(Dense(128, activation='relu'))\n",
        "CNN_Mnist.add(Dense(10, activation='softmax'))"
      ],
      "execution_count": 6,
      "outputs": []
    },
    {
      "cell_type": "code",
      "metadata": {
        "colab": {
          "base_uri": "https://localhost:8080/"
        },
        "id": "LINzHaPQOjW5",
        "outputId": "a9c3d2ea-05e2-42e1-b39a-f9464b541498"
      },
      "source": [
        "#To see the performance of the model\n",
        "CNN_Mnist.summary()"
      ],
      "execution_count": 7,
      "outputs": [
        {
          "output_type": "stream",
          "text": [
            "Model: \"sequential\"\n",
            "_________________________________________________________________\n",
            "Layer (type)                 Output Shape              Param #   \n",
            "=================================================================\n",
            "conv2d (Conv2D)              (None, 26, 26, 32)        320       \n",
            "_________________________________________________________________\n",
            "dropout (Dropout)            (None, 26, 26, 32)        0         \n",
            "_________________________________________________________________\n",
            "conv2d_1 (Conv2D)            (None, 24, 24, 64)        18496     \n",
            "_________________________________________________________________\n",
            "max_pooling2d (MaxPooling2D) (None, 12, 12, 64)        0         \n",
            "_________________________________________________________________\n",
            "dropout_1 (Dropout)          (None, 12, 12, 64)        0         \n",
            "_________________________________________________________________\n",
            "flatten (Flatten)            (None, 9216)              0         \n",
            "_________________________________________________________________\n",
            "dense (Dense)                (None, 64)                589888    \n",
            "_________________________________________________________________\n",
            "dense_1 (Dense)              (None, 128)               8320      \n",
            "_________________________________________________________________\n",
            "dense_2 (Dense)              (None, 10)                1290      \n",
            "=================================================================\n",
            "Total params: 618,314\n",
            "Trainable params: 618,314\n",
            "Non-trainable params: 0\n",
            "_________________________________________________________________\n"
          ],
          "name": "stdout"
        }
      ]
    },
    {
      "cell_type": "code",
      "metadata": {
        "colab": {
          "base_uri": "https://localhost:8080/"
        },
        "id": "TzEeedTtOmX3",
        "outputId": "65fec137-c846-4885-d252-859f2838b439"
      },
      "source": [
        "CNN_Mnist.compile(optimizer= Adam(lr= 0.001), loss='categorical_crossentropy', metrics=['accuracy'])"
      ],
      "execution_count": 8,
      "outputs": [
        {
          "output_type": "stream",
          "text": [
            "/usr/local/lib/python3.7/dist-packages/tensorflow/python/keras/optimizer_v2/optimizer_v2.py:375: UserWarning: The `lr` argument is deprecated, use `learning_rate` instead.\n",
            "  \"The `lr` argument is deprecated, use `learning_rate` instead.\")\n"
          ],
          "name": "stderr"
        }
      ]
    },
    {
      "cell_type": "markdown",
      "metadata": {
        "id": "wwVDQp0mTk19"
      },
      "source": [
        "##Test the accuracy score for CNN model"
      ]
    },
    {
      "cell_type": "code",
      "metadata": {
        "colab": {
          "base_uri": "https://localhost:8080/"
        },
        "id": "dT_-TLdZOn01",
        "outputId": "3779fd57-5365-4428-c38f-9b7a581e1b91"
      },
      "source": [
        "start1 = timeit.default_timer()\n",
        "history = CNN_Mnist.fit(X_train, y_train, batch_size= 300, epochs=50, validation_data=(X_validate, y_validate))\n",
        "end1 = timeit.default_timer()"
      ],
      "execution_count": 9,
      "outputs": [
        {
          "output_type": "stream",
          "text": [
            "Epoch 1/50\n",
            "160/160 [==============================] - 6s 18ms/step - loss: 1.0145 - accuracy: 0.7626 - val_loss: 0.4243 - val_accuracy: 0.8540\n",
            "Epoch 2/50\n",
            "160/160 [==============================] - 3s 16ms/step - loss: 0.3935 - accuracy: 0.8587 - val_loss: 0.3446 - val_accuracy: 0.8788\n",
            "Epoch 3/50\n",
            "160/160 [==============================] - 3s 17ms/step - loss: 0.3332 - accuracy: 0.8764 - val_loss: 0.3120 - val_accuracy: 0.8876\n",
            "Epoch 4/50\n",
            "160/160 [==============================] - 3s 16ms/step - loss: 0.2964 - accuracy: 0.8906 - val_loss: 0.2910 - val_accuracy: 0.8962\n",
            "Epoch 5/50\n",
            "160/160 [==============================] - 3s 17ms/step - loss: 0.2684 - accuracy: 0.8999 - val_loss: 0.2753 - val_accuracy: 0.9002\n",
            "Epoch 6/50\n",
            "160/160 [==============================] - 3s 16ms/step - loss: 0.2486 - accuracy: 0.9069 - val_loss: 0.2626 - val_accuracy: 0.9042\n",
            "Epoch 7/50\n",
            "160/160 [==============================] - 3s 17ms/step - loss: 0.2302 - accuracy: 0.9159 - val_loss: 0.2526 - val_accuracy: 0.9088\n",
            "Epoch 8/50\n",
            "160/160 [==============================] - 3s 17ms/step - loss: 0.2139 - accuracy: 0.9197 - val_loss: 0.2452 - val_accuracy: 0.9094\n",
            "Epoch 9/50\n",
            "160/160 [==============================] - 3s 16ms/step - loss: 0.2027 - accuracy: 0.9243 - val_loss: 0.2380 - val_accuracy: 0.9129\n",
            "Epoch 10/50\n",
            "160/160 [==============================] - 3s 16ms/step - loss: 0.1918 - accuracy: 0.9268 - val_loss: 0.2460 - val_accuracy: 0.9086\n",
            "Epoch 11/50\n",
            "160/160 [==============================] - 3s 16ms/step - loss: 0.1748 - accuracy: 0.9339 - val_loss: 0.2364 - val_accuracy: 0.9143\n",
            "Epoch 12/50\n",
            "160/160 [==============================] - 3s 17ms/step - loss: 0.1703 - accuracy: 0.9352 - val_loss: 0.2354 - val_accuracy: 0.9156\n",
            "Epoch 13/50\n",
            "160/160 [==============================] - 3s 17ms/step - loss: 0.1617 - accuracy: 0.9393 - val_loss: 0.2424 - val_accuracy: 0.9143\n",
            "Epoch 14/50\n",
            "160/160 [==============================] - 3s 16ms/step - loss: 0.1573 - accuracy: 0.9401 - val_loss: 0.2397 - val_accuracy: 0.9162\n",
            "Epoch 15/50\n",
            "160/160 [==============================] - 3s 17ms/step - loss: 0.1492 - accuracy: 0.9428 - val_loss: 0.2491 - val_accuracy: 0.9135\n",
            "Epoch 16/50\n",
            "160/160 [==============================] - 3s 16ms/step - loss: 0.1416 - accuracy: 0.9463 - val_loss: 0.2508 - val_accuracy: 0.9157\n",
            "Epoch 17/50\n",
            "160/160 [==============================] - 3s 16ms/step - loss: 0.1385 - accuracy: 0.9486 - val_loss: 0.2500 - val_accuracy: 0.9175\n",
            "Epoch 18/50\n",
            "160/160 [==============================] - 3s 16ms/step - loss: 0.1322 - accuracy: 0.9493 - val_loss: 0.2687 - val_accuracy: 0.9167\n",
            "Epoch 19/50\n",
            "160/160 [==============================] - 3s 17ms/step - loss: 0.1252 - accuracy: 0.9521 - val_loss: 0.2451 - val_accuracy: 0.9174\n",
            "Epoch 20/50\n",
            "160/160 [==============================] - 3s 17ms/step - loss: 0.1158 - accuracy: 0.9558 - val_loss: 0.2567 - val_accuracy: 0.9182\n",
            "Epoch 21/50\n",
            "160/160 [==============================] - 3s 17ms/step - loss: 0.1101 - accuracy: 0.9573 - val_loss: 0.2629 - val_accuracy: 0.9158\n",
            "Epoch 22/50\n",
            "160/160 [==============================] - 3s 17ms/step - loss: 0.1066 - accuracy: 0.9601 - val_loss: 0.2766 - val_accuracy: 0.9147\n",
            "Epoch 23/50\n",
            "160/160 [==============================] - 3s 17ms/step - loss: 0.1039 - accuracy: 0.9603 - val_loss: 0.2808 - val_accuracy: 0.9144\n",
            "Epoch 24/50\n",
            "160/160 [==============================] - 3s 17ms/step - loss: 0.1000 - accuracy: 0.9617 - val_loss: 0.2640 - val_accuracy: 0.9140\n",
            "Epoch 25/50\n",
            "160/160 [==============================] - 3s 16ms/step - loss: 0.0984 - accuracy: 0.9640 - val_loss: 0.2676 - val_accuracy: 0.9162\n",
            "Epoch 26/50\n",
            "160/160 [==============================] - 3s 17ms/step - loss: 0.0935 - accuracy: 0.9650 - val_loss: 0.2850 - val_accuracy: 0.9154\n",
            "Epoch 27/50\n",
            "160/160 [==============================] - 3s 17ms/step - loss: 0.0924 - accuracy: 0.9657 - val_loss: 0.2814 - val_accuracy: 0.9159\n",
            "Epoch 28/50\n",
            "160/160 [==============================] - 3s 16ms/step - loss: 0.0907 - accuracy: 0.9662 - val_loss: 0.2930 - val_accuracy: 0.9171\n",
            "Epoch 29/50\n",
            "160/160 [==============================] - 3s 18ms/step - loss: 0.0868 - accuracy: 0.9675 - val_loss: 0.2719 - val_accuracy: 0.9183\n",
            "Epoch 30/50\n",
            "160/160 [==============================] - 3s 17ms/step - loss: 0.0819 - accuracy: 0.9695 - val_loss: 0.2941 - val_accuracy: 0.9168\n",
            "Epoch 31/50\n",
            "160/160 [==============================] - 3s 17ms/step - loss: 0.0810 - accuracy: 0.9698 - val_loss: 0.3090 - val_accuracy: 0.9176\n",
            "Epoch 32/50\n",
            "160/160 [==============================] - 3s 17ms/step - loss: 0.0871 - accuracy: 0.9674 - val_loss: 0.3099 - val_accuracy: 0.9145\n",
            "Epoch 33/50\n",
            "160/160 [==============================] - 3s 16ms/step - loss: 0.0807 - accuracy: 0.9713 - val_loss: 0.2845 - val_accuracy: 0.9177\n",
            "Epoch 34/50\n",
            "160/160 [==============================] - 3s 16ms/step - loss: 0.0735 - accuracy: 0.9737 - val_loss: 0.2993 - val_accuracy: 0.9162\n",
            "Epoch 35/50\n",
            "160/160 [==============================] - 3s 17ms/step - loss: 0.0714 - accuracy: 0.9736 - val_loss: 0.3009 - val_accuracy: 0.9142\n",
            "Epoch 36/50\n",
            "160/160 [==============================] - 3s 16ms/step - loss: 0.0701 - accuracy: 0.9739 - val_loss: 0.3263 - val_accuracy: 0.9168\n",
            "Epoch 37/50\n",
            "160/160 [==============================] - 3s 16ms/step - loss: 0.0714 - accuracy: 0.9736 - val_loss: 0.3232 - val_accuracy: 0.9197\n",
            "Epoch 38/50\n",
            "160/160 [==============================] - 3s 17ms/step - loss: 0.0665 - accuracy: 0.9761 - val_loss: 0.3224 - val_accuracy: 0.9195\n",
            "Epoch 39/50\n",
            "160/160 [==============================] - 3s 16ms/step - loss: 0.0690 - accuracy: 0.9751 - val_loss: 0.3130 - val_accuracy: 0.9169\n",
            "Epoch 40/50\n",
            "160/160 [==============================] - 3s 17ms/step - loss: 0.0704 - accuracy: 0.9743 - val_loss: 0.3169 - val_accuracy: 0.9207\n",
            "Epoch 41/50\n",
            "160/160 [==============================] - 3s 16ms/step - loss: 0.0602 - accuracy: 0.9774 - val_loss: 0.3401 - val_accuracy: 0.9200\n",
            "Epoch 42/50\n",
            "160/160 [==============================] - 3s 17ms/step - loss: 0.0638 - accuracy: 0.9775 - val_loss: 0.3465 - val_accuracy: 0.9147\n",
            "Epoch 43/50\n",
            "160/160 [==============================] - 3s 16ms/step - loss: 0.0702 - accuracy: 0.9750 - val_loss: 0.3235 - val_accuracy: 0.9152\n",
            "Epoch 44/50\n",
            "160/160 [==============================] - 3s 16ms/step - loss: 0.0581 - accuracy: 0.9785 - val_loss: 0.3392 - val_accuracy: 0.9177\n",
            "Epoch 45/50\n",
            "160/160 [==============================] - 3s 17ms/step - loss: 0.0627 - accuracy: 0.9785 - val_loss: 0.3250 - val_accuracy: 0.9176\n",
            "Epoch 46/50\n",
            "160/160 [==============================] - 3s 17ms/step - loss: 0.0555 - accuracy: 0.9802 - val_loss: 0.3593 - val_accuracy: 0.9135\n",
            "Epoch 47/50\n",
            "160/160 [==============================] - 3s 17ms/step - loss: 0.0565 - accuracy: 0.9796 - val_loss: 0.3410 - val_accuracy: 0.9159\n",
            "Epoch 48/50\n",
            "160/160 [==============================] - 3s 16ms/step - loss: 0.0557 - accuracy: 0.9800 - val_loss: 0.3458 - val_accuracy: 0.9173\n",
            "Epoch 49/50\n",
            "160/160 [==============================] - 3s 16ms/step - loss: 0.0568 - accuracy: 0.9795 - val_loss: 0.3498 - val_accuracy: 0.9158\n",
            "Epoch 50/50\n",
            "160/160 [==============================] - 3s 16ms/step - loss: 0.0558 - accuracy: 0.9809 - val_loss: 0.3633 - val_accuracy: 0.9171\n"
          ],
          "name": "stdout"
        }
      ]
    },
    {
      "cell_type": "code",
      "metadata": {
        "colab": {
          "base_uri": "https://localhost:8080/"
        },
        "id": "BnUJU9hMOowZ",
        "outputId": "27cdfba2-819f-4af4-9d24-ff424bde6d8d"
      },
      "source": [
        "score = CNN_Mnist.evaluate(X_test, y_test, verbose=0)\n",
        "print('Accuracy score for CNN -> mnist')\n",
        "print('Accuracy:', score[1]*100, '%')\n",
        "print(f'Time without PCA -> {end1 - start1}')"
      ],
      "execution_count": 10,
      "outputs": [
        {
          "output_type": "stream",
          "text": [
            "Accuracy score for CNN -> mnist\n",
            "Accuracy: 91.26999974250793 %\n",
            "Time without PCA -> 142.388363025\n"
          ],
          "name": "stdout"
        }
      ]
    },
    {
      "cell_type": "markdown",
      "metadata": {
        "id": "sVKjhKt4TNQW"
      },
      "source": [
        "##Implement the CNN + PCA model"
      ]
    },
    {
      "cell_type": "markdown",
      "metadata": {
        "id": "R-3V-AbmP7GC"
      },
      "source": [
        "**Image sample before PCA**"
      ]
    },
    {
      "cell_type": "code",
      "metadata": {
        "colab": {
          "base_uri": "https://localhost:8080/",
          "height": 298
        },
        "id": "nR7OP-qe0KV8",
        "outputId": "26bf88c3-2d48-4315-ba6d-9f3b46406c4f"
      },
      "source": [
        "plt.title('Image before PCA')\n",
        "plt.imshow(X_train[20].reshape(28,28))"
      ],
      "execution_count": 11,
      "outputs": [
        {
          "output_type": "execute_result",
          "data": {
            "text/plain": [
              "<matplotlib.image.AxesImage at 0x7f97e6468890>"
            ]
          },
          "metadata": {
            "tags": []
          },
          "execution_count": 11
        },
        {
          "output_type": "display_data",
          "data": {
            "image/png": "[encoded data removed]",
            "text/plain": [
              "<Figure size 432x288 with 1 Axes>"
            ]
          },
          "metadata": {
            "tags": [],
            "needs_background": "light"
          }
        }
      ]
    },
    {
      "cell_type": "markdown",
      "metadata": {
        "id": "a2krS1MGS_e3"
      },
      "source": [
        "**Reshape to 2D for PCA dimentional reduction**"
      ]
    },
    {
      "cell_type": "code",
      "metadata": {
        "colab": {
          "base_uri": "https://localhost:8080/"
        },
        "id": "NhAoiv9QQgdp",
        "outputId": "a27192f7-5d55-4119-e419-663fe8e75e47"
      },
      "source": [
        "img_row = 28\n",
        "img_col = 28\n",
        "input_shape = (img_row, img_col, 1)\n",
        "#28 x 28 = 784\n",
        "X_train = X_train.reshape(X_train.shape[0], 784)\n",
        "X_test = x_test.reshape(x_test.shape[0], 784)\n",
        "X_validate = X_validate.reshape(X_validate.shape[0], 784)\n",
        "\n",
        "print(f'x_train shape: {X_train.shape}')\n",
        "print(f'x_test shape: {X_test.shape}')\n",
        "print(f'x_validate shape: {X_validate.shape}')"
      ],
      "execution_count": 12,
      "outputs": [
        {
          "output_type": "stream",
          "text": [
            "x_train shape: (48000, 784)\n",
            "x_test shape: (10000, 784)\n",
            "x_validate shape: (12000, 784)\n"
          ],
          "name": "stdout"
        }
      ]
    },
    {
      "cell_type": "markdown",
      "metadata": {
        "id": "jkBlPZy_QJZK"
      },
      "source": [
        "**Using PCA to reduce the dimentions**"
      ]
    },
    {
      "cell_type": "code",
      "metadata": {
        "id": "9mR1bzRkPcN3"
      },
      "source": [
        "pca = PCA(n_components = 400)\n",
        "pca_x_train = pca.fit_transform(X_train)\n",
        "pca_x_test = pca.transform(X_test)\n",
        "pca_x_validate = pca.transform(X_validate)\n",
        "\n",
        "pca_x_train = pca.inverse_transform(pca_x_train)\n",
        "pca_x_test = pca.inverse_transform(pca_x_test)\n",
        "pca_x_validate = pca.inverse_transform(pca_x_validate)"
      ],
      "execution_count": 13,
      "outputs": []
    },
    {
      "cell_type": "markdown",
      "metadata": {
        "id": "YQ877uWqTHMQ"
      },
      "source": [
        "**Reshape again for CNN model**"
      ]
    },
    {
      "cell_type": "code",
      "metadata": {
        "colab": {
          "base_uri": "https://localhost:8080/"
        },
        "id": "PAblRhded0RW",
        "outputId": "ae0e053c-27c7-4f2e-d070-2a14542f2a60"
      },
      "source": [
        "X_train = pca_x_train.reshape(X_train.shape[0], 28, 28, 1)\n",
        "X_test = pca_x_test.reshape(x_test.shape[0], 28, 28, 1)\n",
        "X_validate = pca_x_validate.reshape(X_validate.shape[0], 28, 28, 1)\n",
        "\n",
        "print(f'x_train shape: {X_train.shape}')\n",
        "print(f'x_test shape: {X_test.shape}')\n",
        "print(f'x_validate shape: {X_validate.shape}')"
      ],
      "execution_count": 14,
      "outputs": [
        {
          "output_type": "stream",
          "text": [
            "x_train shape: (48000, 28, 28, 1)\n",
            "x_test shape: (10000, 28, 28, 1)\n",
            "x_validate shape: (12000, 28, 28, 1)\n"
          ],
          "name": "stdout"
        }
      ]
    },
    {
      "cell_type": "markdown",
      "metadata": {
        "id": "y9nkefPwQAot"
      },
      "source": [
        "**Image sample after PCA**"
      ]
    },
    {
      "cell_type": "code",
      "metadata": {
        "colab": {
          "base_uri": "https://localhost:8080/",
          "height": 298
        },
        "id": "A4gfTbrLLGlj",
        "outputId": "27d9333c-c911-4464-e20c-42060ff3230c"
      },
      "source": [
        "plt.title('Image after PCA')\n",
        "plt.imshow(X_train[20].reshape(28,28))"
      ],
      "execution_count": 15,
      "outputs": [
        {
          "output_type": "execute_result",
          "data": {
            "text/plain": [
              "<matplotlib.image.AxesImage at 0x7f97e6488850>"
            ]
          },
          "metadata": {
            "tags": []
          },
          "execution_count": 15
        },
        {
          "output_type": "display_data",
          "data": {
            "image/png": "[encoded data removed]",
            "text/plain": [
              "<Figure size 432x288 with 1 Axes>"
            ]
          },
          "metadata": {
            "tags": [],
            "needs_background": "light"
          }
        }
      ]
    },
    {
      "cell_type": "markdown",
      "metadata": {
        "id": "FfjJiGiWRxT9"
      },
      "source": [
        "##Build the CNN with PCA model"
      ]
    },
    {
      "cell_type": "code",
      "metadata": {
        "id": "XQo4usL3Sz7R"
      },
      "source": [
        "CNNmodel = Sequential()\n",
        "CNNmodel.add(Conv2D(64, kernel_size=3, activation='relu', input_shape=input_shape))\n",
        "CNNmodel.add(MaxPooling2D(pool_size=(2, 2)))\n",
        "CNNmodel.add(Conv2D(32, kernel_size=3, activation='relu'))\n",
        "CNNmodel.add(Dropout(0.2))\n",
        "CNNmodel.add(Dropout(0.3))\n",
        "CNNmodel.add(Flatten())\n",
        "CNNmodel.add(Dense(64, activation='relu')) \n",
        "CNNmodel.add(Dense(128, activation='relu'))\n",
        "CNNmodel.add(Dense(10, activation='softmax'))"
      ],
      "execution_count": 16,
      "outputs": []
    },
    {
      "cell_type": "markdown",
      "metadata": {
        "id": "XRLF2PneRp8R"
      },
      "source": [
        "**To see the performance of the model**"
      ]
    },
    {
      "cell_type": "code",
      "metadata": {
        "colab": {
          "base_uri": "https://localhost:8080/"
        },
        "id": "wUAjvgmvS458",
        "outputId": "9d772d72-8cbf-4092-fa41-310e1e05be77"
      },
      "source": [
        "CNNmodel.summary()"
      ],
      "execution_count": 17,
      "outputs": [
        {
          "output_type": "stream",
          "text": [
            "Model: \"sequential_1\"\n",
            "_________________________________________________________________\n",
            "Layer (type)                 Output Shape              Param #   \n",
            "=================================================================\n",
            "conv2d_2 (Conv2D)            (None, 26, 26, 64)        640       \n",
            "_________________________________________________________________\n",
            "max_pooling2d_1 (MaxPooling2 (None, 13, 13, 64)        0         \n",
            "_________________________________________________________________\n",
            "conv2d_3 (Conv2D)            (None, 11, 11, 32)        18464     \n",
            "_________________________________________________________________\n",
            "dropout_2 (Dropout)          (None, 11, 11, 32)        0         \n",
            "_________________________________________________________________\n",
            "dropout_3 (Dropout)          (None, 11, 11, 32)        0         \n",
            "_________________________________________________________________\n",
            "flatten_1 (Flatten)          (None, 3872)              0         \n",
            "_________________________________________________________________\n",
            "dense_3 (Dense)              (None, 64)                247872    \n",
            "_________________________________________________________________\n",
            "dense_4 (Dense)              (None, 128)               8320      \n",
            "_________________________________________________________________\n",
            "dense_5 (Dense)              (None, 10)                1290      \n",
            "=================================================================\n",
            "Total params: 276,586\n",
            "Trainable params: 276,586\n",
            "Non-trainable params: 0\n",
            "_________________________________________________________________\n"
          ],
          "name": "stdout"
        }
      ]
    },
    {
      "cell_type": "code",
      "metadata": {
        "colab": {
          "base_uri": "https://localhost:8080/"
        },
        "id": "fTxKB7SUS6FX",
        "outputId": "70dcfca0-d5eb-4038-e37d-3a6bd21562d5"
      },
      "source": [
        "CNNmodel.compile(optimizer= Adam(lr= 0.001), loss='categorical_crossentropy', metrics=['accuracy'])"
      ],
      "execution_count": 18,
      "outputs": [
        {
          "output_type": "stream",
          "text": [
            "/usr/local/lib/python3.7/dist-packages/tensorflow/python/keras/optimizer_v2/optimizer_v2.py:375: UserWarning: The `lr` argument is deprecated, use `learning_rate` instead.\n",
            "  \"The `lr` argument is deprecated, use `learning_rate` instead.\")\n"
          ],
          "name": "stderr"
        }
      ]
    },
    {
      "cell_type": "markdown",
      "metadata": {
        "id": "YEIZEzi3Rnka"
      },
      "source": [
        "**Train the model for CNN + PCA model**"
      ]
    },
    {
      "cell_type": "code",
      "metadata": {
        "colab": {
          "base_uri": "https://localhost:8080/"
        },
        "id": "tZWlYd8CS8FK",
        "outputId": "e19b9e09-7edb-4dad-8ba5-11645d40aa30"
      },
      "source": [
        "start2 = timeit.default_timer()\n",
        "history = CNNmodel.fit(X_train, y_train, batch_size= 300, epochs=50, validation_data=(X_validate, y_validate))\n",
        "end2 = timeit.default_timer()"
      ],
      "execution_count": 19,
      "outputs": [
        {
          "output_type": "stream",
          "text": [
            "Epoch 1/50\n",
            "160/160 [==============================] - 2s 11ms/step - loss: 0.8643 - accuracy: 0.7511 - val_loss: 0.3948 - val_accuracy: 0.8595\n",
            "Epoch 2/50\n",
            "160/160 [==============================] - 2s 10ms/step - loss: 0.4171 - accuracy: 0.8468 - val_loss: 0.3509 - val_accuracy: 0.8739\n",
            "Epoch 3/50\n",
            "160/160 [==============================] - 2s 10ms/step - loss: 0.3765 - accuracy: 0.8586 - val_loss: 0.3301 - val_accuracy: 0.8780\n",
            "Epoch 4/50\n",
            "160/160 [==============================] - 2s 10ms/step - loss: 0.3361 - accuracy: 0.8731 - val_loss: 0.3017 - val_accuracy: 0.8903\n",
            "Epoch 5/50\n",
            "160/160 [==============================] - 2s 10ms/step - loss: 0.3178 - accuracy: 0.8823 - val_loss: 0.3138 - val_accuracy: 0.8854\n",
            "Epoch 6/50\n",
            "160/160 [==============================] - 2s 11ms/step - loss: 0.2939 - accuracy: 0.8896 - val_loss: 0.2789 - val_accuracy: 0.8985\n",
            "Epoch 7/50\n",
            "160/160 [==============================] - 2s 10ms/step - loss: 0.2772 - accuracy: 0.8955 - val_loss: 0.2793 - val_accuracy: 0.8997\n",
            "Epoch 8/50\n",
            "160/160 [==============================] - 2s 11ms/step - loss: 0.2628 - accuracy: 0.9012 - val_loss: 0.2799 - val_accuracy: 0.8986\n",
            "Epoch 9/50\n",
            "160/160 [==============================] - 2s 11ms/step - loss: 0.2522 - accuracy: 0.9059 - val_loss: 0.2787 - val_accuracy: 0.8943\n",
            "Epoch 10/50\n",
            "160/160 [==============================] - 2s 10ms/step - loss: 0.2418 - accuracy: 0.9096 - val_loss: 0.2766 - val_accuracy: 0.9023\n",
            "Epoch 11/50\n",
            "160/160 [==============================] - 2s 10ms/step - loss: 0.2345 - accuracy: 0.9116 - val_loss: 0.2658 - val_accuracy: 0.9057\n",
            "Epoch 12/50\n",
            "160/160 [==============================] - 2s 10ms/step - loss: 0.2230 - accuracy: 0.9143 - val_loss: 0.2561 - val_accuracy: 0.9094\n",
            "Epoch 13/50\n",
            "160/160 [==============================] - 2s 10ms/step - loss: 0.2215 - accuracy: 0.9162 - val_loss: 0.2571 - val_accuracy: 0.9077\n",
            "Epoch 14/50\n",
            "160/160 [==============================] - 2s 10ms/step - loss: 0.2073 - accuracy: 0.9206 - val_loss: 0.2588 - val_accuracy: 0.9085\n",
            "Epoch 15/50\n",
            "160/160 [==============================] - 2s 11ms/step - loss: 0.2063 - accuracy: 0.9212 - val_loss: 0.2601 - val_accuracy: 0.9072\n",
            "Epoch 16/50\n",
            "160/160 [==============================] - 2s 10ms/step - loss: 0.1975 - accuracy: 0.9257 - val_loss: 0.2605 - val_accuracy: 0.9064\n",
            "Epoch 17/50\n",
            "160/160 [==============================] - 2s 10ms/step - loss: 0.1954 - accuracy: 0.9263 - val_loss: 0.2522 - val_accuracy: 0.9113\n",
            "Epoch 18/50\n",
            "160/160 [==============================] - 2s 10ms/step - loss: 0.1882 - accuracy: 0.9292 - val_loss: 0.2514 - val_accuracy: 0.9107\n",
            "Epoch 19/50\n",
            "160/160 [==============================] - 2s 10ms/step - loss: 0.1814 - accuracy: 0.9307 - val_loss: 0.2584 - val_accuracy: 0.9087\n",
            "Epoch 20/50\n",
            "160/160 [==============================] - 2s 10ms/step - loss: 0.1830 - accuracy: 0.9296 - val_loss: 0.2517 - val_accuracy: 0.9121\n",
            "Epoch 21/50\n",
            "160/160 [==============================] - 2s 10ms/step - loss: 0.1737 - accuracy: 0.9344 - val_loss: 0.2586 - val_accuracy: 0.9088\n",
            "Epoch 22/50\n",
            "160/160 [==============================] - 2s 10ms/step - loss: 0.1740 - accuracy: 0.9324 - val_loss: 0.2769 - val_accuracy: 0.9063\n",
            "Epoch 23/50\n",
            "160/160 [==============================] - 2s 11ms/step - loss: 0.1678 - accuracy: 0.9364 - val_loss: 0.2561 - val_accuracy: 0.9092\n",
            "Epoch 24/50\n",
            "160/160 [==============================] - 2s 12ms/step - loss: 0.1643 - accuracy: 0.9357 - val_loss: 0.2757 - val_accuracy: 0.9079\n",
            "Epoch 25/50\n",
            "160/160 [==============================] - 2s 11ms/step - loss: 0.1582 - accuracy: 0.9383 - val_loss: 0.2771 - val_accuracy: 0.9096\n",
            "Epoch 26/50\n",
            "160/160 [==============================] - 2s 12ms/step - loss: 0.1582 - accuracy: 0.9401 - val_loss: 0.2784 - val_accuracy: 0.9096\n",
            "Epoch 27/50\n",
            "160/160 [==============================] - 2s 11ms/step - loss: 0.1545 - accuracy: 0.9402 - val_loss: 0.2579 - val_accuracy: 0.9121\n",
            "Epoch 28/50\n",
            "160/160 [==============================] - 2s 11ms/step - loss: 0.1447 - accuracy: 0.9446 - val_loss: 0.2733 - val_accuracy: 0.9112\n",
            "Epoch 29/50\n",
            "160/160 [==============================] - 2s 11ms/step - loss: 0.1434 - accuracy: 0.9442 - val_loss: 0.2800 - val_accuracy: 0.9135\n",
            "Epoch 30/50\n",
            "160/160 [==============================] - 2s 10ms/step - loss: 0.1405 - accuracy: 0.9465 - val_loss: 0.2726 - val_accuracy: 0.9128\n",
            "Epoch 31/50\n",
            "160/160 [==============================] - 2s 12ms/step - loss: 0.1343 - accuracy: 0.9481 - val_loss: 0.2850 - val_accuracy: 0.9115\n",
            "Epoch 32/50\n",
            "160/160 [==============================] - 2s 11ms/step - loss: 0.1351 - accuracy: 0.9484 - val_loss: 0.2678 - val_accuracy: 0.9122\n",
            "Epoch 33/50\n",
            "160/160 [==============================] - 2s 11ms/step - loss: 0.1336 - accuracy: 0.9498 - val_loss: 0.2576 - val_accuracy: 0.9133\n",
            "Epoch 34/50\n",
            "160/160 [==============================] - 2s 11ms/step - loss: 0.1303 - accuracy: 0.9506 - val_loss: 0.2722 - val_accuracy: 0.9159\n",
            "Epoch 35/50\n",
            "160/160 [==============================] - 2s 11ms/step - loss: 0.1266 - accuracy: 0.9520 - val_loss: 0.2781 - val_accuracy: 0.9114\n",
            "Epoch 36/50\n",
            "160/160 [==============================] - 2s 11ms/step - loss: 0.1226 - accuracy: 0.9538 - val_loss: 0.2762 - val_accuracy: 0.9135\n",
            "Epoch 37/50\n",
            "160/160 [==============================] - 2s 10ms/step - loss: 0.1203 - accuracy: 0.9540 - val_loss: 0.2889 - val_accuracy: 0.9168\n",
            "Epoch 38/50\n",
            "160/160 [==============================] - 2s 10ms/step - loss: 0.1217 - accuracy: 0.9531 - val_loss: 0.2914 - val_accuracy: 0.9110\n",
            "Epoch 39/50\n",
            "160/160 [==============================] - 2s 10ms/step - loss: 0.1189 - accuracy: 0.9549 - val_loss: 0.2860 - val_accuracy: 0.9109\n",
            "Epoch 40/50\n",
            "160/160 [==============================] - 2s 10ms/step - loss: 0.1166 - accuracy: 0.9568 - val_loss: 0.2707 - val_accuracy: 0.9136\n",
            "Epoch 41/50\n",
            "160/160 [==============================] - 2s 10ms/step - loss: 0.1126 - accuracy: 0.9581 - val_loss: 0.2934 - val_accuracy: 0.9124\n",
            "Epoch 42/50\n",
            "160/160 [==============================] - 2s 10ms/step - loss: 0.1073 - accuracy: 0.9594 - val_loss: 0.3079 - val_accuracy: 0.9121\n",
            "Epoch 43/50\n",
            "160/160 [==============================] - 2s 10ms/step - loss: 0.1127 - accuracy: 0.9579 - val_loss: 0.2828 - val_accuracy: 0.9137\n",
            "Epoch 44/50\n",
            "160/160 [==============================] - 2s 10ms/step - loss: 0.1068 - accuracy: 0.9586 - val_loss: 0.3156 - val_accuracy: 0.9089\n",
            "Epoch 45/50\n",
            "160/160 [==============================] - 2s 11ms/step - loss: 0.1031 - accuracy: 0.9604 - val_loss: 0.3128 - val_accuracy: 0.9154\n",
            "Epoch 46/50\n",
            "160/160 [==============================] - 2s 11ms/step - loss: 0.1013 - accuracy: 0.9614 - val_loss: 0.3129 - val_accuracy: 0.9163\n",
            "Epoch 47/50\n",
            "160/160 [==============================] - 2s 10ms/step - loss: 0.1053 - accuracy: 0.9613 - val_loss: 0.2896 - val_accuracy: 0.9149\n",
            "Epoch 48/50\n",
            "160/160 [==============================] - 2s 10ms/step - loss: 0.1006 - accuracy: 0.9632 - val_loss: 0.3007 - val_accuracy: 0.9143\n",
            "Epoch 49/50\n",
            "160/160 [==============================] - 2s 10ms/step - loss: 0.0961 - accuracy: 0.9635 - val_loss: 0.2954 - val_accuracy: 0.9174\n",
            "Epoch 50/50\n",
            "160/160 [==============================] - 2s 10ms/step - loss: 0.0982 - accuracy: 0.9640 - val_loss: 0.2959 - val_accuracy: 0.9168\n"
          ],
          "name": "stdout"
        }
      ]
    },
    {
      "cell_type": "markdown",
      "metadata": {
        "id": "4u693FTdRhvR"
      },
      "source": [
        "##Test the accuracy score for CNN + PCA"
      ]
    },
    {
      "cell_type": "code",
      "metadata": {
        "id": "78bPJVGBS9gJ",
        "colab": {
          "base_uri": "https://localhost:8080/"
        },
        "outputId": "6a41a029-7deb-4d93-e33e-bc16916f2738"
      },
      "source": [
        "scorePCA = CNNmodel.evaluate(X_test, y_test, verbose=0)\n",
        "print('Accuracy score for CNN + PCA -> mnist')\n",
        "print('Test accuracy:', scorePCA[1]*100, '%')\n",
        "print(f'Time with PCA -> {end2 - start2}')"
      ],
      "execution_count": 20,
      "outputs": [
        {
          "output_type": "stream",
          "text": [
            "Accuracy score for CNN + PCA -> mnist\n",
            "Test accuracy: 91.18000268936157 %\n",
            "Time with PCA -> 86.228637402\n"
          ],
          "name": "stdout"
        }
      ]
    }
  ]
}