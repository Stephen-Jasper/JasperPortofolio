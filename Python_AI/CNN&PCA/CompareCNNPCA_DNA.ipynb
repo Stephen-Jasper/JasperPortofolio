{
  "nbformat": 4,
  "nbformat_minor": 0,
  "metadata": {
    "colab": {
      "name": "UAS-ANN[1]CNN+PCA-DNA.ipynb",
      "provenance": []
    },
    "kernelspec": {
      "name": "python3",
      "display_name": "Python 3"
    },
    "language_info": {
      "name": "python"
    },
    "accelerator": "GPU"
  },
  "cells": [
    {
      "cell_type": "markdown",
      "metadata": {
        "id": "8NVOV1Jzvcrr"
      },
      "source": [
        "Stephen Jasper - 2301869853"
      ]
    },
    {
      "cell_type": "markdown",
      "metadata": {
        "id": "nOvTG6CwaPFZ"
      },
      "source": [
        "##Import Library"
      ]
    },
    {
      "cell_type": "code",
      "metadata": {
        "id": "s-7nKY0yB_V-"
      },
      "source": [
        "import numpy as np\n",
        "import pandas as pd\n",
        "from sklearn.model_selection import train_test_split\n",
        "from keras.preprocessing import sequence\n",
        "from tensorflow.keras.models import Sequential\n",
        "from tensorflow.keras.layers import Dense, Activation, Dropout, Flatten, Conv1D, MaxPooling1D\n",
        "from tensorflow.keras.utils import to_categorical\n",
        "from tensorflow.keras.optimizers import Adam\n",
        "from sklearn.decomposition import PCA\n",
        "import timeit"
      ],
      "execution_count": 1,
      "outputs": []
    },
    {
      "cell_type": "markdown",
      "metadata": {
        "id": "ze-C2HYOawmQ"
      },
      "source": [
        "##Load data"
      ]
    },
    {
      "cell_type": "code",
      "metadata": {
        "colab": {
          "base_uri": "https://localhost:8080/"
        },
        "id": "0hrF1KGVCVxG",
        "outputId": "bd8ec0ca-2d4e-48c1-aa07-aea8e0a017db"
      },
      "source": [
        "df = pd.read_csv('rawdata.csv')\n",
        "print(df.head())"
      ],
      "execution_count": 2,
      "outputs": [
        {
          "output_type": "stream",
          "text": [
            "  SAMPLE_ID  snp_0  snp_1  snp_2  ...  snp_9998  snp_9999  snp_10000  STATUS\n",
            "0    HCB181      1      0      0  ...         2         1          2       1\n",
            "1    HCB182      1      0      0  ...         2         2          2       2\n",
            "2    HCB183      1      0      0  ...         2         1          2       2\n",
            "3    HCB184      1      0      0  ...         2         1          2       2\n",
            "4    HCB185      1      0      0  ...         2         2          2       1\n",
            "\n",
            "[5 rows x 10003 columns]\n"
          ],
          "name": "stdout"
        }
      ]
    },
    {
      "cell_type": "markdown",
      "metadata": {
        "id": "rZ3kd0Pfa5AA"
      },
      "source": [
        "**Separate between feature data and label data**"
      ]
    },
    {
      "cell_type": "code",
      "metadata": {
        "id": "2eDwASxZCXad"
      },
      "source": [
        "feature = df.iloc[:, 1:-1]\n",
        "label = df['STATUS'].values.reshape(-1,1)"
      ],
      "execution_count": 3,
      "outputs": []
    },
    {
      "cell_type": "markdown",
      "metadata": {
        "id": "38kpxRdDa_w6"
      },
      "source": [
        "##Split the data to train, test, validate data"
      ]
    },
    {
      "cell_type": "code",
      "metadata": {
        "id": "VGRGOy2-CcRJ"
      },
      "source": [
        "x_train, x_test, y_train, y_test = train_test_split(feature, label, test_size=0.2)"
      ],
      "execution_count": 4,
      "outputs": []
    },
    {
      "cell_type": "code",
      "metadata": {
        "id": "7EAPqm4pCd49"
      },
      "source": [
        "x_train, x_validate, y_train, y_validate = train_test_split(x_train, y_train, test_size=0.2)"
      ],
      "execution_count": 5,
      "outputs": []
    },
    {
      "cell_type": "markdown",
      "metadata": {
        "id": "_RRoKeM_bETa"
      },
      "source": [
        "**Pre-processing the y data**"
      ]
    },
    {
      "cell_type": "code",
      "metadata": {
        "id": "UKaoE1HhEetw"
      },
      "source": [
        "from sklearn.preprocessing import OneHotEncoder\n",
        "encoder = OneHotEncoder()\n",
        "\n",
        "#Convert y data to array. Because before y data is spars matrix, and it is cannot be use in model\n",
        "y_train = encoder.fit_transform(y_train).toarray()\n",
        "y_validate = encoder.transform(y_validate).toarray()\n",
        "y_test = encoder.transform(y_test).toarray()"
      ],
      "execution_count": 6,
      "outputs": []
    },
    {
      "cell_type": "markdown",
      "metadata": {
        "id": "UdyxMTlkWY_A"
      },
      "source": [
        "**Reshape into 3D for CNN model**"
      ]
    },
    {
      "cell_type": "code",
      "metadata": {
        "colab": {
          "base_uri": "https://localhost:8080/"
        },
        "id": "XrM3ikTtUp00",
        "outputId": "ec4856c0-fed5-49f3-db40-45c630bf46cb"
      },
      "source": [
        "input_shape = (x_train.shape[1], 1)\n",
        "\n",
        "x_train = x_train.values.reshape(x_train.shape[0], x_train.shape[1], 1)\n",
        "x_test = x_test.values.reshape(x_test.shape[0], x_test.shape[1], 1)\n",
        "x_validate = x_validate.values.reshape(x_validate.shape[0], x_validate.shape[1], 1)\n",
        "\n",
        "print(f'x_train shape: {x_train.shape}')\n",
        "print(f'x_test shape: {x_test.shape}')\n",
        "print(f'x_validate shape: {x_validate.shape}')"
      ],
      "execution_count": 7,
      "outputs": [
        {
          "output_type": "stream",
          "text": [
            "x_train shape: (56, 10001, 1)\n",
            "x_test shape: (18, 10001, 1)\n",
            "x_validate shape: (15, 10001, 1)\n"
          ],
          "name": "stdout"
        }
      ]
    },
    {
      "cell_type": "markdown",
      "metadata": {
        "id": "XR0RNt92Wbyx"
      },
      "source": [
        "##Implement for CNN model"
      ]
    },
    {
      "cell_type": "markdown",
      "metadata": {
        "id": "ABBm745kWlS3"
      },
      "source": [
        "**Build the CNN model using 1D conv**"
      ]
    },
    {
      "cell_type": "code",
      "metadata": {
        "id": "atqyj3bCUqpy"
      },
      "source": [
        "CNN_raw_model = Sequential()\n",
        "CNN_raw_model.add(Conv1D(32, kernel_size=(3), activation='relu', input_shape=input_shape))\n",
        "#32 filter, with 1 filter of size 3, because 1D\n",
        "CNN_raw_model.add(Dropout(0.2))\n",
        "CNN_raw_model.add(Conv1D(64, kernel_size=(3), activation='relu'))\n",
        "#64 filter, with 1 filter of size 3\n",
        "CNN_raw_model.add(MaxPooling1D(pool_size=(2)))\n",
        "#Pooling to reduce dimensionality from featured map and avoid of overfitting.\n",
        "CNN_raw_model.add(Dropout(0.3))\n",
        "CNN_raw_model.add(Flatten())\n",
        "#Flatten is a proses to change the data from 2D to vector\n",
        "#dense = fully connected layer\n",
        "CNN_raw_model.add(Dense(64, activation='relu'))\n",
        "CNN_raw_model.add(Dense(128, activation='relu'))\n",
        "CNN_raw_model.add(Dense(2, activation='softmax'))"
      ],
      "execution_count": 8,
      "outputs": []
    },
    {
      "cell_type": "code",
      "metadata": {
        "colab": {
          "base_uri": "https://localhost:8080/"
        },
        "id": "dZurEBnKU6Ng",
        "outputId": "42907a59-9641-492a-861a-d52d62c27071"
      },
      "source": [
        "CNN_raw_model.compile(optimizer= Adam(lr= 0.001), loss='categorical_crossentropy', metrics=['accuracy'])"
      ],
      "execution_count": 9,
      "outputs": [
        {
          "output_type": "stream",
          "text": [
            "/usr/local/lib/python3.7/dist-packages/tensorflow/python/keras/optimizer_v2/optimizer_v2.py:375: UserWarning: The `lr` argument is deprecated, use `learning_rate` instead.\n",
            "  \"The `lr` argument is deprecated, use `learning_rate` instead.\")\n"
          ],
          "name": "stderr"
        }
      ]
    },
    {
      "cell_type": "markdown",
      "metadata": {
        "id": "-3Z3BEGEWrUL"
      },
      "source": [
        "**Train the CNN model**"
      ]
    },
    {
      "cell_type": "code",
      "metadata": {
        "colab": {
          "base_uri": "https://localhost:8080/"
        },
        "id": "xeh1sxvXU710",
        "outputId": "f3ef1485-68f2-4b45-8ba6-e628941844cf"
      },
      "source": [
        "start1 = timeit.default_timer()\n",
        "history_2 = CNN_raw_model.fit(x_train, y_train, batch_size= 300, epochs=200, validation_data=(x_validate, y_validate))\n",
        "end1 = timeit.default_timer()"
      ],
      "execution_count": 10,
      "outputs": [
        {
          "output_type": "stream",
          "text": [
            "Epoch 1/200\n",
            "1/1 [==============================] - 3s 3s/step - loss: 0.7304 - accuracy: 0.4821 - val_loss: 24.0101 - val_accuracy: 0.5333\n",
            "Epoch 2/200\n",
            "1/1 [==============================] - 0s 74ms/step - loss: 33.1206 - accuracy: 0.5179 - val_loss: 3.9782 - val_accuracy: 0.5333\n",
            "Epoch 3/200\n",
            "1/1 [==============================] - 0s 74ms/step - loss: 5.1937 - accuracy: 0.5179 - val_loss: 2.5606 - val_accuracy: 0.4667\n",
            "Epoch 4/200\n",
            "1/1 [==============================] - 0s 72ms/step - loss: 3.4345 - accuracy: 0.4821 - val_loss: 1.5508 - val_accuracy: 0.4667\n",
            "Epoch 5/200\n",
            "1/1 [==============================] - 0s 71ms/step - loss: 2.0597 - accuracy: 0.4821 - val_loss: 0.7267 - val_accuracy: 0.4667\n",
            "Epoch 6/200\n",
            "1/1 [==============================] - 0s 76ms/step - loss: 0.7269 - accuracy: 0.4821 - val_loss: 1.0988 - val_accuracy: 0.5333\n",
            "Epoch 7/200\n",
            "1/1 [==============================] - 0s 69ms/step - loss: 1.5841 - accuracy: 0.5179 - val_loss: 0.9295 - val_accuracy: 0.5333\n",
            "Epoch 8/200\n",
            "1/1 [==============================] - 0s 69ms/step - loss: 1.2724 - accuracy: 0.5179 - val_loss: 0.7482 - val_accuracy: 0.4667\n",
            "Epoch 9/200\n",
            "1/1 [==============================] - 0s 71ms/step - loss: 0.7454 - accuracy: 0.4821 - val_loss: 0.8317 - val_accuracy: 0.4667\n",
            "Epoch 10/200\n",
            "1/1 [==============================] - 0s 71ms/step - loss: 0.9244 - accuracy: 0.4821 - val_loss: 0.7074 - val_accuracy: 0.4667\n",
            "Epoch 11/200\n",
            "1/1 [==============================] - 0s 70ms/step - loss: 0.7079 - accuracy: 0.4821 - val_loss: 0.7254 - val_accuracy: 0.5333\n",
            "Epoch 12/200\n",
            "1/1 [==============================] - 0s 77ms/step - loss: 0.8072 - accuracy: 0.5179 - val_loss: 0.7356 - val_accuracy: 0.5333\n",
            "Epoch 13/200\n",
            "1/1 [==============================] - 0s 69ms/step - loss: 0.8329 - accuracy: 0.5179 - val_loss: 0.6911 - val_accuracy: 0.5333\n",
            "Epoch 14/200\n",
            "1/1 [==============================] - 0s 74ms/step - loss: 0.6928 - accuracy: 0.5179 - val_loss: 0.7474 - val_accuracy: 0.4667\n",
            "Epoch 15/200\n",
            "1/1 [==============================] - 0s 70ms/step - loss: 0.7813 - accuracy: 0.4821 - val_loss: 0.7516 - val_accuracy: 0.4667\n",
            "Epoch 16/200\n",
            "1/1 [==============================] - 0s 71ms/step - loss: 0.7833 - accuracy: 0.4821 - val_loss: 0.6984 - val_accuracy: 0.4667\n",
            "Epoch 17/200\n",
            "1/1 [==============================] - 0s 72ms/step - loss: 0.6887 - accuracy: 0.4821 - val_loss: 0.6958 - val_accuracy: 0.5333\n",
            "Epoch 18/200\n",
            "1/1 [==============================] - 0s 71ms/step - loss: 0.7242 - accuracy: 0.5179 - val_loss: 0.6946 - val_accuracy: 0.4667\n",
            "Epoch 19/200\n",
            "1/1 [==============================] - 0s 71ms/step - loss: 0.6759 - accuracy: 0.5536 - val_loss: 0.7077 - val_accuracy: 0.4667\n",
            "Epoch 20/200\n",
            "1/1 [==============================] - 0s 70ms/step - loss: 0.6932 - accuracy: 0.4821 - val_loss: 0.6970 - val_accuracy: 0.4667\n",
            "Epoch 21/200\n",
            "1/1 [==============================] - 0s 71ms/step - loss: 0.6782 - accuracy: 0.7321 - val_loss: 0.6914 - val_accuracy: 0.5333\n",
            "Epoch 22/200\n",
            "1/1 [==============================] - 0s 76ms/step - loss: 0.6815 - accuracy: 0.5179 - val_loss: 0.6917 - val_accuracy: 0.5333\n",
            "Epoch 23/200\n",
            "1/1 [==============================] - 0s 71ms/step - loss: 0.6784 - accuracy: 0.5179 - val_loss: 0.6948 - val_accuracy: 0.4667\n",
            "Epoch 24/200\n",
            "1/1 [==============================] - 0s 72ms/step - loss: 0.6685 - accuracy: 0.8929 - val_loss: 0.7041 - val_accuracy: 0.4667\n",
            "Epoch 25/200\n",
            "1/1 [==============================] - 0s 71ms/step - loss: 0.6779 - accuracy: 0.4821 - val_loss: 0.6976 - val_accuracy: 0.4667\n",
            "Epoch 26/200\n",
            "1/1 [==============================] - 0s 73ms/step - loss: 0.6706 - accuracy: 0.7321 - val_loss: 0.6917 - val_accuracy: 0.5333\n",
            "Epoch 27/200\n",
            "1/1 [==============================] - 0s 71ms/step - loss: 0.6714 - accuracy: 0.5179 - val_loss: 0.6919 - val_accuracy: 0.5333\n",
            "Epoch 28/200\n",
            "1/1 [==============================] - 0s 72ms/step - loss: 0.6705 - accuracy: 0.5179 - val_loss: 0.6931 - val_accuracy: 0.4667\n",
            "Epoch 29/200\n",
            "1/1 [==============================] - 0s 75ms/step - loss: 0.6637 - accuracy: 0.6250 - val_loss: 0.6981 - val_accuracy: 0.4667\n",
            "Epoch 30/200\n",
            "1/1 [==============================] - 0s 74ms/step - loss: 0.6624 - accuracy: 0.6250 - val_loss: 0.6971 - val_accuracy: 0.4667\n",
            "Epoch 31/200\n",
            "1/1 [==============================] - 0s 71ms/step - loss: 0.6527 - accuracy: 1.0000 - val_loss: 0.6934 - val_accuracy: 0.4667\n",
            "Epoch 32/200\n",
            "1/1 [==============================] - 0s 69ms/step - loss: 0.6541 - accuracy: 0.5357 - val_loss: 0.6931 - val_accuracy: 0.5333\n",
            "Epoch 33/200\n",
            "1/1 [==============================] - 0s 68ms/step - loss: 0.6504 - accuracy: 0.5357 - val_loss: 0.6954 - val_accuracy: 0.6000\n",
            "Epoch 34/200\n",
            "1/1 [==============================] - 0s 71ms/step - loss: 0.6484 - accuracy: 0.8750 - val_loss: 0.6982 - val_accuracy: 0.4667\n",
            "Epoch 35/200\n",
            "1/1 [==============================] - 0s 69ms/step - loss: 0.6445 - accuracy: 0.9643 - val_loss: 0.6963 - val_accuracy: 0.4667\n",
            "Epoch 36/200\n",
            "1/1 [==============================] - 0s 74ms/step - loss: 0.6404 - accuracy: 1.0000 - val_loss: 0.6943 - val_accuracy: 0.4667\n",
            "Epoch 37/200\n",
            "1/1 [==============================] - 0s 69ms/step - loss: 0.6378 - accuracy: 0.6250 - val_loss: 0.6945 - val_accuracy: 0.4667\n",
            "Epoch 38/200\n",
            "1/1 [==============================] - 0s 71ms/step - loss: 0.6326 - accuracy: 0.6429 - val_loss: 0.6965 - val_accuracy: 0.4000\n",
            "Epoch 39/200\n",
            "1/1 [==============================] - 0s 72ms/step - loss: 0.6313 - accuracy: 0.9464 - val_loss: 0.6984 - val_accuracy: 0.4667\n",
            "Epoch 40/200\n",
            "1/1 [==============================] - 0s 71ms/step - loss: 0.6189 - accuracy: 1.0000 - val_loss: 0.6970 - val_accuracy: 0.4000\n",
            "Epoch 41/200\n",
            "1/1 [==============================] - 0s 71ms/step - loss: 0.6202 - accuracy: 0.9821 - val_loss: 0.6958 - val_accuracy: 0.4667\n",
            "Epoch 42/200\n",
            "1/1 [==============================] - 0s 73ms/step - loss: 0.6156 - accuracy: 0.8393 - val_loss: 0.6964 - val_accuracy: 0.4667\n",
            "Epoch 43/200\n",
            "1/1 [==============================] - 0s 70ms/step - loss: 0.6125 - accuracy: 0.8393 - val_loss: 0.6983 - val_accuracy: 0.4667\n",
            "Epoch 44/200\n",
            "1/1 [==============================] - 0s 71ms/step - loss: 0.6079 - accuracy: 1.0000 - val_loss: 0.6992 - val_accuracy: 0.4000\n",
            "Epoch 45/200\n",
            "1/1 [==============================] - 0s 72ms/step - loss: 0.5987 - accuracy: 1.0000 - val_loss: 0.6981 - val_accuracy: 0.4667\n",
            "Epoch 46/200\n",
            "1/1 [==============================] - 0s 73ms/step - loss: 0.5910 - accuracy: 0.9464 - val_loss: 0.6983 - val_accuracy: 0.4667\n",
            "Epoch 47/200\n",
            "1/1 [==============================] - 0s 71ms/step - loss: 0.5855 - accuracy: 0.9107 - val_loss: 0.7002 - val_accuracy: 0.4667\n",
            "Epoch 48/200\n",
            "1/1 [==============================] - 0s 72ms/step - loss: 0.5744 - accuracy: 1.0000 - val_loss: 0.7019 - val_accuracy: 0.5333\n",
            "Epoch 49/200\n",
            "1/1 [==============================] - 0s 72ms/step - loss: 0.5701 - accuracy: 1.0000 - val_loss: 0.7009 - val_accuracy: 0.4667\n",
            "Epoch 50/200\n",
            "1/1 [==============================] - 0s 71ms/step - loss: 0.5637 - accuracy: 0.9464 - val_loss: 0.7018 - val_accuracy: 0.4667\n",
            "Epoch 51/200\n",
            "1/1 [==============================] - 0s 72ms/step - loss: 0.5551 - accuracy: 0.8929 - val_loss: 0.7049 - val_accuracy: 0.4667\n",
            "Epoch 52/200\n",
            "1/1 [==============================] - 0s 70ms/step - loss: 0.5458 - accuracy: 1.0000 - val_loss: 0.7064 - val_accuracy: 0.4667\n",
            "Epoch 53/200\n",
            "1/1 [==============================] - 0s 73ms/step - loss: 0.5347 - accuracy: 1.0000 - val_loss: 0.7061 - val_accuracy: 0.4667\n",
            "Epoch 54/200\n",
            "1/1 [==============================] - 0s 71ms/step - loss: 0.5274 - accuracy: 0.9107 - val_loss: 0.7076 - val_accuracy: 0.4667\n",
            "Epoch 55/200\n",
            "1/1 [==============================] - 0s 69ms/step - loss: 0.5066 - accuracy: 1.0000 - val_loss: 0.7125 - val_accuracy: 0.5333\n",
            "Epoch 56/200\n",
            "1/1 [==============================] - 0s 69ms/step - loss: 0.4957 - accuracy: 0.9821 - val_loss: 0.7114 - val_accuracy: 0.4667\n",
            "Epoch 57/200\n",
            "1/1 [==============================] - 0s 71ms/step - loss: 0.4757 - accuracy: 0.9821 - val_loss: 0.7137 - val_accuracy: 0.4667\n",
            "Epoch 58/200\n",
            "1/1 [==============================] - 0s 69ms/step - loss: 0.4594 - accuracy: 0.9821 - val_loss: 0.7214 - val_accuracy: 0.4667\n",
            "Epoch 59/200\n",
            "1/1 [==============================] - 0s 69ms/step - loss: 0.4510 - accuracy: 0.9643 - val_loss: 0.7195 - val_accuracy: 0.4667\n",
            "Epoch 60/200\n",
            "1/1 [==============================] - 0s 70ms/step - loss: 0.4217 - accuracy: 0.9821 - val_loss: 0.7200 - val_accuracy: 0.4667\n",
            "Epoch 61/200\n",
            "1/1 [==============================] - 0s 73ms/step - loss: 0.4019 - accuracy: 1.0000 - val_loss: 0.7274 - val_accuracy: 0.5333\n",
            "Epoch 62/200\n",
            "1/1 [==============================] - 0s 74ms/step - loss: 0.3886 - accuracy: 1.0000 - val_loss: 0.7370 - val_accuracy: 0.4667\n",
            "Epoch 63/200\n",
            "1/1 [==============================] - 0s 73ms/step - loss: 0.3903 - accuracy: 0.9464 - val_loss: 0.7459 - val_accuracy: 0.5333\n",
            "Epoch 64/200\n",
            "1/1 [==============================] - 0s 73ms/step - loss: 0.3717 - accuracy: 0.9821 - val_loss: 0.7349 - val_accuracy: 0.4667\n",
            "Epoch 65/200\n",
            "1/1 [==============================] - 0s 77ms/step - loss: 0.3208 - accuracy: 1.0000 - val_loss: 0.7402 - val_accuracy: 0.4000\n",
            "Epoch 66/200\n",
            "1/1 [==============================] - 0s 70ms/step - loss: 0.2948 - accuracy: 1.0000 - val_loss: 0.7478 - val_accuracy: 0.5333\n",
            "Epoch 67/200\n",
            "1/1 [==============================] - 0s 70ms/step - loss: 0.2590 - accuracy: 1.0000 - val_loss: 0.7613 - val_accuracy: 0.4667\n",
            "Epoch 68/200\n",
            "1/1 [==============================] - 0s 73ms/step - loss: 0.2532 - accuracy: 1.0000 - val_loss: 0.7905 - val_accuracy: 0.4667\n",
            "Epoch 69/200\n",
            "1/1 [==============================] - 0s 74ms/step - loss: 0.2556 - accuracy: 0.9821 - val_loss: 0.8014 - val_accuracy: 0.4667\n",
            "Epoch 70/200\n",
            "1/1 [==============================] - 0s 75ms/step - loss: 0.2327 - accuracy: 1.0000 - val_loss: 0.7792 - val_accuracy: 0.5333\n",
            "Epoch 71/200\n",
            "1/1 [==============================] - 0s 69ms/step - loss: 0.1682 - accuracy: 1.0000 - val_loss: 0.7807 - val_accuracy: 0.4667\n",
            "Epoch 72/200\n",
            "1/1 [==============================] - 0s 72ms/step - loss: 0.1326 - accuracy: 1.0000 - val_loss: 0.7923 - val_accuracy: 0.4667\n",
            "Epoch 73/200\n",
            "1/1 [==============================] - 0s 72ms/step - loss: 0.1274 - accuracy: 1.0000 - val_loss: 0.7842 - val_accuracy: 0.5333\n",
            "Epoch 74/200\n",
            "1/1 [==============================] - 0s 71ms/step - loss: 0.1095 - accuracy: 1.0000 - val_loss: 0.7920 - val_accuracy: 0.6000\n",
            "Epoch 75/200\n",
            "1/1 [==============================] - 0s 72ms/step - loss: 0.1027 - accuracy: 1.0000 - val_loss: 0.7958 - val_accuracy: 0.4667\n",
            "Epoch 76/200\n",
            "1/1 [==============================] - 0s 72ms/step - loss: 0.0953 - accuracy: 1.0000 - val_loss: 0.7914 - val_accuracy: 0.4000\n",
            "Epoch 77/200\n",
            "1/1 [==============================] - 0s 71ms/step - loss: 0.0690 - accuracy: 1.0000 - val_loss: 0.8062 - val_accuracy: 0.5333\n",
            "Epoch 78/200\n",
            "1/1 [==============================] - 0s 70ms/step - loss: 0.0641 - accuracy: 1.0000 - val_loss: 0.8013 - val_accuracy: 0.5333\n",
            "Epoch 79/200\n",
            "1/1 [==============================] - 0s 73ms/step - loss: 0.0514 - accuracy: 1.0000 - val_loss: 0.8069 - val_accuracy: 0.4000\n",
            "Epoch 80/200\n",
            "1/1 [==============================] - 0s 71ms/step - loss: 0.0486 - accuracy: 1.0000 - val_loss: 0.8149 - val_accuracy: 0.4667\n",
            "Epoch 81/200\n",
            "1/1 [==============================] - 0s 71ms/step - loss: 0.0421 - accuracy: 1.0000 - val_loss: 0.8322 - val_accuracy: 0.5333\n",
            "Epoch 82/200\n",
            "1/1 [==============================] - 0s 76ms/step - loss: 0.0384 - accuracy: 1.0000 - val_loss: 0.8402 - val_accuracy: 0.5333\n",
            "Epoch 83/200\n",
            "1/1 [==============================] - 0s 72ms/step - loss: 0.0313 - accuracy: 1.0000 - val_loss: 0.8468 - val_accuracy: 0.5333\n",
            "Epoch 84/200\n",
            "1/1 [==============================] - 0s 70ms/step - loss: 0.0249 - accuracy: 1.0000 - val_loss: 0.8550 - val_accuracy: 0.4000\n",
            "Epoch 85/200\n",
            "1/1 [==============================] - 0s 75ms/step - loss: 0.0231 - accuracy: 1.0000 - val_loss: 0.8630 - val_accuracy: 0.4000\n",
            "Epoch 86/200\n",
            "1/1 [==============================] - 0s 72ms/step - loss: 0.0196 - accuracy: 1.0000 - val_loss: 0.8678 - val_accuracy: 0.5333\n",
            "Epoch 87/200\n",
            "1/1 [==============================] - 0s 69ms/step - loss: 0.0170 - accuracy: 1.0000 - val_loss: 0.8769 - val_accuracy: 0.4667\n",
            "Epoch 88/200\n",
            "1/1 [==============================] - 0s 73ms/step - loss: 0.0164 - accuracy: 1.0000 - val_loss: 0.8854 - val_accuracy: 0.5333\n",
            "Epoch 89/200\n",
            "1/1 [==============================] - 0s 74ms/step - loss: 0.0151 - accuracy: 1.0000 - val_loss: 0.8862 - val_accuracy: 0.4667\n",
            "Epoch 90/200\n",
            "1/1 [==============================] - 0s 72ms/step - loss: 0.0127 - accuracy: 1.0000 - val_loss: 0.8887 - val_accuracy: 0.5333\n",
            "Epoch 91/200\n",
            "1/1 [==============================] - 0s 71ms/step - loss: 0.0116 - accuracy: 1.0000 - val_loss: 0.8956 - val_accuracy: 0.4000\n",
            "Epoch 92/200\n",
            "1/1 [==============================] - 0s 73ms/step - loss: 0.0109 - accuracy: 1.0000 - val_loss: 0.8997 - val_accuracy: 0.4000\n",
            "Epoch 93/200\n",
            "1/1 [==============================] - 0s 75ms/step - loss: 0.0101 - accuracy: 1.0000 - val_loss: 0.9010 - val_accuracy: 0.5333\n",
            "Epoch 94/200\n",
            "1/1 [==============================] - 0s 71ms/step - loss: 0.0081 - accuracy: 1.0000 - val_loss: 0.9072 - val_accuracy: 0.4667\n",
            "Epoch 95/200\n",
            "1/1 [==============================] - 0s 71ms/step - loss: 0.0071 - accuracy: 1.0000 - val_loss: 0.9144 - val_accuracy: 0.5333\n",
            "Epoch 96/200\n",
            "1/1 [==============================] - 0s 73ms/step - loss: 0.0071 - accuracy: 1.0000 - val_loss: 0.9190 - val_accuracy: 0.5333\n",
            "Epoch 97/200\n",
            "1/1 [==============================] - 0s 87ms/step - loss: 0.0065 - accuracy: 1.0000 - val_loss: 0.9190 - val_accuracy: 0.5333\n",
            "Epoch 98/200\n",
            "1/1 [==============================] - 0s 71ms/step - loss: 0.0055 - accuracy: 1.0000 - val_loss: 0.9196 - val_accuracy: 0.4667\n",
            "Epoch 99/200\n",
            "1/1 [==============================] - 0s 72ms/step - loss: 0.0054 - accuracy: 1.0000 - val_loss: 0.9209 - val_accuracy: 0.5333\n",
            "Epoch 100/200\n",
            "1/1 [==============================] - 0s 72ms/step - loss: 0.0045 - accuracy: 1.0000 - val_loss: 0.9233 - val_accuracy: 0.5333\n",
            "Epoch 101/200\n",
            "1/1 [==============================] - 0s 73ms/step - loss: 0.0044 - accuracy: 1.0000 - val_loss: 0.9261 - val_accuracy: 0.5333\n",
            "Epoch 102/200\n",
            "1/1 [==============================] - 0s 73ms/step - loss: 0.0044 - accuracy: 1.0000 - val_loss: 0.9294 - val_accuracy: 0.5333\n",
            "Epoch 103/200\n",
            "1/1 [==============================] - 0s 70ms/step - loss: 0.0038 - accuracy: 1.0000 - val_loss: 0.9344 - val_accuracy: 0.4667\n",
            "Epoch 104/200\n",
            "1/1 [==============================] - 0s 75ms/step - loss: 0.0037 - accuracy: 1.0000 - val_loss: 0.9409 - val_accuracy: 0.5333\n",
            "Epoch 105/200\n",
            "1/1 [==============================] - 0s 77ms/step - loss: 0.0032 - accuracy: 1.0000 - val_loss: 0.9461 - val_accuracy: 0.5333\n",
            "Epoch 106/200\n",
            "1/1 [==============================] - 0s 71ms/step - loss: 0.0033 - accuracy: 1.0000 - val_loss: 0.9495 - val_accuracy: 0.5333\n",
            "Epoch 107/200\n",
            "1/1 [==============================] - 0s 75ms/step - loss: 0.0029 - accuracy: 1.0000 - val_loss: 0.9517 - val_accuracy: 0.5333\n",
            "Epoch 108/200\n",
            "1/1 [==============================] - 0s 77ms/step - loss: 0.0024 - accuracy: 1.0000 - val_loss: 0.9531 - val_accuracy: 0.4667\n",
            "Epoch 109/200\n",
            "1/1 [==============================] - 0s 72ms/step - loss: 0.0025 - accuracy: 1.0000 - val_loss: 0.9554 - val_accuracy: 0.4667\n",
            "Epoch 110/200\n",
            "1/1 [==============================] - 0s 75ms/step - loss: 0.0027 - accuracy: 1.0000 - val_loss: 0.9579 - val_accuracy: 0.4667\n",
            "Epoch 111/200\n",
            "1/1 [==============================] - 0s 72ms/step - loss: 0.0022 - accuracy: 1.0000 - val_loss: 0.9605 - val_accuracy: 0.4667\n",
            "Epoch 112/200\n",
            "1/1 [==============================] - 0s 74ms/step - loss: 0.0019 - accuracy: 1.0000 - val_loss: 0.9635 - val_accuracy: 0.4667\n",
            "Epoch 113/200\n",
            "1/1 [==============================] - 0s 74ms/step - loss: 0.0020 - accuracy: 1.0000 - val_loss: 0.9659 - val_accuracy: 0.5333\n",
            "Epoch 114/200\n",
            "1/1 [==============================] - 0s 71ms/step - loss: 0.0019 - accuracy: 1.0000 - val_loss: 0.9685 - val_accuracy: 0.4667\n",
            "Epoch 115/200\n",
            "1/1 [==============================] - 0s 72ms/step - loss: 0.0019 - accuracy: 1.0000 - val_loss: 0.9713 - val_accuracy: 0.4667\n",
            "Epoch 116/200\n",
            "1/1 [==============================] - 0s 74ms/step - loss: 0.0017 - accuracy: 1.0000 - val_loss: 0.9774 - val_accuracy: 0.5333\n",
            "Epoch 117/200\n",
            "1/1 [==============================] - 0s 76ms/step - loss: 0.0016 - accuracy: 1.0000 - val_loss: 1.1133 - val_accuracy: 0.4000\n",
            "Epoch 118/200\n",
            "1/1 [==============================] - 0s 74ms/step - loss: 0.0027 - accuracy: 1.0000 - val_loss: 0.9788 - val_accuracy: 0.5333\n",
            "Epoch 119/200\n",
            "1/1 [==============================] - 0s 73ms/step - loss: 0.0014 - accuracy: 1.0000 - val_loss: 0.9831 - val_accuracy: 0.4667\n",
            "Epoch 120/200\n",
            "1/1 [==============================] - 0s 72ms/step - loss: 0.0015 - accuracy: 1.0000 - val_loss: 0.9880 - val_accuracy: 0.4667\n",
            "Epoch 121/200\n",
            "1/1 [==============================] - 0s 71ms/step - loss: 0.0014 - accuracy: 1.0000 - val_loss: 0.9921 - val_accuracy: 0.4667\n",
            "Epoch 122/200\n",
            "1/1 [==============================] - 0s 75ms/step - loss: 0.0015 - accuracy: 1.0000 - val_loss: 0.9944 - val_accuracy: 0.4667\n",
            "Epoch 123/200\n",
            "1/1 [==============================] - 0s 75ms/step - loss: 0.0013 - accuracy: 1.0000 - val_loss: 0.9956 - val_accuracy: 0.4667\n",
            "Epoch 124/200\n",
            "1/1 [==============================] - 0s 73ms/step - loss: 0.0012 - accuracy: 1.0000 - val_loss: 0.9949 - val_accuracy: 0.5333\n",
            "Epoch 125/200\n",
            "1/1 [==============================] - 0s 72ms/step - loss: 0.0012 - accuracy: 1.0000 - val_loss: 0.9955 - val_accuracy: 0.4667\n",
            "Epoch 126/200\n",
            "1/1 [==============================] - 0s 80ms/step - loss: 0.0010 - accuracy: 1.0000 - val_loss: 0.9988 - val_accuracy: 0.4667\n",
            "Epoch 127/200\n",
            "1/1 [==============================] - 0s 74ms/step - loss: 0.0011 - accuracy: 1.0000 - val_loss: 1.0038 - val_accuracy: 0.4667\n",
            "Epoch 128/200\n",
            "1/1 [==============================] - 0s 74ms/step - loss: 0.0011 - accuracy: 1.0000 - val_loss: 1.0089 - val_accuracy: 0.5333\n",
            "Epoch 129/200\n",
            "1/1 [==============================] - 0s 76ms/step - loss: 0.0012 - accuracy: 1.0000 - val_loss: 1.0134 - val_accuracy: 0.5333\n",
            "Epoch 130/200\n",
            "1/1 [==============================] - 0s 79ms/step - loss: 9.5065e-04 - accuracy: 1.0000 - val_loss: 1.0166 - val_accuracy: 0.5333\n",
            "Epoch 131/200\n",
            "1/1 [==============================] - 0s 70ms/step - loss: 0.0010 - accuracy: 1.0000 - val_loss: 1.0172 - val_accuracy: 0.5333\n",
            "Epoch 132/200\n",
            "1/1 [==============================] - 0s 74ms/step - loss: 0.0011 - accuracy: 1.0000 - val_loss: 1.0151 - val_accuracy: 0.5333\n",
            "Epoch 133/200\n",
            "1/1 [==============================] - 0s 76ms/step - loss: 9.9526e-04 - accuracy: 1.0000 - val_loss: 1.0131 - val_accuracy: 0.4667\n",
            "Epoch 134/200\n",
            "1/1 [==============================] - 0s 73ms/step - loss: 8.6179e-04 - accuracy: 1.0000 - val_loss: 1.0117 - val_accuracy: 0.4667\n",
            "Epoch 135/200\n",
            "1/1 [==============================] - 0s 71ms/step - loss: 9.3453e-04 - accuracy: 1.0000 - val_loss: 1.0112 - val_accuracy: 0.4667\n",
            "Epoch 136/200\n",
            "1/1 [==============================] - 0s 74ms/step - loss: 8.9668e-04 - accuracy: 1.0000 - val_loss: 1.0118 - val_accuracy: 0.4667\n",
            "Epoch 137/200\n",
            "1/1 [==============================] - 0s 75ms/step - loss: 8.0537e-04 - accuracy: 1.0000 - val_loss: 1.0129 - val_accuracy: 0.4667\n",
            "Epoch 138/200\n",
            "1/1 [==============================] - 0s 74ms/step - loss: 7.9367e-04 - accuracy: 1.0000 - val_loss: 1.0143 - val_accuracy: 0.4667\n",
            "Epoch 139/200\n",
            "1/1 [==============================] - 0s 71ms/step - loss: 8.3408e-04 - accuracy: 1.0000 - val_loss: 1.0158 - val_accuracy: 0.4667\n",
            "Epoch 140/200\n",
            "1/1 [==============================] - 0s 73ms/step - loss: 8.3207e-04 - accuracy: 1.0000 - val_loss: 1.0171 - val_accuracy: 0.4667\n",
            "Epoch 141/200\n",
            "1/1 [==============================] - 0s 73ms/step - loss: 7.9083e-04 - accuracy: 1.0000 - val_loss: 1.0182 - val_accuracy: 0.4667\n",
            "Epoch 142/200\n",
            "1/1 [==============================] - 0s 72ms/step - loss: 8.3694e-04 - accuracy: 1.0000 - val_loss: 1.0194 - val_accuracy: 0.4667\n",
            "Epoch 143/200\n",
            "1/1 [==============================] - 0s 76ms/step - loss: 6.6490e-04 - accuracy: 1.0000 - val_loss: 1.0209 - val_accuracy: 0.4667\n",
            "Epoch 144/200\n",
            "1/1 [==============================] - 0s 75ms/step - loss: 7.8993e-04 - accuracy: 1.0000 - val_loss: 1.0227 - val_accuracy: 0.4667\n",
            "Epoch 145/200\n",
            "1/1 [==============================] - 0s 72ms/step - loss: 6.3753e-04 - accuracy: 1.0000 - val_loss: 1.0247 - val_accuracy: 0.4667\n",
            "Epoch 146/200\n",
            "1/1 [==============================] - 0s 72ms/step - loss: 6.0433e-04 - accuracy: 1.0000 - val_loss: 1.0266 - val_accuracy: 0.4667\n",
            "Epoch 147/200\n",
            "1/1 [==============================] - 0s 70ms/step - loss: 6.4200e-04 - accuracy: 1.0000 - val_loss: 1.0285 - val_accuracy: 0.4667\n",
            "Epoch 148/200\n",
            "1/1 [==============================] - 0s 74ms/step - loss: 5.4849e-04 - accuracy: 1.0000 - val_loss: 1.0302 - val_accuracy: 0.4667\n",
            "Epoch 149/200\n",
            "1/1 [==============================] - 0s 73ms/step - loss: 6.3186e-04 - accuracy: 1.0000 - val_loss: 1.0313 - val_accuracy: 0.4667\n",
            "Epoch 150/200\n",
            "1/1 [==============================] - 0s 75ms/step - loss: 6.4348e-04 - accuracy: 1.0000 - val_loss: 1.0323 - val_accuracy: 0.4667\n",
            "Epoch 151/200\n",
            "1/1 [==============================] - 0s 72ms/step - loss: 5.3325e-04 - accuracy: 1.0000 - val_loss: 1.0332 - val_accuracy: 0.4667\n",
            "Epoch 152/200\n",
            "1/1 [==============================] - 0s 75ms/step - loss: 5.5174e-04 - accuracy: 1.0000 - val_loss: 1.0341 - val_accuracy: 0.4667\n",
            "Epoch 153/200\n",
            "1/1 [==============================] - 0s 77ms/step - loss: 5.2037e-04 - accuracy: 1.0000 - val_loss: 1.0350 - val_accuracy: 0.4667\n",
            "Epoch 154/200\n",
            "1/1 [==============================] - 0s 72ms/step - loss: 5.9268e-04 - accuracy: 1.0000 - val_loss: 1.0359 - val_accuracy: 0.4667\n",
            "Epoch 155/200\n",
            "1/1 [==============================] - 0s 79ms/step - loss: 5.1725e-04 - accuracy: 1.0000 - val_loss: 1.0369 - val_accuracy: 0.4667\n",
            "Epoch 156/200\n",
            "1/1 [==============================] - 0s 77ms/step - loss: 4.6151e-04 - accuracy: 1.0000 - val_loss: 1.0381 - val_accuracy: 0.4667\n",
            "Epoch 157/200\n",
            "1/1 [==============================] - 0s 74ms/step - loss: 4.5721e-04 - accuracy: 1.0000 - val_loss: 1.0393 - val_accuracy: 0.4667\n",
            "Epoch 158/200\n",
            "1/1 [==============================] - 0s 72ms/step - loss: 4.7577e-04 - accuracy: 1.0000 - val_loss: 1.0407 - val_accuracy: 0.4667\n",
            "Epoch 159/200\n",
            "1/1 [==============================] - 0s 73ms/step - loss: 5.0289e-04 - accuracy: 1.0000 - val_loss: 1.0419 - val_accuracy: 0.4667\n",
            "Epoch 160/200\n",
            "1/1 [==============================] - 0s 72ms/step - loss: 4.6411e-04 - accuracy: 1.0000 - val_loss: 1.0432 - val_accuracy: 0.4667\n",
            "Epoch 161/200\n",
            "1/1 [==============================] - 0s 76ms/step - loss: 4.2066e-04 - accuracy: 1.0000 - val_loss: 1.0446 - val_accuracy: 0.4667\n",
            "Epoch 162/200\n",
            "1/1 [==============================] - 0s 74ms/step - loss: 3.9841e-04 - accuracy: 1.0000 - val_loss: 1.0459 - val_accuracy: 0.4667\n",
            "Epoch 163/200\n",
            "1/1 [==============================] - 0s 72ms/step - loss: 3.5289e-04 - accuracy: 1.0000 - val_loss: 1.0472 - val_accuracy: 0.4667\n",
            "Epoch 164/200\n",
            "1/1 [==============================] - 0s 71ms/step - loss: 3.5721e-04 - accuracy: 1.0000 - val_loss: 1.0485 - val_accuracy: 0.4667\n",
            "Epoch 165/200\n",
            "1/1 [==============================] - 0s 75ms/step - loss: 3.6405e-04 - accuracy: 1.0000 - val_loss: 1.0499 - val_accuracy: 0.4667\n",
            "Epoch 166/200\n",
            "1/1 [==============================] - 0s 71ms/step - loss: 3.5308e-04 - accuracy: 1.0000 - val_loss: 1.0501 - val_accuracy: 0.4667\n",
            "Epoch 167/200\n",
            "1/1 [==============================] - 0s 78ms/step - loss: 3.7671e-04 - accuracy: 1.0000 - val_loss: 1.0498 - val_accuracy: 0.4667\n",
            "Epoch 168/200\n",
            "1/1 [==============================] - 0s 74ms/step - loss: 3.9775e-04 - accuracy: 1.0000 - val_loss: 1.0497 - val_accuracy: 0.4667\n",
            "Epoch 169/200\n",
            "1/1 [==============================] - 0s 73ms/step - loss: 3.4322e-04 - accuracy: 1.0000 - val_loss: 1.0500 - val_accuracy: 0.4667\n",
            "Epoch 170/200\n",
            "1/1 [==============================] - 0s 74ms/step - loss: 3.7543e-04 - accuracy: 1.0000 - val_loss: 1.0503 - val_accuracy: 0.4667\n",
            "Epoch 171/200\n",
            "1/1 [==============================] - 0s 73ms/step - loss: 3.4864e-04 - accuracy: 1.0000 - val_loss: 1.0508 - val_accuracy: 0.4667\n",
            "Epoch 172/200\n",
            "1/1 [==============================] - 0s 81ms/step - loss: 3.6489e-04 - accuracy: 1.0000 - val_loss: 1.0514 - val_accuracy: 0.4667\n",
            "Epoch 173/200\n",
            "1/1 [==============================] - 0s 73ms/step - loss: 4.0655e-04 - accuracy: 1.0000 - val_loss: 1.0522 - val_accuracy: 0.4667\n",
            "Epoch 174/200\n",
            "1/1 [==============================] - 0s 74ms/step - loss: 3.1716e-04 - accuracy: 1.0000 - val_loss: 1.0529 - val_accuracy: 0.4667\n",
            "Epoch 175/200\n",
            "1/1 [==============================] - 0s 71ms/step - loss: 3.3733e-04 - accuracy: 1.0000 - val_loss: 1.0538 - val_accuracy: 0.4667\n",
            "Epoch 176/200\n",
            "1/1 [==============================] - 0s 75ms/step - loss: 3.6238e-04 - accuracy: 1.0000 - val_loss: 1.0546 - val_accuracy: 0.4667\n",
            "Epoch 177/200\n",
            "1/1 [==============================] - 0s 73ms/step - loss: 3.6472e-04 - accuracy: 1.0000 - val_loss: 1.0555 - val_accuracy: 0.4667\n",
            "Epoch 178/200\n",
            "1/1 [==============================] - 0s 72ms/step - loss: 3.0942e-04 - accuracy: 1.0000 - val_loss: 1.0563 - val_accuracy: 0.4667\n",
            "Epoch 179/200\n",
            "1/1 [==============================] - 0s 72ms/step - loss: 3.2793e-04 - accuracy: 1.0000 - val_loss: 1.0571 - val_accuracy: 0.4667\n",
            "Epoch 180/200\n",
            "1/1 [==============================] - 0s 71ms/step - loss: 2.9715e-04 - accuracy: 1.0000 - val_loss: 1.0579 - val_accuracy: 0.4667\n",
            "Epoch 181/200\n",
            "1/1 [==============================] - 0s 79ms/step - loss: 3.3833e-04 - accuracy: 1.0000 - val_loss: 1.0587 - val_accuracy: 0.4667\n",
            "Epoch 182/200\n",
            "1/1 [==============================] - 0s 75ms/step - loss: 2.9933e-04 - accuracy: 1.0000 - val_loss: 1.0597 - val_accuracy: 0.4667\n",
            "Epoch 183/200\n",
            "1/1 [==============================] - 0s 76ms/step - loss: 2.9682e-04 - accuracy: 1.0000 - val_loss: 1.0607 - val_accuracy: 0.4667\n",
            "Epoch 184/200\n",
            "1/1 [==============================] - 0s 74ms/step - loss: 2.9786e-04 - accuracy: 1.0000 - val_loss: 1.0618 - val_accuracy: 0.4667\n",
            "Epoch 185/200\n",
            "1/1 [==============================] - 0s 75ms/step - loss: 2.9470e-04 - accuracy: 1.0000 - val_loss: 1.0629 - val_accuracy: 0.4667\n",
            "Epoch 186/200\n",
            "1/1 [==============================] - 0s 73ms/step - loss: 3.0516e-04 - accuracy: 1.0000 - val_loss: 1.0642 - val_accuracy: 0.4667\n",
            "Epoch 187/200\n",
            "1/1 [==============================] - 0s 78ms/step - loss: 2.8935e-04 - accuracy: 1.0000 - val_loss: 1.0655 - val_accuracy: 0.4667\n",
            "Epoch 188/200\n",
            "1/1 [==============================] - 0s 77ms/step - loss: 3.0952e-04 - accuracy: 1.0000 - val_loss: 1.0668 - val_accuracy: 0.4667\n",
            "Epoch 189/200\n",
            "1/1 [==============================] - 0s 74ms/step - loss: 2.4400e-04 - accuracy: 1.0000 - val_loss: 1.0682 - val_accuracy: 0.4667\n",
            "Epoch 190/200\n",
            "1/1 [==============================] - 0s 76ms/step - loss: 2.2660e-04 - accuracy: 1.0000 - val_loss: 1.0694 - val_accuracy: 0.4667\n",
            "Epoch 191/200\n",
            "1/1 [==============================] - 0s 72ms/step - loss: 3.2945e-04 - accuracy: 1.0000 - val_loss: 1.0703 - val_accuracy: 0.4667\n",
            "Epoch 192/200\n",
            "1/1 [==============================] - 0s 74ms/step - loss: 2.5441e-04 - accuracy: 1.0000 - val_loss: 1.0709 - val_accuracy: 0.4667\n",
            "Epoch 193/200\n",
            "1/1 [==============================] - 0s 74ms/step - loss: 2.6698e-04 - accuracy: 1.0000 - val_loss: 1.0715 - val_accuracy: 0.4667\n",
            "Epoch 194/200\n",
            "1/1 [==============================] - 0s 73ms/step - loss: 2.4651e-04 - accuracy: 1.0000 - val_loss: 1.0723 - val_accuracy: 0.4667\n",
            "Epoch 195/200\n",
            "1/1 [==============================] - 0s 72ms/step - loss: 2.6414e-04 - accuracy: 1.0000 - val_loss: 1.0730 - val_accuracy: 0.4667\n",
            "Epoch 196/200\n",
            "1/1 [==============================] - 0s 71ms/step - loss: 2.3142e-04 - accuracy: 1.0000 - val_loss: 1.0738 - val_accuracy: 0.4667\n",
            "Epoch 197/200\n",
            "1/1 [==============================] - 0s 72ms/step - loss: 2.3842e-04 - accuracy: 1.0000 - val_loss: 1.0746 - val_accuracy: 0.4667\n",
            "Epoch 198/200\n",
            "1/1 [==============================] - 0s 75ms/step - loss: 2.1517e-04 - accuracy: 1.0000 - val_loss: 1.0754 - val_accuracy: 0.4667\n",
            "Epoch 199/200\n",
            "1/1 [==============================] - 0s 72ms/step - loss: 2.3262e-04 - accuracy: 1.0000 - val_loss: 1.0762 - val_accuracy: 0.4667\n",
            "Epoch 200/200\n",
            "1/1 [==============================] - 0s 75ms/step - loss: 2.1473e-04 - accuracy: 1.0000 - val_loss: 1.0767 - val_accuracy: 0.4667\n"
          ],
          "name": "stdout"
        }
      ]
    },
    {
      "cell_type": "markdown",
      "metadata": {
        "id": "4QJHEd8VWuwE"
      },
      "source": [
        "##Test the accuracy for CNN model"
      ]
    },
    {
      "cell_type": "code",
      "metadata": {
        "colab": {
          "base_uri": "https://localhost:8080/"
        },
        "id": "SB0t_iatU_EL",
        "outputId": "e6085391-5c65-4e99-bfc6-fe9e1aedfd18"
      },
      "source": [
        "acc = CNN_raw_model.evaluate(x_test, y_test, verbose=0)\n",
        "print('Accuracy score for CNN -> DNA')\n",
        "print('Test accuracy:', acc[1]*100)\n",
        "print(f'Time without PCA -> {end1 - start1}')"
      ],
      "execution_count": 11,
      "outputs": [
        {
          "output_type": "stream",
          "text": [
            "Accuracy score for CNN -> DNA\n",
            "Test accuracy: 50.0\n",
            "Time without PCA -> 18.772414570000024\n"
          ],
          "name": "stdout"
        }
      ]
    },
    {
      "cell_type": "markdown",
      "metadata": {
        "id": "78-sfyrKbQae"
      },
      "source": [
        "##Using PCA to reduce the dimentions"
      ]
    },
    {
      "cell_type": "code",
      "metadata": {
        "colab": {
          "base_uri": "https://localhost:8080/"
        },
        "id": "Yf6Q2IEFDj5W",
        "outputId": "e45f7308-79ac-4f5b-aea9-a726826d0068"
      },
      "source": [
        "input_shape = (x_train.shape[1], 1)\n",
        "\n",
        "x_train = x_train.reshape(x_train.shape[0], x_train.shape[1])\n",
        "x_test = x_test.reshape(x_test.shape[0], x_test.shape[1])\n",
        "x_validate = x_validate.reshape(x_validate.shape[0], x_validate.shape[1])\n",
        "\n",
        "print('x_train shape: {}'.format(x_train.shape))\n",
        "print('x_test shape: {}'.format(x_test.shape))\n",
        "print('x_validate shape: {}'.format(x_validate.shape))"
      ],
      "execution_count": 12,
      "outputs": [
        {
          "output_type": "stream",
          "text": [
            "x_train shape: (56, 10001)\n",
            "x_test shape: (18, 10001)\n",
            "x_validate shape: (15, 10001)\n"
          ],
          "name": "stdout"
        }
      ]
    },
    {
      "cell_type": "markdown",
      "metadata": {
        "id": "Goq-sccGbYr4"
      },
      "source": [
        "##PCA Model"
      ]
    },
    {
      "cell_type": "code",
      "metadata": {
        "id": "BisuYBpsDrU1"
      },
      "source": [
        "pca = PCA(n_components = 30) #reduce componen into 30 feature\n",
        "pca_x_train = pca.fit_transform(x_train)\n",
        "pca_x_test = pca.transform(x_test)\n",
        "pca_x_validate = pca.transform(x_validate)\n",
        "\n",
        "#Inverse is used to make the data more clearly from PCA\n",
        "pca_x_train = pca.inverse_transform(pca_x_train)\n",
        "pca_x_test = pca.inverse_transform(pca_x_test)\n",
        "pca_x_validate = pca.inverse_transform(pca_x_validate)"
      ],
      "execution_count": 13,
      "outputs": []
    },
    {
      "cell_type": "markdown",
      "metadata": {
        "id": "NycKMRHFbbNF"
      },
      "source": [
        "**Reshape into 3D again to use in CNN model**"
      ]
    },
    {
      "cell_type": "code",
      "metadata": {
        "colab": {
          "base_uri": "https://localhost:8080/"
        },
        "id": "5H19Mi6VCfdY",
        "outputId": "7496700e-3e81-40d8-895b-c4e927e92788"
      },
      "source": [
        "x_train = pca_x_train.reshape(x_train.shape[0], x_train.shape[1], 1)\n",
        "x_test = pca_x_test.reshape(x_test.shape[0], x_test.shape[1], 1)\n",
        "x_validate = pca_x_validate.reshape(x_validate.shape[0], x_validate.shape[1], 1)\n",
        "\n",
        "print('x_train shape: {}'.format(x_train.shape))\n",
        "print('x_test shape: {}'.format(x_test.shape))\n",
        "print('x_validate shape: {}'.format(x_validate.shape))"
      ],
      "execution_count": 14,
      "outputs": [
        {
          "output_type": "stream",
          "text": [
            "x_train shape: (56, 10001, 1)\n",
            "x_test shape: (18, 10001, 1)\n",
            "x_validate shape: (15, 10001, 1)\n"
          ],
          "name": "stdout"
        }
      ]
    },
    {
      "cell_type": "markdown",
      "metadata": {
        "id": "EeidX1yqbhfg"
      },
      "source": [
        "##Implement CNN + PCA model"
      ]
    },
    {
      "cell_type": "markdown",
      "metadata": {
        "id": "N-nIC_dVW23a"
      },
      "source": [
        "**Build the CNN model that already using PCA**"
      ]
    },
    {
      "cell_type": "code",
      "metadata": {
        "id": "kzfkaNENEw5k"
      },
      "source": [
        "CNN_raw_PCAmodel = Sequential()\n",
        "CNN_raw_PCAmodel.add(Conv1D(32, kernel_size=(3), activation='relu', input_shape=input_shape))\n",
        "CNN_raw_PCAmodel.add(Dropout(0.2))\n",
        "CNN_raw_PCAmodel.add(Conv1D(64, kernel_size=(3), activation='relu'))\n",
        "CNN_raw_PCAmodel.add(MaxPooling1D(pool_size=(2)))\n",
        "CNN_raw_PCAmodel.add(Dropout(0.3))\n",
        "CNN_raw_PCAmodel.add(Flatten())\n",
        "CNN_raw_PCAmodel.add(Dense(64, activation='relu'))\n",
        "CNN_raw_PCAmodel.add(Dense(128, activation='relu'))\n",
        "CNN_raw_PCAmodel.add(Dense(2, activation='softmax'))"
      ],
      "execution_count": 15,
      "outputs": []
    },
    {
      "cell_type": "code",
      "metadata": {
        "colab": {
          "base_uri": "https://localhost:8080/"
        },
        "id": "mU27hJNtE0Dq",
        "outputId": "f9adf0e2-7ce7-494f-dcbd-feef07da86a7"
      },
      "source": [
        "CNN_raw_PCAmodel.compile(optimizer= Adam(lr= 0.001), loss='categorical_crossentropy', metrics=['accuracy'])"
      ],
      "execution_count": 16,
      "outputs": [
        {
          "output_type": "stream",
          "text": [
            "/usr/local/lib/python3.7/dist-packages/tensorflow/python/keras/optimizer_v2/optimizer_v2.py:375: UserWarning: The `lr` argument is deprecated, use `learning_rate` instead.\n",
            "  \"The `lr` argument is deprecated, use `learning_rate` instead.\")\n"
          ],
          "name": "stderr"
        }
      ]
    },
    {
      "cell_type": "markdown",
      "metadata": {
        "id": "0bPTtqk9boP6"
      },
      "source": [
        "**Train the model**"
      ]
    },
    {
      "cell_type": "code",
      "metadata": {
        "colab": {
          "base_uri": "https://localhost:8080/"
        },
        "id": "7muXI1ZnE2tp",
        "outputId": "96e07abf-99de-4ea0-acf7-a2360ee2e613"
      },
      "source": [
        "start2 =timeit.default_timer()\n",
        "history = CNN_raw_PCAmodel.fit(x_train, y_train, batch_size= 300, epochs=200, validation_data=(x_validate, y_validate))\n",
        "end2 = timeit.default_timer()"
      ],
      "execution_count": 17,
      "outputs": [
        {
          "output_type": "stream",
          "text": [
            "Epoch 1/200\n",
            "1/1 [==============================] - 1s 713ms/step - loss: 0.6991 - accuracy: 0.5357 - val_loss: 11.8353 - val_accuracy: 0.5333\n",
            "Epoch 2/200\n",
            "1/1 [==============================] - 0s 71ms/step - loss: 15.6984 - accuracy: 0.5179 - val_loss: 14.6909 - val_accuracy: 0.4667\n",
            "Epoch 3/200\n",
            "1/1 [==============================] - 0s 75ms/step - loss: 19.2569 - accuracy: 0.4821 - val_loss: 0.7650 - val_accuracy: 0.5333\n",
            "Epoch 4/200\n",
            "1/1 [==============================] - 0s 72ms/step - loss: 0.9214 - accuracy: 0.5179 - val_loss: 2.4828 - val_accuracy: 0.4667\n",
            "Epoch 5/200\n",
            "1/1 [==============================] - 0s 72ms/step - loss: 3.2076 - accuracy: 0.4821 - val_loss: 4.4399 - val_accuracy: 0.5333\n",
            "Epoch 6/200\n",
            "1/1 [==============================] - 0s 74ms/step - loss: 6.5135 - accuracy: 0.5179 - val_loss: 3.6399 - val_accuracy: 0.5333\n",
            "Epoch 7/200\n",
            "1/1 [==============================] - 0s 71ms/step - loss: 5.5031 - accuracy: 0.5179 - val_loss: 0.6943 - val_accuracy: 0.4667\n",
            "Epoch 8/200\n",
            "1/1 [==============================] - 0s 71ms/step - loss: 0.6732 - accuracy: 0.5357 - val_loss: 3.3732 - val_accuracy: 0.4667\n",
            "Epoch 9/200\n",
            "1/1 [==============================] - 0s 69ms/step - loss: 4.6763 - accuracy: 0.4821 - val_loss: 3.1470 - val_accuracy: 0.4667\n",
            "Epoch 10/200\n",
            "1/1 [==============================] - 0s 70ms/step - loss: 4.4711 - accuracy: 0.4821 - val_loss: 1.0818 - val_accuracy: 0.4667\n",
            "Epoch 11/200\n",
            "1/1 [==============================] - 0s 72ms/step - loss: 1.3662 - accuracy: 0.4821 - val_loss: 1.8577 - val_accuracy: 0.5333\n",
            "Epoch 12/200\n",
            "1/1 [==============================] - 0s 72ms/step - loss: 2.9398 - accuracy: 0.5179 - val_loss: 2.5784 - val_accuracy: 0.5333\n",
            "Epoch 13/200\n",
            "1/1 [==============================] - 0s 71ms/step - loss: 4.2942 - accuracy: 0.5179 - val_loss: 2.1363 - val_accuracy: 0.5333\n",
            "Epoch 14/200\n",
            "1/1 [==============================] - 0s 70ms/step - loss: 3.6937 - accuracy: 0.5179 - val_loss: 1.1809 - val_accuracy: 0.5333\n",
            "Epoch 15/200\n",
            "1/1 [==============================] - 0s 73ms/step - loss: 2.0249 - accuracy: 0.5179 - val_loss: 0.7387 - val_accuracy: 0.4667\n",
            "Epoch 16/200\n",
            "1/1 [==============================] - 0s 70ms/step - loss: 0.6887 - accuracy: 0.4821 - val_loss: 1.2753 - val_accuracy: 0.4667\n",
            "Epoch 17/200\n",
            "1/1 [==============================] - 0s 76ms/step - loss: 1.8665 - accuracy: 0.4821 - val_loss: 1.3407 - val_accuracy: 0.4667\n",
            "Epoch 18/200\n",
            "1/1 [==============================] - 0s 71ms/step - loss: 2.1142 - accuracy: 0.4821 - val_loss: 1.1086 - val_accuracy: 0.4667\n",
            "Epoch 19/200\n",
            "1/1 [==============================] - 0s 71ms/step - loss: 1.7130 - accuracy: 0.4821 - val_loss: 0.8046 - val_accuracy: 0.4667\n",
            "Epoch 20/200\n",
            "1/1 [==============================] - 0s 71ms/step - loss: 0.9792 - accuracy: 0.4821 - val_loss: 0.6921 - val_accuracy: 0.5333\n",
            "Epoch 21/200\n",
            "1/1 [==============================] - 0s 69ms/step - loss: 0.6507 - accuracy: 0.5536 - val_loss: 0.7279 - val_accuracy: 0.5333\n",
            "Epoch 22/200\n",
            "1/1 [==============================] - 0s 77ms/step - loss: 0.8695 - accuracy: 0.5179 - val_loss: 0.7535 - val_accuracy: 0.5333\n",
            "Epoch 23/200\n",
            "1/1 [==============================] - 0s 70ms/step - loss: 1.0276 - accuracy: 0.5179 - val_loss: 0.7379 - val_accuracy: 0.5333\n",
            "Epoch 24/200\n",
            "1/1 [==============================] - 0s 72ms/step - loss: 0.9883 - accuracy: 0.5179 - val_loss: 0.7102 - val_accuracy: 0.5333\n",
            "Epoch 25/200\n",
            "1/1 [==============================] - 0s 71ms/step - loss: 0.8503 - accuracy: 0.5179 - val_loss: 0.6939 - val_accuracy: 0.5333\n",
            "Epoch 26/200\n",
            "1/1 [==============================] - 0s 72ms/step - loss: 0.7238 - accuracy: 0.5179 - val_loss: 0.6921 - val_accuracy: 0.5333\n",
            "Epoch 27/200\n",
            "1/1 [==============================] - 0s 71ms/step - loss: 0.6569 - accuracy: 0.5536 - val_loss: 0.6971 - val_accuracy: 0.4667\n",
            "Epoch 28/200\n",
            "1/1 [==============================] - 0s 69ms/step - loss: 0.6664 - accuracy: 0.4821 - val_loss: 0.7018 - val_accuracy: 0.4667\n",
            "Epoch 29/200\n",
            "1/1 [==============================] - 0s 75ms/step - loss: 0.6957 - accuracy: 0.4821 - val_loss: 0.7032 - val_accuracy: 0.4667\n",
            "Epoch 30/200\n",
            "1/1 [==============================] - 0s 78ms/step - loss: 0.7220 - accuracy: 0.4821 - val_loss: 0.7019 - val_accuracy: 0.4667\n",
            "Epoch 31/200\n",
            "1/1 [==============================] - 0s 79ms/step - loss: 0.7324 - accuracy: 0.4821 - val_loss: 0.6993 - val_accuracy: 0.4667\n",
            "Epoch 32/200\n",
            "1/1 [==============================] - 0s 69ms/step - loss: 0.7290 - accuracy: 0.4821 - val_loss: 0.6970 - val_accuracy: 0.4667\n",
            "Epoch 33/200\n",
            "1/1 [==============================] - 0s 71ms/step - loss: 0.7075 - accuracy: 0.4821 - val_loss: 0.6955 - val_accuracy: 0.4667\n",
            "Epoch 34/200\n",
            "1/1 [==============================] - 0s 70ms/step - loss: 0.6898 - accuracy: 0.4821 - val_loss: 0.6946 - val_accuracy: 0.4667\n",
            "Epoch 35/200\n",
            "1/1 [==============================] - 0s 71ms/step - loss: 0.6665 - accuracy: 0.4821 - val_loss: 0.6941 - val_accuracy: 0.4667\n",
            "Epoch 36/200\n",
            "1/1 [==============================] - 0s 72ms/step - loss: 0.6482 - accuracy: 0.5000 - val_loss: 0.6939 - val_accuracy: 0.5333\n",
            "Epoch 37/200\n",
            "1/1 [==============================] - 0s 73ms/step - loss: 0.6305 - accuracy: 0.7321 - val_loss: 0.6938 - val_accuracy: 0.4667\n",
            "Epoch 38/200\n",
            "1/1 [==============================] - 0s 73ms/step - loss: 0.6241 - accuracy: 0.8214 - val_loss: 0.6939 - val_accuracy: 0.4667\n",
            "Epoch 39/200\n",
            "1/1 [==============================] - 0s 70ms/step - loss: 0.6129 - accuracy: 0.7321 - val_loss: 0.6941 - val_accuracy: 0.4667\n",
            "Epoch 40/200\n",
            "1/1 [==============================] - 0s 74ms/step - loss: 0.6087 - accuracy: 0.6071 - val_loss: 0.6940 - val_accuracy: 0.4667\n",
            "Epoch 41/200\n",
            "1/1 [==============================] - 0s 71ms/step - loss: 0.6095 - accuracy: 0.5536 - val_loss: 0.6943 - val_accuracy: 0.4667\n",
            "Epoch 42/200\n",
            "1/1 [==============================] - 0s 71ms/step - loss: 0.5992 - accuracy: 0.5536 - val_loss: 0.6953 - val_accuracy: 0.4667\n",
            "Epoch 43/200\n",
            "1/1 [==============================] - 0s 74ms/step - loss: 0.5863 - accuracy: 0.6071 - val_loss: 0.6969 - val_accuracy: 0.4667\n",
            "Epoch 44/200\n",
            "1/1 [==============================] - 0s 73ms/step - loss: 0.5730 - accuracy: 0.7321 - val_loss: 0.6987 - val_accuracy: 0.4667\n",
            "Epoch 45/200\n",
            "1/1 [==============================] - 0s 70ms/step - loss: 0.5485 - accuracy: 0.8929 - val_loss: 0.7009 - val_accuracy: 0.4667\n",
            "Epoch 46/200\n",
            "1/1 [==============================] - 0s 71ms/step - loss: 0.5384 - accuracy: 0.9286 - val_loss: 0.7036 - val_accuracy: 0.4667\n",
            "Epoch 47/200\n",
            "1/1 [==============================] - 0s 70ms/step - loss: 0.5388 - accuracy: 0.8214 - val_loss: 0.7062 - val_accuracy: 0.4667\n",
            "Epoch 48/200\n",
            "1/1 [==============================] - 0s 73ms/step - loss: 0.5079 - accuracy: 0.8750 - val_loss: 0.7095 - val_accuracy: 0.4667\n",
            "Epoch 49/200\n",
            "1/1 [==============================] - 0s 70ms/step - loss: 0.4835 - accuracy: 0.8750 - val_loss: 0.7144 - val_accuracy: 0.4667\n",
            "Epoch 50/200\n",
            "1/1 [==============================] - 0s 81ms/step - loss: 0.4638 - accuracy: 0.8750 - val_loss: 0.7202 - val_accuracy: 0.4667\n",
            "Epoch 51/200\n",
            "1/1 [==============================] - 0s 71ms/step - loss: 0.4526 - accuracy: 0.8929 - val_loss: 0.7257 - val_accuracy: 0.4667\n",
            "Epoch 52/200\n",
            "1/1 [==============================] - 0s 72ms/step - loss: 0.4296 - accuracy: 0.8929 - val_loss: 0.7353 - val_accuracy: 0.4667\n",
            "Epoch 53/200\n",
            "1/1 [==============================] - 0s 76ms/step - loss: 0.4163 - accuracy: 0.8750 - val_loss: 0.7378 - val_accuracy: 0.4667\n",
            "Epoch 54/200\n",
            "1/1 [==============================] - 0s 70ms/step - loss: 0.3721 - accuracy: 0.9464 - val_loss: 0.7473 - val_accuracy: 0.4667\n",
            "Epoch 55/200\n",
            "1/1 [==============================] - 0s 73ms/step - loss: 0.3685 - accuracy: 0.8929 - val_loss: 0.7564 - val_accuracy: 0.4667\n",
            "Epoch 56/200\n",
            "1/1 [==============================] - 0s 76ms/step - loss: 0.3265 - accuracy: 0.8929 - val_loss: 0.8054 - val_accuracy: 0.4667\n",
            "Epoch 57/200\n",
            "1/1 [==============================] - 0s 73ms/step - loss: 0.4212 - accuracy: 0.8036 - val_loss: 0.7748 - val_accuracy: 0.4667\n",
            "Epoch 58/200\n",
            "1/1 [==============================] - 0s 69ms/step - loss: 0.3938 - accuracy: 0.7857 - val_loss: 0.7700 - val_accuracy: 0.4667\n",
            "Epoch 59/200\n",
            "1/1 [==============================] - 0s 71ms/step - loss: 0.3063 - accuracy: 0.8929 - val_loss: 0.8032 - val_accuracy: 0.5333\n",
            "Epoch 60/200\n",
            "1/1 [==============================] - 0s 71ms/step - loss: 0.3497 - accuracy: 0.7857 - val_loss: 0.7806 - val_accuracy: 0.4667\n",
            "Epoch 61/200\n",
            "1/1 [==============================] - 0s 71ms/step - loss: 0.2769 - accuracy: 0.8929 - val_loss: 0.8009 - val_accuracy: 0.4667\n",
            "Epoch 62/200\n",
            "1/1 [==============================] - 0s 72ms/step - loss: 0.3334 - accuracy: 0.8214 - val_loss: 0.7948 - val_accuracy: 0.4667\n",
            "Epoch 63/200\n",
            "1/1 [==============================] - 0s 71ms/step - loss: 0.2705 - accuracy: 0.9107 - val_loss: 0.8077 - val_accuracy: 0.4000\n",
            "Epoch 64/200\n",
            "1/1 [==============================] - 0s 71ms/step - loss: 0.2864 - accuracy: 0.8750 - val_loss: 0.8010 - val_accuracy: 0.4000\n",
            "Epoch 65/200\n",
            "1/1 [==============================] - 0s 72ms/step - loss: 0.2431 - accuracy: 0.9286 - val_loss: 0.8071 - val_accuracy: 0.4667\n",
            "Epoch 66/200\n",
            "1/1 [==============================] - 0s 72ms/step - loss: 0.2391 - accuracy: 0.9107 - val_loss: 0.8053 - val_accuracy: 0.4667\n",
            "Epoch 67/200\n",
            "1/1 [==============================] - 0s 69ms/step - loss: 0.2561 - accuracy: 0.8929 - val_loss: 0.8047 - val_accuracy: 0.4000\n",
            "Epoch 68/200\n",
            "1/1 [==============================] - 0s 69ms/step - loss: 0.1983 - accuracy: 1.0000 - val_loss: 0.8154 - val_accuracy: 0.4000\n",
            "Epoch 69/200\n",
            "1/1 [==============================] - 0s 80ms/step - loss: 0.2075 - accuracy: 0.9821 - val_loss: 0.8117 - val_accuracy: 0.4667\n",
            "Epoch 70/200\n",
            "1/1 [==============================] - 0s 74ms/step - loss: 0.2004 - accuracy: 0.9464 - val_loss: 0.8071 - val_accuracy: 0.4667\n",
            "Epoch 71/200\n",
            "1/1 [==============================] - 0s 71ms/step - loss: 0.1752 - accuracy: 0.9286 - val_loss: 0.8103 - val_accuracy: 0.4667\n",
            "Epoch 72/200\n",
            "1/1 [==============================] - 0s 70ms/step - loss: 0.1763 - accuracy: 0.9286 - val_loss: 0.8157 - val_accuracy: 0.4000\n",
            "Epoch 73/200\n",
            "1/1 [==============================] - 0s 77ms/step - loss: 0.1500 - accuracy: 1.0000 - val_loss: 0.8340 - val_accuracy: 0.4000\n",
            "Epoch 74/200\n",
            "1/1 [==============================] - 0s 71ms/step - loss: 0.1751 - accuracy: 0.9464 - val_loss: 0.8276 - val_accuracy: 0.4000\n",
            "Epoch 75/200\n",
            "1/1 [==============================] - 0s 71ms/step - loss: 0.1365 - accuracy: 0.9821 - val_loss: 0.8327 - val_accuracy: 0.4667\n",
            "Epoch 76/200\n",
            "1/1 [==============================] - 0s 71ms/step - loss: 0.1474 - accuracy: 0.9643 - val_loss: 0.8419 - val_accuracy: 0.4667\n",
            "Epoch 77/200\n",
            "1/1 [==============================] - 0s 73ms/step - loss: 0.1220 - accuracy: 1.0000 - val_loss: 0.8508 - val_accuracy: 0.4000\n",
            "Epoch 78/200\n",
            "1/1 [==============================] - 0s 74ms/step - loss: 0.1089 - accuracy: 0.9821 - val_loss: 0.8738 - val_accuracy: 0.4000\n",
            "Epoch 79/200\n",
            "1/1 [==============================] - 0s 70ms/step - loss: 0.1357 - accuracy: 0.9643 - val_loss: 0.8697 - val_accuracy: 0.3333\n",
            "Epoch 80/200\n",
            "1/1 [==============================] - 0s 71ms/step - loss: 0.0886 - accuracy: 0.9821 - val_loss: 0.8869 - val_accuracy: 0.4667\n",
            "Epoch 81/200\n",
            "1/1 [==============================] - 0s 73ms/step - loss: 0.1281 - accuracy: 0.9464 - val_loss: 0.8873 - val_accuracy: 0.4000\n",
            "Epoch 82/200\n",
            "1/1 [==============================] - 0s 79ms/step - loss: 0.0883 - accuracy: 1.0000 - val_loss: 0.9078 - val_accuracy: 0.4000\n",
            "Epoch 83/200\n",
            "1/1 [==============================] - 0s 70ms/step - loss: 0.0889 - accuracy: 1.0000 - val_loss: 0.9259 - val_accuracy: 0.4000\n",
            "Epoch 84/200\n",
            "1/1 [==============================] - 0s 78ms/step - loss: 0.1040 - accuracy: 0.9643 - val_loss: 0.9083 - val_accuracy: 0.4000\n",
            "Epoch 85/200\n",
            "1/1 [==============================] - 0s 72ms/step - loss: 0.0553 - accuracy: 1.0000 - val_loss: 0.9198 - val_accuracy: 0.5333\n",
            "Epoch 86/200\n",
            "1/1 [==============================] - 0s 69ms/step - loss: 0.1119 - accuracy: 0.9286 - val_loss: 0.9151 - val_accuracy: 0.3333\n",
            "Epoch 87/200\n",
            "1/1 [==============================] - 0s 70ms/step - loss: 0.0360 - accuracy: 1.0000 - val_loss: 0.9517 - val_accuracy: 0.4000\n",
            "Epoch 88/200\n",
            "1/1 [==============================] - 0s 73ms/step - loss: 0.0619 - accuracy: 1.0000 - val_loss: 0.9455 - val_accuracy: 0.4000\n",
            "Epoch 89/200\n",
            "1/1 [==============================] - 0s 73ms/step - loss: 0.0488 - accuracy: 0.9821 - val_loss: 0.9251 - val_accuracy: 0.3333\n",
            "Epoch 90/200\n",
            "1/1 [==============================] - 0s 72ms/step - loss: 0.0409 - accuracy: 1.0000 - val_loss: 0.9396 - val_accuracy: 0.4667\n",
            "Epoch 91/200\n",
            "1/1 [==============================] - 0s 70ms/step - loss: 0.0420 - accuracy: 1.0000 - val_loss: 0.9491 - val_accuracy: 0.5333\n",
            "Epoch 92/200\n",
            "1/1 [==============================] - 0s 77ms/step - loss: 0.0464 - accuracy: 1.0000 - val_loss: 0.9457 - val_accuracy: 0.3333\n",
            "Epoch 93/200\n",
            "1/1 [==============================] - 0s 71ms/step - loss: 0.0222 - accuracy: 1.0000 - val_loss: 0.9642 - val_accuracy: 0.4667\n",
            "Epoch 94/200\n",
            "1/1 [==============================] - 0s 70ms/step - loss: 0.0506 - accuracy: 1.0000 - val_loss: 0.9624 - val_accuracy: 0.4000\n",
            "Epoch 95/200\n",
            "1/1 [==============================] - 0s 74ms/step - loss: 0.0348 - accuracy: 1.0000 - val_loss: 0.9589 - val_accuracy: 0.4000\n",
            "Epoch 96/200\n",
            "1/1 [==============================] - 0s 72ms/step - loss: 0.0198 - accuracy: 1.0000 - val_loss: 0.9693 - val_accuracy: 0.4667\n",
            "Epoch 97/200\n",
            "1/1 [==============================] - 0s 74ms/step - loss: 0.0327 - accuracy: 1.0000 - val_loss: 0.9719 - val_accuracy: 0.5333\n",
            "Epoch 98/200\n",
            "1/1 [==============================] - 0s 71ms/step - loss: 0.0376 - accuracy: 1.0000 - val_loss: 0.9646 - val_accuracy: 0.4000\n",
            "Epoch 99/200\n",
            "1/1 [==============================] - 0s 76ms/step - loss: 0.0159 - accuracy: 1.0000 - val_loss: 0.9679 - val_accuracy: 0.4000\n",
            "Epoch 100/200\n",
            "1/1 [==============================] - 0s 72ms/step - loss: 0.0201 - accuracy: 1.0000 - val_loss: 0.9848 - val_accuracy: 0.4667\n",
            "Epoch 101/200\n",
            "1/1 [==============================] - 0s 71ms/step - loss: 0.0297 - accuracy: 1.0000 - val_loss: 0.9802 - val_accuracy: 0.4000\n",
            "Epoch 102/200\n",
            "1/1 [==============================] - 0s 72ms/step - loss: 0.0186 - accuracy: 1.0000 - val_loss: 0.9713 - val_accuracy: 0.3333\n",
            "Epoch 103/200\n",
            "1/1 [==============================] - 0s 72ms/step - loss: 0.0163 - accuracy: 1.0000 - val_loss: 0.9715 - val_accuracy: 0.4000\n",
            "Epoch 104/200\n",
            "1/1 [==============================] - 0s 75ms/step - loss: 0.0146 - accuracy: 1.0000 - val_loss: 0.9796 - val_accuracy: 0.4667\n",
            "Epoch 105/200\n",
            "1/1 [==============================] - 0s 70ms/step - loss: 0.0172 - accuracy: 1.0000 - val_loss: 0.9850 - val_accuracy: 0.4667\n",
            "Epoch 106/200\n",
            "1/1 [==============================] - 0s 73ms/step - loss: 0.0179 - accuracy: 1.0000 - val_loss: 0.9844 - val_accuracy: 0.4000\n",
            "Epoch 107/200\n",
            "1/1 [==============================] - 0s 82ms/step - loss: 0.0096 - accuracy: 1.0000 - val_loss: 0.9845 - val_accuracy: 0.4000\n",
            "Epoch 108/200\n",
            "1/1 [==============================] - 0s 71ms/step - loss: 0.0078 - accuracy: 1.0000 - val_loss: 0.9898 - val_accuracy: 0.3333\n",
            "Epoch 109/200\n",
            "1/1 [==============================] - 0s 71ms/step - loss: 0.0093 - accuracy: 1.0000 - val_loss: 0.9965 - val_accuracy: 0.3333\n",
            "Epoch 110/200\n",
            "1/1 [==============================] - 0s 70ms/step - loss: 0.0107 - accuracy: 1.0000 - val_loss: 1.0010 - val_accuracy: 0.4000\n",
            "Epoch 111/200\n",
            "1/1 [==============================] - 0s 72ms/step - loss: 0.0077 - accuracy: 1.0000 - val_loss: 1.0026 - val_accuracy: 0.3333\n",
            "Epoch 112/200\n",
            "1/1 [==============================] - 0s 74ms/step - loss: 0.0087 - accuracy: 1.0000 - val_loss: 1.0049 - val_accuracy: 0.3333\n",
            "Epoch 113/200\n",
            "1/1 [==============================] - 0s 71ms/step - loss: 0.0059 - accuracy: 1.0000 - val_loss: 1.0103 - val_accuracy: 0.4000\n",
            "Epoch 114/200\n",
            "1/1 [==============================] - 0s 87ms/step - loss: 0.0084 - accuracy: 1.0000 - val_loss: 1.0218 - val_accuracy: 0.4000\n",
            "Epoch 115/200\n",
            "1/1 [==============================] - 0s 72ms/step - loss: 0.0076 - accuracy: 1.0000 - val_loss: 1.0345 - val_accuracy: 0.4667\n",
            "Epoch 116/200\n",
            "1/1 [==============================] - 0s 73ms/step - loss: 0.0111 - accuracy: 1.0000 - val_loss: 1.0374 - val_accuracy: 0.4000\n",
            "Epoch 117/200\n",
            "1/1 [==============================] - 0s 72ms/step - loss: 0.0059 - accuracy: 1.0000 - val_loss: 1.0380 - val_accuracy: 0.4000\n",
            "Epoch 118/200\n",
            "1/1 [==============================] - 0s 72ms/step - loss: 0.0041 - accuracy: 1.0000 - val_loss: 1.0408 - val_accuracy: 0.4000\n",
            "Epoch 119/200\n",
            "1/1 [==============================] - 0s 71ms/step - loss: 0.0037 - accuracy: 1.0000 - val_loss: 1.0454 - val_accuracy: 0.3333\n",
            "Epoch 120/200\n",
            "1/1 [==============================] - 0s 73ms/step - loss: 0.0063 - accuracy: 1.0000 - val_loss: 1.0513 - val_accuracy: 0.3333\n",
            "Epoch 121/200\n",
            "1/1 [==============================] - 0s 71ms/step - loss: 0.0062 - accuracy: 1.0000 - val_loss: 1.0578 - val_accuracy: 0.3333\n",
            "Epoch 122/200\n",
            "1/1 [==============================] - 0s 72ms/step - loss: 0.0052 - accuracy: 1.0000 - val_loss: 1.0652 - val_accuracy: 0.3333\n",
            "Epoch 123/200\n",
            "1/1 [==============================] - 0s 75ms/step - loss: 0.0045 - accuracy: 1.0000 - val_loss: 1.0749 - val_accuracy: 0.4000\n",
            "Epoch 124/200\n",
            "1/1 [==============================] - 0s 74ms/step - loss: 0.0034 - accuracy: 1.0000 - val_loss: 1.0854 - val_accuracy: 0.4000\n",
            "Epoch 125/200\n",
            "1/1 [==============================] - 0s 70ms/step - loss: 0.0040 - accuracy: 1.0000 - val_loss: 1.0943 - val_accuracy: 0.4000\n",
            "Epoch 126/200\n",
            "1/1 [==============================] - 0s 74ms/step - loss: 0.0038 - accuracy: 1.0000 - val_loss: 1.1000 - val_accuracy: 0.4000\n",
            "Epoch 127/200\n",
            "1/1 [==============================] - 0s 73ms/step - loss: 0.0022 - accuracy: 1.0000 - val_loss: 1.1045 - val_accuracy: 0.4000\n",
            "Epoch 128/200\n",
            "1/1 [==============================] - 0s 75ms/step - loss: 0.0028 - accuracy: 1.0000 - val_loss: 1.1088 - val_accuracy: 0.3333\n",
            "Epoch 129/200\n",
            "1/1 [==============================] - 0s 73ms/step - loss: 0.0035 - accuracy: 1.0000 - val_loss: 1.1147 - val_accuracy: 0.3333\n",
            "Epoch 130/200\n",
            "1/1 [==============================] - 0s 71ms/step - loss: 0.0023 - accuracy: 1.0000 - val_loss: 1.1203 - val_accuracy: 0.3333\n",
            "Epoch 131/200\n",
            "1/1 [==============================] - 0s 73ms/step - loss: 0.0032 - accuracy: 1.0000 - val_loss: 1.1259 - val_accuracy: 0.3333\n",
            "Epoch 132/200\n",
            "1/1 [==============================] - 0s 73ms/step - loss: 0.0023 - accuracy: 1.0000 - val_loss: 1.1313 - val_accuracy: 0.3333\n",
            "Epoch 133/200\n",
            "1/1 [==============================] - 0s 73ms/step - loss: 0.0024 - accuracy: 1.0000 - val_loss: 1.1385 - val_accuracy: 0.3333\n",
            "Epoch 134/200\n",
            "1/1 [==============================] - 0s 73ms/step - loss: 0.0048 - accuracy: 1.0000 - val_loss: 1.1434 - val_accuracy: 0.3333\n",
            "Epoch 135/200\n",
            "1/1 [==============================] - 0s 73ms/step - loss: 0.0020 - accuracy: 1.0000 - val_loss: 1.1487 - val_accuracy: 0.3333\n",
            "Epoch 136/200\n",
            "1/1 [==============================] - 0s 87ms/step - loss: 0.0020 - accuracy: 1.0000 - val_loss: 1.1551 - val_accuracy: 0.3333\n",
            "Epoch 137/200\n",
            "1/1 [==============================] - 0s 72ms/step - loss: 0.0018 - accuracy: 1.0000 - val_loss: 1.1620 - val_accuracy: 0.4000\n",
            "Epoch 138/200\n",
            "1/1 [==============================] - 0s 74ms/step - loss: 0.0024 - accuracy: 1.0000 - val_loss: 1.1713 - val_accuracy: 0.4000\n",
            "Epoch 139/200\n",
            "1/1 [==============================] - 0s 75ms/step - loss: 0.0019 - accuracy: 1.0000 - val_loss: 1.1783 - val_accuracy: 0.4000\n",
            "Epoch 140/200\n",
            "1/1 [==============================] - 0s 72ms/step - loss: 0.0016 - accuracy: 1.0000 - val_loss: 1.1829 - val_accuracy: 0.4000\n",
            "Epoch 141/200\n",
            "1/1 [==============================] - 0s 73ms/step - loss: 0.0013 - accuracy: 1.0000 - val_loss: 1.1878 - val_accuracy: 0.4000\n",
            "Epoch 142/200\n",
            "1/1 [==============================] - 0s 72ms/step - loss: 0.0018 - accuracy: 1.0000 - val_loss: 1.1931 - val_accuracy: 0.4000\n",
            "Epoch 143/200\n",
            "1/1 [==============================] - 0s 72ms/step - loss: 0.0020 - accuracy: 1.0000 - val_loss: 1.1976 - val_accuracy: 0.4000\n",
            "Epoch 144/200\n",
            "1/1 [==============================] - 0s 78ms/step - loss: 0.0016 - accuracy: 1.0000 - val_loss: 1.2007 - val_accuracy: 0.4000\n",
            "Epoch 145/200\n",
            "1/1 [==============================] - 0s 71ms/step - loss: 0.0023 - accuracy: 1.0000 - val_loss: 1.2035 - val_accuracy: 0.4000\n",
            "Epoch 146/200\n",
            "1/1 [==============================] - 0s 72ms/step - loss: 0.0013 - accuracy: 1.0000 - val_loss: 1.2056 - val_accuracy: 0.4000\n",
            "Epoch 147/200\n",
            "1/1 [==============================] - 0s 72ms/step - loss: 0.0015 - accuracy: 1.0000 - val_loss: 1.2070 - val_accuracy: 0.4000\n",
            "Epoch 148/200\n",
            "1/1 [==============================] - 0s 74ms/step - loss: 0.0026 - accuracy: 1.0000 - val_loss: 1.2038 - val_accuracy: 0.4000\n",
            "Epoch 149/200\n",
            "1/1 [==============================] - 0s 73ms/step - loss: 0.0014 - accuracy: 1.0000 - val_loss: 1.2021 - val_accuracy: 0.4000\n",
            "Epoch 150/200\n",
            "1/1 [==============================] - 0s 76ms/step - loss: 0.0010 - accuracy: 1.0000 - val_loss: 1.2018 - val_accuracy: 0.3333\n",
            "Epoch 151/200\n",
            "1/1 [==============================] - 0s 74ms/step - loss: 0.0013 - accuracy: 1.0000 - val_loss: 1.2034 - val_accuracy: 0.3333\n",
            "Epoch 152/200\n",
            "1/1 [==============================] - 0s 71ms/step - loss: 0.0010 - accuracy: 1.0000 - val_loss: 1.2063 - val_accuracy: 0.3333\n",
            "Epoch 153/200\n",
            "1/1 [==============================] - 0s 74ms/step - loss: 0.0023 - accuracy: 1.0000 - val_loss: 1.2125 - val_accuracy: 0.3333\n",
            "Epoch 154/200\n",
            "1/1 [==============================] - 0s 73ms/step - loss: 0.0013 - accuracy: 1.0000 - val_loss: 1.2207 - val_accuracy: 0.4000\n",
            "Epoch 155/200\n",
            "1/1 [==============================] - 0s 81ms/step - loss: 0.0012 - accuracy: 1.0000 - val_loss: 1.2310 - val_accuracy: 0.4000\n",
            "Epoch 156/200\n",
            "1/1 [==============================] - 0s 72ms/step - loss: 0.0011 - accuracy: 1.0000 - val_loss: 1.2418 - val_accuracy: 0.4000\n",
            "Epoch 157/200\n",
            "1/1 [==============================] - 0s 71ms/step - loss: 0.0018 - accuracy: 1.0000 - val_loss: 1.2506 - val_accuracy: 0.4000\n",
            "Epoch 158/200\n",
            "1/1 [==============================] - 0s 72ms/step - loss: 0.0014 - accuracy: 1.0000 - val_loss: 1.2561 - val_accuracy: 0.4000\n",
            "Epoch 159/200\n",
            "1/1 [==============================] - 0s 74ms/step - loss: 0.0016 - accuracy: 1.0000 - val_loss: 1.2548 - val_accuracy: 0.4000\n",
            "Epoch 160/200\n",
            "1/1 [==============================] - 0s 73ms/step - loss: 0.0015 - accuracy: 1.0000 - val_loss: 1.2493 - val_accuracy: 0.4000\n",
            "Epoch 161/200\n",
            "1/1 [==============================] - 0s 71ms/step - loss: 5.1873e-04 - accuracy: 1.0000 - val_loss: 1.2445 - val_accuracy: 0.4000\n",
            "Epoch 162/200\n",
            "1/1 [==============================] - 0s 88ms/step - loss: 0.0010 - accuracy: 1.0000 - val_loss: 1.2412 - val_accuracy: 0.4000\n",
            "Epoch 163/200\n",
            "1/1 [==============================] - 0s 78ms/step - loss: 0.0012 - accuracy: 1.0000 - val_loss: 1.2395 - val_accuracy: 0.4000\n",
            "Epoch 164/200\n",
            "1/1 [==============================] - 0s 87ms/step - loss: 0.0018 - accuracy: 1.0000 - val_loss: 1.2416 - val_accuracy: 0.4000\n",
            "Epoch 165/200\n",
            "1/1 [==============================] - 0s 72ms/step - loss: 9.0100e-04 - accuracy: 1.0000 - val_loss: 1.2439 - val_accuracy: 0.4000\n",
            "Epoch 166/200\n",
            "1/1 [==============================] - 0s 83ms/step - loss: 0.0014 - accuracy: 1.0000 - val_loss: 1.2441 - val_accuracy: 0.4000\n",
            "Epoch 167/200\n",
            "1/1 [==============================] - 0s 71ms/step - loss: 7.5182e-04 - accuracy: 1.0000 - val_loss: 1.2446 - val_accuracy: 0.4000\n",
            "Epoch 168/200\n",
            "1/1 [==============================] - 0s 72ms/step - loss: 0.0011 - accuracy: 1.0000 - val_loss: 1.2464 - val_accuracy: 0.4000\n",
            "Epoch 169/200\n",
            "1/1 [==============================] - 0s 70ms/step - loss: 0.0012 - accuracy: 1.0000 - val_loss: 1.2495 - val_accuracy: 0.4000\n",
            "Epoch 170/200\n",
            "1/1 [==============================] - 0s 77ms/step - loss: 0.0021 - accuracy: 1.0000 - val_loss: 1.2578 - val_accuracy: 0.4000\n",
            "Epoch 171/200\n",
            "1/1 [==============================] - 0s 72ms/step - loss: 9.7068e-04 - accuracy: 1.0000 - val_loss: 1.2656 - val_accuracy: 0.4000\n",
            "Epoch 172/200\n",
            "1/1 [==============================] - 0s 71ms/step - loss: 9.1611e-04 - accuracy: 1.0000 - val_loss: 1.2715 - val_accuracy: 0.4000\n",
            "Epoch 173/200\n",
            "1/1 [==============================] - 0s 71ms/step - loss: 6.8573e-04 - accuracy: 1.0000 - val_loss: 1.2753 - val_accuracy: 0.4000\n",
            "Epoch 174/200\n",
            "1/1 [==============================] - 0s 76ms/step - loss: 9.4282e-04 - accuracy: 1.0000 - val_loss: 1.2770 - val_accuracy: 0.4000\n",
            "Epoch 175/200\n",
            "1/1 [==============================] - 0s 73ms/step - loss: 7.1134e-04 - accuracy: 1.0000 - val_loss: 1.2771 - val_accuracy: 0.4000\n",
            "Epoch 176/200\n",
            "1/1 [==============================] - 0s 73ms/step - loss: 7.2780e-04 - accuracy: 1.0000 - val_loss: 1.2745 - val_accuracy: 0.4000\n",
            "Epoch 177/200\n",
            "1/1 [==============================] - 0s 73ms/step - loss: 0.0013 - accuracy: 1.0000 - val_loss: 1.2687 - val_accuracy: 0.4000\n",
            "Epoch 178/200\n",
            "1/1 [==============================] - 0s 73ms/step - loss: 7.0338e-04 - accuracy: 1.0000 - val_loss: 1.2633 - val_accuracy: 0.4000\n",
            "Epoch 179/200\n",
            "1/1 [==============================] - 0s 73ms/step - loss: 0.0011 - accuracy: 1.0000 - val_loss: 1.2618 - val_accuracy: 0.4000\n",
            "Epoch 180/200\n",
            "1/1 [==============================] - 0s 73ms/step - loss: 6.2253e-04 - accuracy: 1.0000 - val_loss: 1.2620 - val_accuracy: 0.4000\n",
            "Epoch 181/200\n",
            "1/1 [==============================] - 0s 72ms/step - loss: 0.0010 - accuracy: 1.0000 - val_loss: 1.2636 - val_accuracy: 0.4000\n",
            "Epoch 182/200\n",
            "1/1 [==============================] - 0s 75ms/step - loss: 5.5570e-04 - accuracy: 1.0000 - val_loss: 1.2658 - val_accuracy: 0.4000\n",
            "Epoch 183/200\n",
            "1/1 [==============================] - 0s 72ms/step - loss: 6.8682e-04 - accuracy: 1.0000 - val_loss: 1.2678 - val_accuracy: 0.4000\n",
            "Epoch 184/200\n",
            "1/1 [==============================] - 0s 74ms/step - loss: 8.6544e-04 - accuracy: 1.0000 - val_loss: 1.2696 - val_accuracy: 0.4000\n",
            "Epoch 185/200\n",
            "1/1 [==============================] - 0s 74ms/step - loss: 8.2284e-04 - accuracy: 1.0000 - val_loss: 1.2737 - val_accuracy: 0.4000\n",
            "Epoch 186/200\n",
            "1/1 [==============================] - 0s 73ms/step - loss: 6.5480e-04 - accuracy: 1.0000 - val_loss: 1.2777 - val_accuracy: 0.4000\n",
            "Epoch 187/200\n",
            "1/1 [==============================] - 0s 74ms/step - loss: 5.7866e-04 - accuracy: 1.0000 - val_loss: 1.2822 - val_accuracy: 0.4000\n",
            "Epoch 188/200\n",
            "1/1 [==============================] - 0s 71ms/step - loss: 4.6997e-04 - accuracy: 1.0000 - val_loss: 1.2865 - val_accuracy: 0.4000\n",
            "Epoch 189/200\n",
            "1/1 [==============================] - 0s 75ms/step - loss: 8.3438e-04 - accuracy: 1.0000 - val_loss: 1.2912 - val_accuracy: 0.4000\n",
            "Epoch 190/200\n",
            "1/1 [==============================] - 0s 75ms/step - loss: 5.9435e-04 - accuracy: 1.0000 - val_loss: 1.2964 - val_accuracy: 0.4000\n",
            "Epoch 191/200\n",
            "1/1 [==============================] - 0s 72ms/step - loss: 7.4951e-04 - accuracy: 1.0000 - val_loss: 1.3046 - val_accuracy: 0.4000\n",
            "Epoch 192/200\n",
            "1/1 [==============================] - 0s 70ms/step - loss: 5.5260e-04 - accuracy: 1.0000 - val_loss: 1.3117 - val_accuracy: 0.4000\n",
            "Epoch 193/200\n",
            "1/1 [==============================] - 0s 71ms/step - loss: 4.0322e-04 - accuracy: 1.0000 - val_loss: 1.3188 - val_accuracy: 0.4000\n",
            "Epoch 194/200\n",
            "1/1 [==============================] - 0s 76ms/step - loss: 7.7794e-04 - accuracy: 1.0000 - val_loss: 1.3217 - val_accuracy: 0.4000\n",
            "Epoch 195/200\n",
            "1/1 [==============================] - 0s 72ms/step - loss: 4.1501e-04 - accuracy: 1.0000 - val_loss: 1.3237 - val_accuracy: 0.4000\n",
            "Epoch 196/200\n",
            "1/1 [==============================] - 0s 78ms/step - loss: 9.9964e-04 - accuracy: 1.0000 - val_loss: 1.3205 - val_accuracy: 0.4000\n",
            "Epoch 197/200\n",
            "1/1 [==============================] - 0s 71ms/step - loss: 0.0013 - accuracy: 1.0000 - val_loss: 1.3144 - val_accuracy: 0.4000\n",
            "Epoch 198/200\n",
            "1/1 [==============================] - 0s 72ms/step - loss: 0.0011 - accuracy: 1.0000 - val_loss: 1.3122 - val_accuracy: 0.4000\n",
            "Epoch 199/200\n",
            "1/1 [==============================] - 0s 74ms/step - loss: 6.0828e-04 - accuracy: 1.0000 - val_loss: 1.3123 - val_accuracy: 0.4000\n",
            "Epoch 200/200\n",
            "1/1 [==============================] - 0s 71ms/step - loss: 7.5205e-04 - accuracy: 1.0000 - val_loss: 1.3126 - val_accuracy: 0.4000\n"
          ],
          "name": "stdout"
        }
      ]
    },
    {
      "cell_type": "markdown",
      "metadata": {
        "id": "_bYxKAJgbtEQ"
      },
      "source": [
        "##Test the accuracy for CNN + PCA model"
      ]
    },
    {
      "cell_type": "code",
      "metadata": {
        "colab": {
          "base_uri": "https://localhost:8080/"
        },
        "id": "D_HFZclCFEts",
        "outputId": "15b96669-cf0d-47c1-bc51-6ddaf6659e59"
      },
      "source": [
        "accPCA = CNN_raw_PCAmodel.evaluate(x_test, y_test, verbose=0)\n",
        "print('Accuracy score for CNN + PCA -> DNA')\n",
        "print('Test accuracy:', accPCA[1]*100)\n",
        "print(f'Time with PCA -> {end2 - start2}')"
      ],
      "execution_count": 18,
      "outputs": [
        {
          "output_type": "stream",
          "text": [
            "Accuracy score for CNN + PCA -> DNA\n",
            "Test accuracy: 55.55555820465088\n",
            "Time with PCA -> 16.476340273000005\n"
          ],
          "name": "stdout"
        }
      ]
    }
  ]
}