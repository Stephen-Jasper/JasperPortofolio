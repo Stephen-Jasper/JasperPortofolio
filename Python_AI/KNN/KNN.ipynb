{
  "nbformat": 4,
  "nbformat_minor": 0,
  "metadata": {
    "colab": {
      "name": "KNN.ipynb",
      "provenance": []
    },
    "kernelspec": {
      "name": "python3",
      "display_name": "Python 3"
    },
    "language_info": {
      "name": "python"
    }
  },
  "cells": [
    {
      "cell_type": "code",
      "metadata": {
        "id": "uB5B4GcLYtfb"
      },
      "source": [
        "import pandas as pd\n",
        "from sklearn.model_selection import train_test_split\n",
        "from sklearn.preprocessing import StandardScaler\n",
        "from sklearn.neighbors import KNeighborsClassifier\n",
        "from sklearn.metrics import confusion_matrix\n",
        "from matplotlib import pyplot as plt\n",
        "import seaborn as sns\n",
        "sns.set()"
      ],
      "execution_count": 1,
      "outputs": []
    },
    {
      "cell_type": "code",
      "metadata": {
        "colab": {
          "base_uri": "https://localhost:8080/"
        },
        "id": "nihvlrWfZAmB",
        "outputId": "7d16d2dc-db81-4eae-d86d-f3583d544578"
      },
      "source": [
        "df = pd.read_csv('Klasifikasi_Banjir.csv')\n",
        "print(df.head(5))"
      ],
      "execution_count": 2,
      "outputs": [
        {
          "output_type": "stream",
          "text": [
            "   tahun  bulan  curah_hujan  banyak_hari_hujan  Banjir\n",
            "0   2011      1        145.6                 25       1\n",
            "1   2011      2        230.7                 18       1\n",
            "2   2011      3        147.7                 18       1\n",
            "3   2011      4        106.8                 16       1\n",
            "4   2011      5        198.9                 12       0\n"
          ],
          "name": "stdout"
        }
      ]
    },
    {
      "cell_type": "code",
      "metadata": {
        "colab": {
          "base_uri": "https://localhost:8080/",
          "height": 302
        },
        "id": "PdrHkB5Tim_c",
        "outputId": "5f449542-7e79-43df-d078-4df235f714f1"
      },
      "source": [
        "sns.scatterplot(data=df, x=\"curah_hujan\", y=\"banyak_hari_hujan\", hue='Banjir')"
      ],
      "execution_count": 3,
      "outputs": [
        {
          "output_type": "execute_result",
          "data": {
            "text/plain": [
              "<matplotlib.axes._subplots.AxesSubplot at 0x7f48ab789250>"
            ]
          },
          "metadata": {
            "tags": []
          },
          "execution_count": 3
        },
        {
          "output_type": "display_data",
          "data": {
            "image/png": "[encoded data removed]",
            "text/plain": [
              "<Figure size 432x288 with 1 Axes>"
            ]
          },
          "metadata": {
            "tags": [],
            "needs_background": "light"
          }
        }
      ]
    },
    {
      "cell_type": "code",
      "metadata": {
        "id": "wZ3dUOl4cgnh"
      },
      "source": [
        "features = df[['curah_hujan', 'banyak_hari_hujan']].values\n",
        "label = df['Banjir'].values.reshape(-1,1)"
      ],
      "execution_count": 4,
      "outputs": []
    },
    {
      "cell_type": "code",
      "metadata": {
        "id": "etge7BuEZFH7"
      },
      "source": [
        "x_train, x_test, y_train, y_test = train_test_split(features, label, test_size=0.3)"
      ],
      "execution_count": 5,
      "outputs": []
    },
    {
      "cell_type": "code",
      "metadata": {
        "id": "eIcOm4ckc7GG"
      },
      "source": [
        "scaler = StandardScaler().fit(x_train) \n",
        "x_train = scaler.transform(x_train)\n",
        "x_test = scaler.transform(x_test)"
      ],
      "execution_count": 6,
      "outputs": []
    },
    {
      "cell_type": "code",
      "metadata": {
        "colab": {
          "base_uri": "https://localhost:8080/"
        },
        "id": "QhPt4tKrZgmb",
        "outputId": "83547de4-6299-4523-ca99-0debf9af6eb6"
      },
      "source": [
        "knn = KNeighborsClassifier(n_neighbors=3, metric='euclidean')\n",
        "knn.fit(x_train, y_train)"
      ],
      "execution_count": 7,
      "outputs": [
        {
          "output_type": "stream",
          "text": [
            "/usr/local/lib/python3.7/dist-packages/ipykernel_launcher.py:2: DataConversionWarning: A column-vector y was passed when a 1d array was expected. Please change the shape of y to (n_samples, ), for example using ravel().\n",
            "  \n"
          ],
          "name": "stderr"
        },
        {
          "output_type": "execute_result",
          "data": {
            "text/plain": [
              "KNeighborsClassifier(algorithm='auto', leaf_size=30, metric='euclidean',\n",
              "                     metric_params=None, n_jobs=None, n_neighbors=3, p=2,\n",
              "                     weights='uniform')"
            ]
          },
          "metadata": {
            "tags": []
          },
          "execution_count": 7
        }
      ]
    },
    {
      "cell_type": "code",
      "metadata": {
        "id": "o4F3VQNWZi9Z"
      },
      "source": [
        "y_pred = knn.predict(x_test)"
      ],
      "execution_count": 8,
      "outputs": []
    },
    {
      "cell_type": "code",
      "metadata": {
        "colab": {
          "base_uri": "https://localhost:8080/",
          "height": 272
        },
        "id": "mBEU1TWeaTvn",
        "outputId": "e34bad4c-4c06-45e5-87da-fec9e5e2135f"
      },
      "source": [
        "from sklearn.metrics import confusion_matrix\n",
        "cm1=confusion_matrix(y_test, y_pred)\n",
        "ax1 = sns.heatmap(cm1,annot=True,fmt='2.0f')\n",
        "plt.show()"
      ],
      "execution_count": 9,
      "outputs": [
        {
          "output_type": "display_data",
          "data": {
            "image/png": "[encoded data removed]",
            "text/plain": [
              "<Figure size 432x288 with 2 Axes>"
            ]
          },
          "metadata": {
            "tags": [],
            "needs_background": "light"
          }
        }
      ]
    },
    {
      "cell_type": "code",
      "metadata": {
        "colab": {
          "base_uri": "https://localhost:8080/"
        },
        "id": "JpLTXqmPab0G",
        "outputId": "1d7cccd3-e54e-4194-b982-f37f60f7fb1d"
      },
      "source": [
        "from sklearn.metrics import classification_report\n",
        "print(\"Using K = 3\")\n",
        "print(classification_report(y_test, y_pred))"
      ],
      "execution_count": 14,
      "outputs": [
        {
          "output_type": "stream",
          "text": [
            "Using K = 3\n",
            "              precision    recall  f1-score   support\n",
            "\n",
            "           0       1.00      0.67      0.80         9\n",
            "           1       0.67      1.00      0.80         6\n",
            "\n",
            "    accuracy                           0.80        15\n",
            "   macro avg       0.83      0.83      0.80        15\n",
            "weighted avg       0.87      0.80      0.80        15\n",
            "\n"
          ],
          "name": "stdout"
        }
      ]
    },
    {
      "cell_type": "code",
      "metadata": {
        "colab": {
          "base_uri": "https://localhost:8080/"
        },
        "id": "8VhFr962zcHP",
        "outputId": "728d7198-0054-4dd9-a720-cb686a8a3e1c"
      },
      "source": [
        "knn7 = KNeighborsClassifier(n_neighbors=7, metric='euclidean')\n",
        "knn7.fit(x_train, y_train)\n",
        "y_pred3 = knn7.predict(x_test)\n",
        "from sklearn.metrics import classification_report\n",
        "print(\"Using K = 7\")\n",
        "print(classification_report(y_test, y_pred3))"
      ],
      "execution_count": 15,
      "outputs": [
        {
          "output_type": "stream",
          "text": [
            "Using K = 7\n",
            "              precision    recall  f1-score   support\n",
            "\n",
            "           0       1.00      0.56      0.71         9\n",
            "           1       0.60      1.00      0.75         6\n",
            "\n",
            "    accuracy                           0.73        15\n",
            "   macro avg       0.80      0.78      0.73        15\n",
            "weighted avg       0.84      0.73      0.73        15\n",
            "\n"
          ],
          "name": "stdout"
        },
        {
          "output_type": "stream",
          "text": [
            "/usr/local/lib/python3.7/dist-packages/ipykernel_launcher.py:2: DataConversionWarning: A column-vector y was passed when a 1d array was expected. Please change the shape of y to (n_samples, ), for example using ravel().\n",
            "  \n"
          ],
          "name": "stderr"
        }
      ]
    },
    {
      "cell_type": "code",
      "metadata": {
        "colab": {
          "base_uri": "https://localhost:8080/"
        },
        "id": "KZA6Oi2bzJAJ",
        "outputId": "89373210-306e-434a-ddae-72f5b24f630e"
      },
      "source": [
        "knn11 = KNeighborsClassifier(n_neighbors=11, metric='euclidean')\n",
        "knn11.fit(x_train, y_train)\n",
        "y_pred2 = knn11.predict(x_test)\n",
        "print(\"Using K = 11\")\n",
        "from sklearn.metrics import classification_report\n",
        "print(classification_report(y_test, y_pred2))"
      ],
      "execution_count": 16,
      "outputs": [
        {
          "output_type": "stream",
          "text": [
            "Using K = 11\n",
            "              precision    recall  f1-score   support\n",
            "\n",
            "           0       1.00      0.44      0.62         9\n",
            "           1       0.55      1.00      0.71         6\n",
            "\n",
            "    accuracy                           0.67        15\n",
            "   macro avg       0.77      0.72      0.66        15\n",
            "weighted avg       0.82      0.67      0.65        15\n",
            "\n"
          ],
          "name": "stdout"
        },
        {
          "output_type": "stream",
          "text": [
            "/usr/local/lib/python3.7/dist-packages/ipykernel_launcher.py:2: DataConversionWarning: A column-vector y was passed when a 1d array was expected. Please change the shape of y to (n_samples, ), for example using ravel().\n",
            "  \n"
          ],
          "name": "stderr"
        }
      ]
    }
  ]
}