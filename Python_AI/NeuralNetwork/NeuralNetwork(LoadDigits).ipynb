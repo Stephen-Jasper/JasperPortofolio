{
  "nbformat": 4,
  "nbformat_minor": 0,
  "metadata": {
    "colab": {
      "name": "UTS[1].ipynb",
      "provenance": [],
      "collapsed_sections": [],
      "toc_visible": true
    },
    "kernelspec": {
      "name": "python3",
      "display_name": "Python 3"
    },
    "language_info": {
      "name": "python"
    }
  },
  "cells": [
    {
      "cell_type": "markdown",
      "metadata": {
        "id": "h1BY_F-tC7BW"
      },
      "source": [
        "**Import Library**"
      ]
    },
    {
      "cell_type": "code",
      "metadata": {
        "id": "jXYU6LlFt93_"
      },
      "source": [
        "from sklearn.datasets import load_digits\n",
        "from sklearn.model_selection import train_test_split\n",
        "from sklearn.preprocessing import MinMaxScaler\n",
        "from sklearn import metrics\n",
        "import numpy as np\n",
        "import pylab as pl\n",
        "import pandas as pd\n",
        "import seaborn as sn\n",
        "import matplotlib.pyplot as plt"
      ],
      "execution_count": null,
      "outputs": []
    },
    {
      "cell_type": "markdown",
      "metadata": {
        "id": "w1P6l8GhDAv0"
      },
      "source": [
        "##Import Dataset using load_digits"
      ]
    },
    {
      "cell_type": "code",
      "metadata": {
        "id": "BJ8ZHMW68fa7"
      },
      "source": [
        "dataset = load_digits()"
      ],
      "execution_count": null,
      "outputs": []
    },
    {
      "cell_type": "markdown",
      "metadata": {
        "id": "sfnK5QcmGJkq"
      },
      "source": [
        "**Check the dataset, image, and target**"
      ]
    },
    {
      "cell_type": "code",
      "metadata": {
        "colab": {
          "base_uri": "https://localhost:8080/"
        },
        "id": "lHF_5aTBEJjZ",
        "outputId": "d4005b9e-63c5-4417-e7ab-78e5c29f537e"
      },
      "source": [
        "dataset"
      ],
      "execution_count": null,
      "outputs": [
        {
          "output_type": "execute_result",
          "data": {
            "text/plain": [
              "{'DESCR': \".. _digits_dataset:\\n\\nOptical recognition of handwritten digits dataset\\n--------------------------------------------------\\n\\n**Data Set Characteristics:**\\n\\n    :Number of Instances: 5620\\n    :Number of Attributes: 64\\n    :Attribute Information: 8x8 image of integer pixels in the range 0..16.\\n    :Missing Attribute Values: None\\n    :Creator: E. Alpaydin (alpaydin '@' boun.edu.tr)\\n    :Date: July; 1998\\n\\nThis is a copy of the test set of the UCI ML hand-written digits datasets\\nhttps://archive.ics.uci.edu/ml/datasets/Optical+Recognition+of+Handwritten+Digits\\n\\nThe data set contains images of hand-written digits: 10 classes where\\neach class refers to a digit.\\n\\nPreprocessing programs made available by NIST were used to extract\\nnormalized bitmaps of handwritten digits from a preprinted form. From a\\ntotal of 43 people, 30 contributed to the training set and different 13\\nto the test set. 32x32 bitmaps are divided into nonoverlapping blocks of\\n4x4 and the number of on pixels are counted in each block. This generates\\nan input matrix of 8x8 where each element is an integer in the range\\n0..16. This reduces dimensionality and gives invariance to small\\ndistortions.\\n\\nFor info on NIST preprocessing routines, see M. D. Garris, J. L. Blue, G.\\nT. Candela, D. L. Dimmick, J. Geist, P. J. Grother, S. A. Janet, and C.\\nL. Wilson, NIST Form-Based Handprint Recognition System, NISTIR 5469,\\n1994.\\n\\n.. topic:: References\\n\\n  - C. Kaynak (1995) Methods of Combining Multiple Classifiers and Their\\n    Applications to Handwritten Digit Recognition, MSc Thesis, Institute of\\n    Graduate Studies in Science and Engineering, Bogazici University.\\n  - E. Alpaydin, C. Kaynak (1998) Cascading Classifiers, Kybernetika.\\n  - Ken Tang and Ponnuthurai N. Suganthan and Xi Yao and A. Kai Qin.\\n    Linear dimensionalityreduction using relevance weighted LDA. School of\\n    Electrical and Electronic Engineering Nanyang Technological University.\\n    2005.\\n  - Claudio Gentile. A New Approximate Maximal Margin Classification\\n    Algorithm. NIPS. 2000.\",\n",
              " 'data': array([[ 0.,  0.,  5., ...,  0.,  0.,  0.],\n",
              "        [ 0.,  0.,  0., ..., 10.,  0.,  0.],\n",
              "        [ 0.,  0.,  0., ..., 16.,  9.,  0.],\n",
              "        ...,\n",
              "        [ 0.,  0.,  1., ...,  6.,  0.,  0.],\n",
              "        [ 0.,  0.,  2., ..., 12.,  0.,  0.],\n",
              "        [ 0.,  0., 10., ..., 12.,  1.,  0.]]),\n",
              " 'images': array([[[ 0.,  0.,  5., ...,  1.,  0.,  0.],\n",
              "         [ 0.,  0., 13., ..., 15.,  5.,  0.],\n",
              "         [ 0.,  3., 15., ..., 11.,  8.,  0.],\n",
              "         ...,\n",
              "         [ 0.,  4., 11., ..., 12.,  7.,  0.],\n",
              "         [ 0.,  2., 14., ..., 12.,  0.,  0.],\n",
              "         [ 0.,  0.,  6., ...,  0.,  0.,  0.]],\n",
              " \n",
              "        [[ 0.,  0.,  0., ...,  5.,  0.,  0.],\n",
              "         [ 0.,  0.,  0., ...,  9.,  0.,  0.],\n",
              "         [ 0.,  0.,  3., ...,  6.,  0.,  0.],\n",
              "         ...,\n",
              "         [ 0.,  0.,  1., ...,  6.,  0.,  0.],\n",
              "         [ 0.,  0.,  1., ...,  6.,  0.,  0.],\n",
              "         [ 0.,  0.,  0., ..., 10.,  0.,  0.]],\n",
              " \n",
              "        [[ 0.,  0.,  0., ..., 12.,  0.,  0.],\n",
              "         [ 0.,  0.,  3., ..., 14.,  0.,  0.],\n",
              "         [ 0.,  0.,  8., ..., 16.,  0.,  0.],\n",
              "         ...,\n",
              "         [ 0.,  9., 16., ...,  0.,  0.,  0.],\n",
              "         [ 0.,  3., 13., ..., 11.,  5.,  0.],\n",
              "         [ 0.,  0.,  0., ..., 16.,  9.,  0.]],\n",
              " \n",
              "        ...,\n",
              " \n",
              "        [[ 0.,  0.,  1., ...,  1.,  0.,  0.],\n",
              "         [ 0.,  0., 13., ...,  2.,  1.,  0.],\n",
              "         [ 0.,  0., 16., ..., 16.,  5.,  0.],\n",
              "         ...,\n",
              "         [ 0.,  0., 16., ..., 15.,  0.,  0.],\n",
              "         [ 0.,  0., 15., ..., 16.,  0.,  0.],\n",
              "         [ 0.,  0.,  2., ...,  6.,  0.,  0.]],\n",
              " \n",
              "        [[ 0.,  0.,  2., ...,  0.,  0.,  0.],\n",
              "         [ 0.,  0., 14., ..., 15.,  1.,  0.],\n",
              "         [ 0.,  4., 16., ..., 16.,  7.,  0.],\n",
              "         ...,\n",
              "         [ 0.,  0.,  0., ..., 16.,  2.,  0.],\n",
              "         [ 0.,  0.,  4., ..., 16.,  2.,  0.],\n",
              "         [ 0.,  0.,  5., ..., 12.,  0.,  0.]],\n",
              " \n",
              "        [[ 0.,  0., 10., ...,  1.,  0.,  0.],\n",
              "         [ 0.,  2., 16., ...,  1.,  0.,  0.],\n",
              "         [ 0.,  0., 15., ..., 15.,  0.,  0.],\n",
              "         ...,\n",
              "         [ 0.,  4., 16., ..., 16.,  6.,  0.],\n",
              "         [ 0.,  8., 16., ..., 16.,  8.,  0.],\n",
              "         [ 0.,  1.,  8., ..., 12.,  1.,  0.]]]),\n",
              " 'target': array([0, 1, 2, ..., 8, 9, 8]),\n",
              " 'target_names': array([0, 1, 2, 3, 4, 5, 6, 7, 8, 9])}"
            ]
          },
          "metadata": {
            "tags": []
          },
          "execution_count": 3
        }
      ]
    },
    {
      "cell_type": "markdown",
      "metadata": {
        "id": "rO38GA_rHgZF"
      },
      "source": [
        "**Visualize all the number in dataset**"
      ]
    },
    {
      "cell_type": "code",
      "metadata": {
        "colab": {
          "base_uri": "https://localhost:8080/",
          "height": 568
        },
        "id": "1WTw1erNAmgg",
        "outputId": "3145d2ee-1b6d-4f91-bbbb-d90acdbf1ca2"
      },
      "source": [
        "pl.gray()\n",
        "for i in range (2): #I use 2 loops so that the output is not long\n",
        "  pl.matshow(dataset.images[i])\n",
        "pl.show"
      ],
      "execution_count": null,
      "outputs": [
        {
          "output_type": "execute_result",
          "data": {
            "text/plain": [
              "<function matplotlib.pyplot.show>"
            ]
          },
          "metadata": {
            "tags": []
          },
          "execution_count": 4
        },
        {
          "output_type": "display_data",
          "data": {
            "text/plain": [
              "<Figure size 432x288 with 0 Axes>"
            ]
          },
          "metadata": {
            "tags": []
          }
        },
        {
          "output_type": "display_data",
          "data": {
            "image/png": "[encoded data removed]",
            "text/plain": [
              "<Figure size 288x288 with 1 Axes>"
            ]
          },
          "metadata": {
            "tags": [],
            "needs_background": "light"
          }
        },
        {
          "output_type": "display_data",
          "data": {
            "image/png": "[encoded data removed]",
            "text/plain": [
              "<Figure size 288x288 with 1 Axes>"
            ]
          },
          "metadata": {
            "tags": [],
            "needs_background": "light"
          }
        }
      ]
    },
    {
      "cell_type": "markdown",
      "metadata": {
        "id": "xQtScVhYEn1N"
      },
      "source": [
        "##Collect 2 Class with number 1 and 4"
      ]
    },
    {
      "cell_type": "code",
      "metadata": {
        "id": "sQO99OdLDOvE"
      },
      "source": [
        "DataPart = []\n",
        "DataPart_target = []"
      ],
      "execution_count": null,
      "outputs": []
    },
    {
      "cell_type": "markdown",
      "metadata": {
        "id": "reFqc5ZhE5YK"
      },
      "source": [
        "**Using \" .append\" to insert the data and target to the class. And convert to array because there's a matrix multiplication**"
      ]
    },
    {
      "cell_type": "code",
      "metadata": {
        "id": "_WvGf59uDWSp"
      },
      "source": [
        "for i in range (len(dataset.images)):\n",
        "  if dataset.target[i] == 1 or dataset.target[i] == 4: #Take 2 class, number 1 and number 4\n",
        "    DataPart.append(dataset.data[i])\n",
        "    DataPart_target.append(dataset.target[i])\n",
        "\n",
        "DataPart = np.array(DataPart)\n",
        "DataPart_target = np.array(DataPart_target)"
      ],
      "execution_count": null,
      "outputs": []
    },
    {
      "cell_type": "code",
      "metadata": {
        "colab": {
          "base_uri": "https://localhost:8080/"
        },
        "id": "0xFGpLRd0KVv",
        "outputId": "e1ce98c4-c859-4771-ec7f-e817cba6ba2d"
      },
      "source": [
        "print(DataPart.shape)"
      ],
      "execution_count": null,
      "outputs": [
        {
          "output_type": "stream",
          "text": [
            "(363, 64)\n"
          ],
          "name": "stdout"
        }
      ]
    },
    {
      "cell_type": "markdown",
      "metadata": {
        "id": "dVcc-1L4V5Ll"
      },
      "source": [
        "## Pre-Processing"
      ]
    },
    {
      "cell_type": "markdown",
      "metadata": {
        "id": "zBKPwbh9IEBU"
      },
      "source": [
        "Using MinMaxScaler for pre-processing target"
      ]
    },
    {
      "cell_type": "code",
      "metadata": {
        "id": "uT_I0PTaWPN6"
      },
      "source": [
        "DataPart = DataPart.reshape((len(DataPart),-1))\n",
        "DataPart_target = DataPart_target.reshape(DataPart_target.shape[0],-1)\n",
        "\n",
        "DataPart_target = MinMaxScaler().fit_transform(DataPart_target)"
      ],
      "execution_count": null,
      "outputs": []
    },
    {
      "cell_type": "markdown",
      "metadata": {
        "id": "c1gU2xcLFWHW"
      },
      "source": [
        "**Initialize random Weight and bias, number of epoch and learning_rate**"
      ]
    },
    {
      "cell_type": "code",
      "metadata": {
        "id": "Mf0F52gZkmS9"
      },
      "source": [
        "weight = np.random.normal(size = (64, 1))\n",
        "bias = np.random.normal(size = 1)\n",
        "epoch = 3000\n",
        "learning_rate = 0.01"
      ],
      "execution_count": null,
      "outputs": []
    },
    {
      "cell_type": "markdown",
      "metadata": {
        "id": "bxijHTPuFilK"
      },
      "source": [
        "##Split data with 80% train size and 20% test size"
      ]
    },
    {
      "cell_type": "code",
      "metadata": {
        "id": "8e2b2xOHc2cd"
      },
      "source": [
        "x_train, x_test, y_train, y_test = train_test_split(DataPart, DataPart_target, test_size=0.2)"
      ],
      "execution_count": null,
      "outputs": []
    },
    {
      "cell_type": "markdown",
      "metadata": {
        "id": "x1UAs3TpFp6Z"
      },
      "source": [
        "##Activation function with hardlim"
      ]
    },
    {
      "cell_type": "code",
      "metadata": {
        "id": "5dTNI1rEUZQi"
      },
      "source": [
        "def feed_forward(inputs):\n",
        "    value = np.matmul(inputs, weight)\n",
        "    value += bias\n",
        "    return activation_function(value) \n",
        "\n",
        "def activation_function(x):\n",
        "    if x >= 0:\n",
        "        return 1\n",
        "    else:\n",
        "        return 0"
      ],
      "execution_count": null,
      "outputs": []
    },
    {
      "cell_type": "markdown",
      "metadata": {
        "id": "Q2Hy7wTFFwh5"
      },
      "source": [
        "##Computing the activation function for the neural network and predict the accuracy"
      ]
    },
    {
      "cell_type": "code",
      "metadata": {
        "colab": {
          "base_uri": "https://localhost:8080/"
        },
        "id": "jjNhTeSiUqIr",
        "outputId": "8cee18d0-48d5-47bf-84a7-fb5fefe994f1"
      },
      "source": [
        "y_pred = []\n",
        "for i in range(1, epoch):\n",
        "    randIndex = np.random.randint(0, len(x_train))\n",
        "    data_training = x_train[randIndex]\n",
        "\n",
        "    output_training = feed_forward(data_training)\n",
        "    error = y_train[randIndex] - output_training\n",
        "\n",
        "    #Update Weight\n",
        "    weight = np.add(weight, np.array(data_training).reshape(64, 1) * learning_rate * error)\n",
        "\n",
        "    #Update Bias\n",
        "    bias = bias + (learning_rate * error)\n",
        "\n",
        "    #Test the Data\n",
        "    if i % 500 == 0:\n",
        "        corretct_pixel = 0\n",
        "        for j , inp in enumerate(x_train):\n",
        "            output_testing = feed_forward(inp)\n",
        "            if output_testing == y_train[j]:\n",
        "                corretct_pixel += 1\n",
        "            \n",
        "        print(f'[Epoch: {i}] ')\n",
        "        print(f'Accuracy: {corretct_pixel/len(x_train)*100}% -- Correct_Pixel: {corretct_pixel}')"
      ],
      "execution_count": null,
      "outputs": [
        {
          "output_type": "stream",
          "text": [
            "[Epoch: 500] \n",
            "Accuracy: 97.58620689655172% -- Correct_Pixel: 283\n",
            "[Epoch: 1000] \n",
            "Accuracy: 98.9655172413793% -- Correct_Pixel: 287\n",
            "[Epoch: 1500] \n",
            "Accuracy: 98.9655172413793% -- Correct_Pixel: 287\n",
            "[Epoch: 2000] \n",
            "Accuracy: 100.0% -- Correct_Pixel: 290\n",
            "[Epoch: 2500] \n",
            "Accuracy: 100.0% -- Correct_Pixel: 290\n"
          ],
          "name": "stdout"
        }
      ]
    },
    {
      "cell_type": "markdown",
      "metadata": {
        "id": "J1IbfSboh_0r"
      },
      "source": [
        "Predicted data"
      ]
    },
    {
      "cell_type": "code",
      "metadata": {
        "id": "KK-TSL4NgDgf"
      },
      "source": [
        "predic = []\n",
        "for i in range(0, len(x_test)):\n",
        "  pred = feed_forward(x_test[i])\n",
        "  predic.append(pred)"
      ],
      "execution_count": null,
      "outputs": []
    },
    {
      "cell_type": "markdown",
      "metadata": {
        "id": "h29xCx-JWw2t"
      },
      "source": [
        "##Classification report"
      ]
    },
    {
      "cell_type": "markdown",
      "metadata": {
        "id": "DLw6AZXXW2lz"
      },
      "source": [
        "Classification report is used to perform fixed accuracy, precision, recall, and f1-score "
      ]
    },
    {
      "cell_type": "code",
      "metadata": {
        "colab": {
          "base_uri": "https://localhost:8080/"
        },
        "id": "EXPzOTU8J3ly",
        "outputId": "54597cfd-ba93-43c3-d8d1-3994b5a34935"
      },
      "source": [
        "from sklearn.metrics import classification_report\n",
        "print(classification_report(y_test, predic))"
      ],
      "execution_count": null,
      "outputs": [
        {
          "output_type": "stream",
          "text": [
            "              precision    recall  f1-score   support\n",
            "\n",
            "         0.0       1.00      0.97      0.99        37\n",
            "         1.0       0.97      1.00      0.99        36\n",
            "\n",
            "    accuracy                           0.99        73\n",
            "   macro avg       0.99      0.99      0.99        73\n",
            "weighted avg       0.99      0.99      0.99        73\n",
            "\n"
          ],
          "name": "stdout"
        }
      ]
    },
    {
      "cell_type": "markdown",
      "metadata": {
        "id": "CqDAshb0Wtw6"
      },
      "source": [
        "##Confusion Matrix"
      ]
    },
    {
      "cell_type": "code",
      "metadata": {
        "colab": {
          "base_uri": "https://localhost:8080/"
        },
        "id": "mawj-6tR7Mes",
        "outputId": "6effb291-f76b-43ac-b900-65a570a9733c"
      },
      "source": [
        "confusionMatrix = metrics.confusion_matrix(y_test, predic)\n",
        "print(\"Confusion matrix:\\n{}\".format(confusionMatrix))"
      ],
      "execution_count": null,
      "outputs": [
        {
          "output_type": "stream",
          "text": [
            "Confusion matrix:\n",
            "[[36  1]\n",
            " [ 0 36]]\n"
          ],
          "name": "stdout"
        }
      ]
    },
    {
      "cell_type": "code",
      "metadata": {
        "id": "P6_5SjC97D3v",
        "colab": {
          "base_uri": "https://localhost:8080/",
          "height": 592
        },
        "outputId": "17b61d22-f00a-44a9-d7b2-4ac7ad285907"
      },
      "source": [
        "df_cm = pd.DataFrame(confusionMatrix, range(2), range(2))\n",
        "plt.figure(figsize=(13,10))\n",
        "sn.heatmap(df_cm, annot=True)\n",
        "plt.show()"
      ],
      "execution_count": null,
      "outputs": [
        {
          "output_type": "display_data",
          "data": {
            "image/png": "[encoded data removed]",
            "text/plain": [
              "<Figure size 936x720 with 2 Axes>"
            ]
          },
          "metadata": {
            "tags": [],
            "needs_background": "light"
          }
        }
      ]
    }
  ]
}