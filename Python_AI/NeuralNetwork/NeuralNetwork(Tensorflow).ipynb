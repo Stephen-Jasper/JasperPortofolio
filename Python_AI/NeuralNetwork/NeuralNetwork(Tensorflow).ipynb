{
  "nbformat": 4,
  "nbformat_minor": 0,
  "metadata": {
    "colab": {
      "name": "2301869853_Quiz1.ipynb",
      "provenance": []
    },
    "kernelspec": {
      "name": "python3",
      "display_name": "Python 3"
    },
    "language_info": {
      "name": "python"
    }
  },
  "cells": [
    {
      "cell_type": "code",
      "metadata": {
        "id": "yGnZukBTSJtc"
      },
      "source": [
        "import tensorflow as tf #ver 1.15.0\n",
        "import pandas as pd\n",
        "import numpy as np\n",
        "from sklearn.preprocessing import OrdinalEncoder, OneHotEncoder, StandardScaler\n",
        "from sklearn.model_selection import train_test_split\n",
        "from sklearn.metrics import accuracy_score"
      ],
      "execution_count": null,
      "outputs": []
    },
    {
      "cell_type": "code",
      "metadata": {
        "id": "KukglophS7Fj",
        "colab": {
          "base_uri": "https://localhost:8080/",
          "height": 406
        },
        "outputId": "555a4afe-4a4f-45f0-84c0-cc965bf77774"
      },
      "source": [
        "df = pd.read_csv('dataset.csv')\n",
        "df"
      ],
      "execution_count": null,
      "outputs": [
        {
          "output_type": "execute_result",
          "data": {
            "text/html": [
              "<div>\n",
              "<style scoped>\n",
              "    .dataframe tbody tr th:only-of-type {\n",
              "        vertical-align: middle;\n",
              "    }\n",
              "\n",
              "    .dataframe tbody tr th {\n",
              "        vertical-align: top;\n",
              "    }\n",
              "\n",
              "    .dataframe thead th {\n",
              "        text-align: right;\n",
              "    }\n",
              "</style>\n",
              "<table border=\"1\" class=\"dataframe\">\n",
              "  <thead>\n",
              "    <tr style=\"text-align: right;\">\n",
              "      <th></th>\n",
              "      <th>Age</th>\n",
              "      <th>Sex</th>\n",
              "      <th>BP</th>\n",
              "      <th>Cholesterol</th>\n",
              "      <th>Na_to_K</th>\n",
              "      <th>Drug</th>\n",
              "    </tr>\n",
              "  </thead>\n",
              "  <tbody>\n",
              "    <tr>\n",
              "      <th>0</th>\n",
              "      <td>23</td>\n",
              "      <td>F</td>\n",
              "      <td>HIGH</td>\n",
              "      <td>HIGH</td>\n",
              "      <td>25.355</td>\n",
              "      <td>DrugY</td>\n",
              "    </tr>\n",
              "    <tr>\n",
              "      <th>1</th>\n",
              "      <td>47</td>\n",
              "      <td>M</td>\n",
              "      <td>LOW</td>\n",
              "      <td>HIGH</td>\n",
              "      <td>13.093</td>\n",
              "      <td>DrugC</td>\n",
              "    </tr>\n",
              "    <tr>\n",
              "      <th>2</th>\n",
              "      <td>47</td>\n",
              "      <td>M</td>\n",
              "      <td>LOW</td>\n",
              "      <td>HIGH</td>\n",
              "      <td>10.114</td>\n",
              "      <td>DrugC</td>\n",
              "    </tr>\n",
              "    <tr>\n",
              "      <th>3</th>\n",
              "      <td>28</td>\n",
              "      <td>F</td>\n",
              "      <td>NORMAL</td>\n",
              "      <td>HIGH</td>\n",
              "      <td>7.798</td>\n",
              "      <td>DrugX</td>\n",
              "    </tr>\n",
              "    <tr>\n",
              "      <th>4</th>\n",
              "      <td>61</td>\n",
              "      <td>F</td>\n",
              "      <td>LOW</td>\n",
              "      <td>HIGH</td>\n",
              "      <td>18.043</td>\n",
              "      <td>DrugY</td>\n",
              "    </tr>\n",
              "    <tr>\n",
              "      <th>...</th>\n",
              "      <td>...</td>\n",
              "      <td>...</td>\n",
              "      <td>...</td>\n",
              "      <td>...</td>\n",
              "      <td>...</td>\n",
              "      <td>...</td>\n",
              "    </tr>\n",
              "    <tr>\n",
              "      <th>195</th>\n",
              "      <td>56</td>\n",
              "      <td>F</td>\n",
              "      <td>LOW</td>\n",
              "      <td>HIGH</td>\n",
              "      <td>11.567</td>\n",
              "      <td>DrugC</td>\n",
              "    </tr>\n",
              "    <tr>\n",
              "      <th>196</th>\n",
              "      <td>16</td>\n",
              "      <td>M</td>\n",
              "      <td>LOW</td>\n",
              "      <td>HIGH</td>\n",
              "      <td>12.006</td>\n",
              "      <td>DrugC</td>\n",
              "    </tr>\n",
              "    <tr>\n",
              "      <th>197</th>\n",
              "      <td>52</td>\n",
              "      <td>M</td>\n",
              "      <td>NORMAL</td>\n",
              "      <td>HIGH</td>\n",
              "      <td>9.894</td>\n",
              "      <td>DrugX</td>\n",
              "    </tr>\n",
              "    <tr>\n",
              "      <th>198</th>\n",
              "      <td>23</td>\n",
              "      <td>M</td>\n",
              "      <td>NORMAL</td>\n",
              "      <td>NORMAL</td>\n",
              "      <td>14.020</td>\n",
              "      <td>DrugX</td>\n",
              "    </tr>\n",
              "    <tr>\n",
              "      <th>199</th>\n",
              "      <td>40</td>\n",
              "      <td>F</td>\n",
              "      <td>LOW</td>\n",
              "      <td>NORMAL</td>\n",
              "      <td>11.349</td>\n",
              "      <td>DrugX</td>\n",
              "    </tr>\n",
              "  </tbody>\n",
              "</table>\n",
              "<p>200 rows × 6 columns</p>\n",
              "</div>"
            ],
            "text/plain": [
              "     Age Sex      BP Cholesterol  Na_to_K   Drug\n",
              "0     23   F    HIGH        HIGH   25.355  DrugY\n",
              "1     47   M     LOW        HIGH   13.093  DrugC\n",
              "2     47   M     LOW        HIGH   10.114  DrugC\n",
              "3     28   F  NORMAL        HIGH    7.798  DrugX\n",
              "4     61   F     LOW        HIGH   18.043  DrugY\n",
              "..   ...  ..     ...         ...      ...    ...\n",
              "195   56   F     LOW        HIGH   11.567  DrugC\n",
              "196   16   M     LOW        HIGH   12.006  DrugC\n",
              "197   52   M  NORMAL        HIGH    9.894  DrugX\n",
              "198   23   M  NORMAL      NORMAL   14.020  DrugX\n",
              "199   40   F     LOW      NORMAL   11.349  DrugX\n",
              "\n",
              "[200 rows x 6 columns]"
            ]
          },
          "metadata": {
            "tags": []
          },
          "execution_count": 3
        }
      ]
    },
    {
      "cell_type": "code",
      "metadata": {
        "id": "5Ed2aWlYTFaM"
      },
      "source": [
        "#Atribut\n",
        "features = df[['Age', 'Sex', 'BP', 'Cholesterol', 'Na_to_K']].values\n",
        "label = df[['Drug']].values.reshape(-1,1)"
      ],
      "execution_count": null,
      "outputs": []
    },
    {
      "cell_type": "code",
      "metadata": {
        "id": "kvXzn_tETqUa"
      },
      "source": [
        "encoder = OrdinalEncoder()\n",
        "features = encoder.fit_transform(features)\n",
        "label = encoder.fit_transform(label)"
      ],
      "execution_count": null,
      "outputs": []
    },
    {
      "cell_type": "code",
      "metadata": {
        "id": "Km8yvJeiTipS"
      },
      "source": [
        "#SPLIT DATA\n",
        "x_train, x_test, y_train, y_test = train_test_split(features, label, test_size=0.2)"
      ],
      "execution_count": null,
      "outputs": []
    },
    {
      "cell_type": "code",
      "metadata": {
        "id": "jZdLAl60TsjA"
      },
      "source": [
        "#PREPROCESSING FEATURES\n",
        "scaler = StandardScaler().fit(x_train)\n",
        "x_train = scaler.transform(x_train)\n",
        "x_test = scaler.transform(x_test)"
      ],
      "execution_count": null,
      "outputs": []
    },
    {
      "cell_type": "code",
      "metadata": {
        "id": "RhRZyvQlVYl_"
      },
      "source": [
        "#PREPROCESSING LABELS\n",
        "encoder = OneHotEncoder().fit(y_train)\n",
        "\n",
        "y_train = encoder.transform(y_train).toarray()\n",
        "y_test = encoder.transform(y_test).toarray()"
      ],
      "execution_count": null,
      "outputs": []
    },
    {
      "cell_type": "code",
      "metadata": {
        "id": "8T-iuac2VdgA"
      },
      "source": [
        "x_train, x_test = x_train.astype('float32'), x_test.astype('float32')\n",
        "y_train, y_test = y_train.astype('float32'), y_test.astype('float32')"
      ],
      "execution_count": null,
      "outputs": []
    },
    {
      "cell_type": "code",
      "metadata": {
        "id": "TWoS6oz6VgIt"
      },
      "source": [
        "epochs = 4000\n",
        "learning_rate = 0.01\n",
        "n_features = x_train[0].shape[0]\n",
        "n_classes = y_train[0].shape[0]"
      ],
      "execution_count": null,
      "outputs": []
    },
    {
      "cell_type": "code",
      "metadata": {
        "id": "UREYhkrpVmyb"
      },
      "source": [
        "#neural network\n",
        "input_tensor = tf.placeholder(tf.float32, name = 'input')\n",
        "label_tensor = tf.placeholder(tf.float32, name = 'label')"
      ],
      "execution_count": null,
      "outputs": []
    },
    {
      "cell_type": "code",
      "metadata": {
        "id": "4O7v_SFNVpMo"
      },
      "source": [
        "neurons = [5, 64, 5]\n",
        "n_layers = len(neurons)"
      ],
      "execution_count": null,
      "outputs": []
    },
    {
      "cell_type": "code",
      "metadata": {
        "id": "aOnIItRVVrNF"
      },
      "source": [
        "parameters = {\n",
        "    'W1' : tf.Variable(\n",
        "        tf.random.normal([\n",
        "            n_features, neurons[0]\n",
        "        ]),\n",
        "        tf.float32\n",
        "    ),\n",
        "    'B1' : tf.Variable(\n",
        "        tf.random.normal([1,  neurons[0]]),\n",
        "        tf.float32\n",
        "    ),\n",
        "    'W2' : tf.Variable(\n",
        "        tf.random.normal([\n",
        "            neurons[0], neurons[1]\n",
        "        ]),\n",
        "        tf.float32\n",
        "    ),\n",
        "    'B2' : tf.Variable(\n",
        "        tf.random.normal([1,  neurons[1]]),\n",
        "        tf.float32\n",
        "    ),\n",
        "    'W3' : tf.Variable(\n",
        "        tf.random.normal([\n",
        "            neurons[1], neurons[2]\n",
        "        ]),\n",
        "        tf.float32\n",
        "    ),\n",
        "    'B3' : tf.Variable(\n",
        "        tf.random.normal([1,  neurons[2]]),\n",
        "        tf.float32\n",
        "    )\n",
        "}"
      ],
      "execution_count": null,
      "outputs": []
    },
    {
      "cell_type": "code",
      "metadata": {
        "id": "mQf1tREhVupe"
      },
      "source": [
        "#FORWARD PASS\n",
        "def forward_pass(input_tensor,params,n_layer=3):\n",
        "  a = input_tensor\n",
        "  for i in range(n_layer):\n",
        "    W = params[f'W{i+1}']\n",
        "    B = params[f'B{i+1}']\n",
        "\n",
        "    z = tf.matmul(a,W) + B \n",
        "    if i == n_layer-1:\n",
        "      a = tf.nn.sigmoid(z)\n",
        "    else:\n",
        "      a = tf.nn.sigmoid(z)\n",
        "\n",
        "  return a "
      ],
      "execution_count": null,
      "outputs": []
    },
    {
      "cell_type": "code",
      "metadata": {
        "id": "dbJPXcjHVxtf"
      },
      "source": [
        "def evaluate_accuracy(y, yhat):\n",
        "  yield (0.5 * (yhat - y)**2).sum(axis=1).mean()\n",
        "  yield accuracy_score(np.argmax(y, axis = 1), np.argmax(yhat, axis = 1))"
      ],
      "execution_count": null,
      "outputs": []
    },
    {
      "cell_type": "code",
      "metadata": {
        "colab": {
          "base_uri": "https://localhost:8080/"
        },
        "id": "xdxit05IVzl5",
        "outputId": "78321129-14c8-483b-98bf-5bbb952ebb3e"
      },
      "source": [
        "with tf.Session() as sess:\n",
        "  logits_tensor = forward_pass(input_tensor, parameters)\n",
        "  loss_tensor = tf.losses.mean_squared_error(label_tensor, logits_tensor)\n",
        "  true_preds_tensor = tf.equal(tf.argmax(logits_tensor, axis=1), tf.argmax(label_tensor, axis=1))\n",
        "  acc_tensor = tf.reduce_mean(tf.cast(true_preds_tensor, tf.float32))\n",
        "\n",
        "  optimiser = tf.train.GradientDescentOptimizer(learning_rate).minimize(loss_tensor)\n",
        "  sess.run(tf.global_variables_initializer())\n",
        "  for i in range(epochs):\n",
        "    sess.run(\n",
        "        optimiser,\n",
        "        feed_dict = {\n",
        "            input_tensor: x_train,\n",
        "            label_tensor: y_train\n",
        "        }\n",
        "    )\n",
        "\n",
        "    if i%200 == 0:\n",
        "      loss,acc = evaluate_accuracy(y_test,sess.run(\n",
        "          logits_tensor,\n",
        "          feed_dict = {\n",
        "              input_tensor: x_test,\n",
        "              label_tensor: y_test\n",
        "          }\n",
        "      ))\n",
        "      print(f'Epochs: ',i, ' ||Loss: ',loss, ' ||Accuracy: ', {acc*100},'%')"
      ],
      "execution_count": null,
      "outputs": [
        {
          "output_type": "stream",
          "text": [
            "Epochs:  0  ||Loss:  1.4163835  ||Accuracy:  {7.5} %\n",
            "Epochs:  200  ||Loss:  1.2803164  ||Accuracy:  {5.0} %\n",
            "Epochs:  400  ||Loss:  1.2012577  ||Accuracy:  {2.5} %\n",
            "Epochs:  600  ||Loss:  1.1523129  ||Accuracy:  {0.0} %\n",
            "Epochs:  800  ||Loss:  1.0462433  ||Accuracy:  {0.0} %\n",
            "Epochs:  1000  ||Loss:  0.8834484  ||Accuracy:  {0.0} %\n",
            "Epochs:  1200  ||Loss:  0.8254644  ||Accuracy:  {0.0} %\n",
            "Epochs:  1400  ||Loss:  0.80113614  ||Accuracy:  {0.0} %\n",
            "Epochs:  1600  ||Loss:  0.7721357  ||Accuracy:  {5.0} %\n",
            "Epochs:  1800  ||Loss:  0.7258875  ||Accuracy:  {5.0} %\n",
            "Epochs:  2000  ||Loss:  0.6543785  ||Accuracy:  {5.0} %\n",
            "Epochs:  2200  ||Loss:  0.5422106  ||Accuracy:  {12.5} %\n",
            "Epochs:  2400  ||Loss:  0.40864247  ||Accuracy:  {25.0} %\n",
            "Epochs:  2600  ||Loss:  0.31899554  ||Accuracy:  {50.0} %\n",
            "Epochs:  2800  ||Loss:  0.27593604  ||Accuracy:  {70.0} %\n",
            "Epochs:  3000  ||Loss:  0.25498202  ||Accuracy:  {72.5} %\n",
            "Epochs:  3200  ||Loss:  0.24204692  ||Accuracy:  {72.5} %\n",
            "Epochs:  3400  ||Loss:  0.23257633  ||Accuracy:  {72.5} %\n",
            "Epochs:  3600  ||Loss:  0.22498646  ||Accuracy:  {72.5} %\n",
            "Epochs:  3800  ||Loss:  0.21859995  ||Accuracy:  {72.5} %\n"
          ],
          "name": "stdout"
        }
      ]
    }
  ]
}